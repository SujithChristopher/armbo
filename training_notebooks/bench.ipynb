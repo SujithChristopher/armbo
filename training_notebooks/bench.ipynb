{
 "cells": [
  {
   "cell_type": "code",
   "execution_count": null,
   "metadata": {},
   "outputs": [],
   "source": [
    "from ultralytics import YOLO\n",
    "import numpy as np\n",
    "import cv2\n",
    "import matplotlib.pyplot as plt\n",
    "import os\n",
    "from ultralytics.utils.plotting import Annotator\n",
    "from ultralytics.utils.benchmarks import benchmark\n",
    "import yaml\n",
    "import ultralytics"
   ]
  },
  {
   "cell_type": "code",
   "execution_count": null,
   "metadata": {},
   "outputs": [],
   "source": [
    "# check if YOLO\n",
    "ultralytics.checks()"
   ]
  },
  {
   "cell_type": "code",
   "execution_count": null,
   "metadata": {},
   "outputs": [],
   "source": [
    "benchmark(\n",
    "    model=r\"D:\\CMC\\DeepVision\\training_notebooks\\runs\\pose\\train2\\weights\\last.pt\",\n",
    "    data=r\"D:\\CMC\\DeepVision\\dataset\\multi_class\\dataset.yaml\",\n",
    "    imgsz=640,\n",
    "    half=False,\n",
    "    device=0,\n",
    ")"
   ]
  }
 ],
 "metadata": {
  "kernelspec": {
   "display_name": "py115",
   "language": "python",
   "name": "python3"
  },
  "language_info": {
   "name": "python",
   "version": "3.11.5"
  }
 },
 "nbformat": 4,
 "nbformat_minor": 2
}
