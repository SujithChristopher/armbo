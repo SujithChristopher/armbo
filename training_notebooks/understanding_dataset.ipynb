{
 "cells": [
  {
   "cell_type": "code",
   "execution_count": 1,
   "metadata": {},
   "outputs": [],
   "source": [
    "import pandas as pd\n",
    "import polars as pl\n",
    "import numpy as np\n",
    "import os\n",
    "import sys"
   ]
  },
  {
   "cell_type": "code",
   "execution_count": 9,
   "metadata": {},
   "outputs": [
    {
     "data": {
      "text/plain": [
       "'c:\\\\Users\\\\CMC\\\\Documents\\\\openposelibs\\\\pose\\\\DeepVision\\\\ipy_notebooks\\\\..\\\\dataset\\\\coco8-pose\\\\labels\\train\\x00000000077.txt'"
      ]
     },
     "execution_count": 9,
     "metadata": {},
     "output_type": "execute_result"
    }
   ],
   "source": [
    "data_pth = os.path.join(os.getcwd(), \"..\",\"dataset\\coco8-pose\\labels\\train\\000000000077.txt\")\n",
    "data_pth"
   ]
  },
  {
   "cell_type": "code",
   "execution_count": 26,
   "metadata": {},
   "outputs": [],
   "source": [
    "df = pl.read_csv(r\"C:\\Users\\CMC\\Documents\\openposelibs\\pose\\DeepVision\\dataset\\coco8-pose\\labels\\train\\000000000077.txt\", separator=\" \", has_header=False)"
   ]
  },
  {
   "cell_type": "code",
   "execution_count": 27,
   "metadata": {},
   "outputs": [
    {
     "data": {
      "text/plain": [
       "56"
      ]
     },
     "execution_count": 27,
     "metadata": {},
     "output_type": "execute_result"
    }
   ],
   "source": [
    "len(df.columns)"
   ]
  },
  {
   "cell_type": "code",
   "execution_count": 28,
   "metadata": {},
   "outputs": [
    {
     "data": {
      "text/html": [
       "<div><style>\n",
       ".dataframe > thead > tr > th,\n",
       ".dataframe > tbody > tr > td {\n",
       "  text-align: right;\n",
       "}\n",
       "</style>\n",
       "<small>shape: (3, 56)</small><table border=\"1\" class=\"dataframe\"><thead><tr><th>column_1</th><th>column_2</th><th>column_3</th><th>column_4</th><th>column_5</th><th>column_6</th><th>column_7</th><th>column_8</th><th>column_9</th><th>column_10</th><th>column_11</th><th>column_12</th><th>column_13</th><th>column_14</th><th>column_15</th><th>column_16</th><th>column_17</th><th>column_18</th><th>column_19</th><th>column_20</th><th>column_21</th><th>column_22</th><th>column_23</th><th>column_24</th><th>column_25</th><th>column_26</th><th>column_27</th><th>column_28</th><th>column_29</th><th>column_30</th><th>column_31</th><th>column_32</th><th>column_33</th><th>column_34</th><th>column_35</th><th>column_36</th><th>column_37</th><th>column_38</th><th>column_39</th><th>column_40</th><th>column_41</th><th>column_42</th><th>column_43</th><th>column_44</th><th>column_45</th><th>column_46</th><th>column_47</th><th>column_48</th><th>column_49</th><th>column_50</th><th>column_51</th><th>column_52</th><th>column_53</th><th>column_54</th><th>column_55</th><th>column_56</th></tr><tr><td>i64</td><td>f64</td><td>f64</td><td>f64</td><td>f64</td><td>f64</td><td>f64</td><td>f64</td><td>f64</td><td>f64</td><td>f64</td><td>f64</td><td>f64</td><td>f64</td><td>f64</td><td>f64</td><td>f64</td><td>f64</td><td>f64</td><td>f64</td><td>f64</td><td>f64</td><td>f64</td><td>f64</td><td>f64</td><td>f64</td><td>f64</td><td>f64</td><td>f64</td><td>f64</td><td>f64</td><td>f64</td><td>f64</td><td>f64</td><td>f64</td><td>f64</td><td>f64</td><td>f64</td><td>f64</td><td>f64</td><td>f64</td><td>f64</td><td>f64</td><td>f64</td><td>f64</td><td>f64</td><td>f64</td><td>f64</td><td>f64</td><td>f64</td><td>f64</td><td>f64</td><td>f64</td><td>f64</td><td>f64</td><td>f64</td></tr></thead><tbody><tr><td>0</td><td>0.53553</td><td>0.308733</td><td>0.2069</td><td>0.317147</td><td>0.0</td><td>0.0</td><td>0.0</td><td>0.0</td><td>0.0</td><td>0.0</td><td>0.0</td><td>0.0</td><td>0.0</td><td>0.514</td><td>0.194667</td><td>2.0</td><td>0.534</td><td>0.213333</td><td>2.0</td><td>0.482</td><td>0.224</td><td>2.0</td><td>0.526</td><td>0.229333</td><td>2.0</td><td>0.462</td><td>0.186667</td><td>2.0</td><td>0.568</td><td>0.210667</td><td>2.0</td><td>0.446</td><td>0.165333</td><td>2.0</td><td>0.61</td><td>0.184</td><td>2.0</td><td>0.462</td><td>0.336</td><td>2.0</td><td>0.498</td><td>0.341333</td><td>2.0</td><td>0.462</td><td>0.368</td><td>2.0</td><td>0.536</td><td>0.290667</td><td>2.0</td><td>0.46</td><td>0.453333</td><td>2.0</td><td>0.508</td><td>0.376</td><td>2.0</td></tr><tr><td>0</td><td>0.73609</td><td>0.272987</td><td>0.18926</td><td>0.259413</td><td>0.0</td><td>0.0</td><td>0.0</td><td>0.0</td><td>0.0</td><td>0.0</td><td>0.762</td><td>0.184</td><td>2.0</td><td>0.0</td><td>0.0</td><td>0.0</td><td>0.754</td><td>0.178667</td><td>2.0</td><td>0.71</td><td>0.176</td><td>2.0</td><td>0.73</td><td>0.178667</td><td>2.0</td><td>0.674</td><td>0.189333</td><td>2.0</td><td>0.78</td><td>0.202667</td><td>2.0</td><td>0.652</td><td>0.218667</td><td>2.0</td><td>0.806</td><td>0.205333</td><td>2.0</td><td>0.66</td><td>0.245333</td><td>2.0</td><td>0.68</td><td>0.250667</td><td>2.0</td><td>0.708</td><td>0.304</td><td>2.0</td><td>0.736</td><td>0.293333</td><td>2.0</td><td>0.722</td><td>0.365333</td><td>2.0</td><td>0.714</td><td>0.373333</td><td>2.0</td></tr><tr><td>0</td><td>0.14666</td><td>0.667293</td><td>0.194</td><td>0.441093</td><td>0.0</td><td>0.0</td><td>0.0</td><td>0.0</td><td>0.0</td><td>0.0</td><td>0.0</td><td>0.0</td><td>0.0</td><td>0.0</td><td>0.0</td><td>0.0</td><td>0.18</td><td>0.498667</td><td>2.0</td><td>0.144</td><td>0.549333</td><td>2.0</td><td>0.198</td><td>0.541333</td><td>2.0</td><td>0.124</td><td>0.648</td><td>2.0</td><td>0.0</td><td>0.0</td><td>0.0</td><td>0.092</td><td>0.72</td><td>2.0</td><td>0.0</td><td>0.0</td><td>0.0</td><td>0.172</td><td>0.704</td><td>2.0</td><td>0.222</td><td>0.701333</td><td>2.0</td><td>0.102</td><td>0.746667</td><td>2.0</td><td>0.162</td><td>0.754667</td><td>2.0</td><td>0.13</td><td>0.856</td><td>2.0</td><td>0.17</td><td>0.829333</td><td>2.0</td></tr></tbody></table></div>"
      ],
      "text/plain": [
       "shape: (3, 56)\n",
       "┌──────────┬──────────┬──────────┬──────────┬───┬───────────┬───────────┬───────────┬───────────┐\n",
       "│ column_1 ┆ column_2 ┆ column_3 ┆ column_4 ┆ … ┆ column_53 ┆ column_54 ┆ column_55 ┆ column_56 │\n",
       "│ ---      ┆ ---      ┆ ---      ┆ ---      ┆   ┆ ---       ┆ ---       ┆ ---       ┆ ---       │\n",
       "│ i64      ┆ f64      ┆ f64      ┆ f64      ┆   ┆ f64       ┆ f64       ┆ f64       ┆ f64       │\n",
       "╞══════════╪══════════╪══════════╪══════════╪═══╪═══════════╪═══════════╪═══════════╪═══════════╡\n",
       "│ 0        ┆ 0.53553  ┆ 0.308733 ┆ 0.2069   ┆ … ┆ 2.0       ┆ 0.508     ┆ 0.376     ┆ 2.0       │\n",
       "│ 0        ┆ 0.73609  ┆ 0.272987 ┆ 0.18926  ┆ … ┆ 2.0       ┆ 0.714     ┆ 0.373333  ┆ 2.0       │\n",
       "│ 0        ┆ 0.14666  ┆ 0.667293 ┆ 0.194    ┆ … ┆ 2.0       ┆ 0.17      ┆ 0.829333  ┆ 2.0       │\n",
       "└──────────┴──────────┴──────────┴──────────┴───┴───────────┴───────────┴───────────┴───────────┘"
      ]
     },
     "execution_count": 28,
     "metadata": {},
     "output_type": "execute_result"
    }
   ],
   "source": [
    "df"
   ]
  },
  {
   "cell_type": "code",
   "execution_count": null,
   "metadata": {},
   "outputs": [],
   "source": []
  }
 ],
 "metadata": {
  "kernelspec": {
   "display_name": "py310",
   "language": "python",
   "name": "python3"
  },
  "language_info": {
   "codemirror_mode": {
    "name": "ipython",
    "version": 3
   },
   "file_extension": ".py",
   "mimetype": "text/x-python",
   "name": "python",
   "nbconvert_exporter": "python",
   "pygments_lexer": "ipython3",
   "version": "3.10.11"
  },
  "orig_nbformat": 4
 },
 "nbformat": 4,
 "nbformat_minor": 2
}
