{
 "cells": [
  {
   "cell_type": "code",
   "execution_count": 10,
   "metadata": {},
   "outputs": [],
   "source": [
    "import numpy as np\n",
    "import msgpack as mp\n",
    "import msgpack_numpy as mpn\n",
    "import cv2\n",
    "from cv2 import aruco\n",
    "import matplotlib.pyplot as plt\n",
    "import os\n",
    "import polars as pl\n",
    "import toml\n",
    "import sys\n",
    "\n",
    "sys.path.append(os.path.join(os.getcwd(), \"..\"))\n",
    "from support.pd_support import *\n",
    "\n",
    "from datetime import datetime\n",
    "from support.pd_support import *\n",
    "from support.ar_calculations import *\n",
    "\n",
    "import toml\n",
    "\n",
    "import plotly.io as pio\n",
    "from tqdm import tqdm\n",
    "import seaborn as sns\n",
    "\n",
    "pio.renderers.default = \"vscode\""
   ]
  },
  {
   "cell_type": "code",
   "execution_count": 11,
   "metadata": {},
   "outputs": [],
   "source": [
    "_base_dir = os.path.join(\n",
    "    os.path.abspath(os.path.join(os.getcwd(), \"..\")),\n",
    "    \"recorded_data\",\n",
    "    \"five_marker_validation\",\n",
    ")\n",
    "\n",
    "settings = toml.load(\"calibration.toml\")\n",
    "_webcam_cam_mat = np.array(settings[\"calibration\"][\"camera_matrix\"]).reshape((3, 3))\n",
    "_webcam_dist = np.array(settings[\"calibration\"][\"dist_coeffs\"]).reshape((1, 5))\n",
    "\n",
    "_folder_list = os.listdir(_base_dir)[8:11]  # sideways"
   ]
  },
  {
   "cell_type": "markdown",
   "metadata": {},
   "source": [
    "MOCAP data"
   ]
  },
  {
   "cell_type": "code",
   "execution_count": 12,
   "metadata": {},
   "outputs": [],
   "source": [
    "m1 = get_rb_marker_name(2)\n",
    "m4 = get_rb_marker_name(4)\n",
    "m3 = get_rb_marker_name(3)\n",
    "m5 = get_rb_marker_name(5)"
   ]
  },
  {
   "cell_type": "markdown",
   "metadata": {},
   "source": [
    "Getting Sync pulse from Teensy"
   ]
  },
  {
   "cell_type": "code",
   "execution_count": 13,
   "metadata": {},
   "outputs": [],
   "source": [
    "def estimatePoseSingleMarkers(corners, marker_size, mtx, distortion):\n",
    "    marker_points = np.array(\n",
    "        [\n",
    "            [-marker_size / 2, marker_size / 2, 0],\n",
    "            [marker_size / 2, marker_size / 2, 0],\n",
    "            [marker_size / 2, -marker_size / 2, 0],\n",
    "            [-marker_size / 2, -marker_size / 2, 0],\n",
    "        ],\n",
    "        dtype=np.float32,\n",
    "    )\n",
    "    trash = []\n",
    "    rvecs = []\n",
    "    tvecs = []\n",
    "    for c in corners:\n",
    "        nada, R, t = cv2.solvePnP(\n",
    "            marker_points, c, mtx, distortion, True, flags=cv2.SOLVEPNP_ITERATIVE\n",
    "        )\n",
    "\n",
    "        if not (R is None or t is None):\n",
    "            R = np.array(R).reshape(1, 3).tolist()\n",
    "            t = np.array(t).reshape(1, 3).tolist()\n",
    "\n",
    "        rvecs.append(R)\n",
    "        tvecs.append(t)\n",
    "    return rvecs, tvecs"
   ]
  },
  {
   "cell_type": "code",
   "execution_count": 14,
   "metadata": {},
   "outputs": [
    {
     "data": {
      "text/plain": [
       "['speed_2', 'speed_3', 'speed_4']"
      ]
     },
     "execution_count": 14,
     "metadata": {},
     "output_type": "execute_result"
    }
   ],
   "source": [
    "_folder_list"
   ]
  },
  {
   "cell_type": "code",
   "execution_count": 15,
   "metadata": {},
   "outputs": [],
   "source": [
    "ARUCO_PARAMETERS = aruco.DetectorParameters()\n",
    "ARUCO_DICT = aruco.getPredefinedDictionary(aruco.DICT_ARUCO_MIP_36H12)\n",
    "detector = aruco.ArucoDetector(ARUCO_DICT, ARUCO_PARAMETERS)\n",
    "markerLength = 0.05\n",
    "markerSeperation = 0.01\n",
    "\n",
    "board = aruco.GridBoard(\n",
    "    size=[1, 1],\n",
    "    markerLength=markerLength,\n",
    "    markerSeparation=markerSeperation,\n",
    "    dictionary=ARUCO_DICT,\n",
    ")"
   ]
  },
  {
   "cell_type": "code",
   "execution_count": 16,
   "metadata": {},
   "outputs": [
    {
     "name": "stdout",
     "output_type": "stream",
     "text": [
      "[False False False ... False False False]\n"
     ]
    },
    {
     "name": "stderr",
     "output_type": "stream",
     "text": [
      "100%|██████████| 5370/5370 [00:01<00:00, 3862.11it/s]\n",
      "e:\\CMC\\pyprojects\\DeepVision\\wearable\\..\\support\\pd_support.py:326: FutureWarning:\n",
      "\n",
      "errors='ignore' is deprecated and will raise in a future version. Use to_numeric without passing `errors` and catch exceptions explicitly instead\n",
      "\n",
      "C:\\Users\\Pintu\\AppData\\Local\\Temp\\ipykernel_67364\\2621854777.py:181: DeprecationWarning:\n",
      "\n",
      "`GroupBy.count` is deprecated. It has been renamed to `len`.\n",
      "\n"
     ]
    },
    {
     "name": "stdout",
     "output_type": "stream",
     "text": [
      "[False False False ... False False False]\n"
     ]
    },
    {
     "name": "stderr",
     "output_type": "stream",
     "text": [
      "100%|██████████| 5567/5567 [00:01<00:00, 3893.96it/s]\n",
      "e:\\CMC\\pyprojects\\DeepVision\\wearable\\..\\support\\pd_support.py:326: FutureWarning:\n",
      "\n",
      "errors='ignore' is deprecated and will raise in a future version. Use to_numeric without passing `errors` and catch exceptions explicitly instead\n",
      "\n",
      "C:\\Users\\Pintu\\AppData\\Local\\Temp\\ipykernel_67364\\2621854777.py:181: DeprecationWarning:\n",
      "\n",
      "`GroupBy.count` is deprecated. It has been renamed to `len`.\n",
      "\n"
     ]
    },
    {
     "name": "stdout",
     "output_type": "stream",
     "text": [
      "[False False False ... False False False]\n"
     ]
    },
    {
     "name": "stderr",
     "output_type": "stream",
     "text": [
      "100%|██████████| 5797/5797 [00:01<00:00, 3014.55it/s]\n",
      "e:\\CMC\\pyprojects\\DeepVision\\wearable\\..\\support\\pd_support.py:326: FutureWarning:\n",
      "\n",
      "errors='ignore' is deprecated and will raise in a future version. Use to_numeric without passing `errors` and catch exceptions explicitly instead\n",
      "\n",
      "C:\\Users\\Pintu\\AppData\\Local\\Temp\\ipykernel_67364\\2621854777.py:181: DeprecationWarning:\n",
      "\n",
      "`GroupBy.count` is deprecated. It has been renamed to `len`.\n",
      "\n"
     ]
    }
   ],
   "source": [
    "results = {\n",
    "    \"ar_df\": [],\n",
    "    \"ar_dt\": [],\n",
    "    \"mc_xdf\": [],\n",
    "    \"mc_dt\": [],\n",
    "    \"time_offset\": [],\n",
    "    \"vel_bins\": [],\n",
    "    \"mc_df\": [],\n",
    "    \"mc_xdf\": [],\n",
    "    \"folder_name\": [],\n",
    "}\n",
    "for _folder_name in _folder_list:\n",
    "    ts_pth = os.path.join(\n",
    "        os.path.join(_base_dir, _folder_name, \"webcam_timestamp.msgpack\")\n",
    "    )\n",
    "    with open(ts_pth, \"rb\") as ts_file:\n",
    "        ts_unpacker = mp.Unpacker(ts_file, object_hook=mpn.decode)\n",
    "        ts = list(ts_unpacker)\n",
    "\n",
    "    _time = np.array(ts)[:, 1]\n",
    "    _time = [datetime.strptime(_t, \"%Y-%m-%d %H:%M:%S.%f\") for _t in _time]\n",
    "    _sync = np.array(ts)[:, 0].astype(bool)\n",
    "\n",
    "    for idx, _s in enumerate(_sync):\n",
    "        if _s:\n",
    "            sync_start_idx = idx\n",
    "            break\n",
    "\n",
    "    _sync_index = _sync[sync_start_idx:]\n",
    "\n",
    "    for idx, _s in enumerate(_sync_index):\n",
    "        if not _s:\n",
    "            sync_end_idx = idx\n",
    "            break\n",
    "    print(_sync)\n",
    "\n",
    "    sync_end_idx = sync_start_idx + sync_end_idx\n",
    "\n",
    "    sync_start_time = _time[sync_start_idx]\n",
    "    sync_end_time = _time[sync_end_idx]\n",
    "\n",
    "    # reading video\n",
    "    _video = open(os.path.join(_base_dir, _folder_name, \"webcam_color.msgpack\"), \"rb\")\n",
    "    _video_file = mp.Unpacker(_video, object_hook=mpn.decode)\n",
    "    corners_data = list(_video_file)\n",
    "    shape = corners_data[0]\n",
    "\n",
    "    data = {\"frame_id\": [], \"marker_ids\": [], \"corners\": [], \"tvec\": [], \"rvec\": []}\n",
    "    counter = 0\n",
    "\n",
    "    for _frame in tqdm(corners_data[1:]):\n",
    "        corners, ids = _frame\n",
    "\n",
    "        if ids is None:\n",
    "            data[\"frame_id\"].append(counter)\n",
    "            data[\"marker_ids\"].append(None)\n",
    "            data[\"corners\"].append(None)\n",
    "            data[\"tvec\"].append(None)\n",
    "            data[\"rvec\"].append(None)\n",
    "\n",
    "        if ids is not None:\n",
    "            rvec, tvec = estimatePoseSingleMarkers(\n",
    "                corners=corners,\n",
    "                marker_size=0.05,\n",
    "                mtx=_webcam_cam_mat,\n",
    "                distortion=_webcam_dist,\n",
    "            )\n",
    "            data[\"frame_id\"].append(counter)\n",
    "            data[\"marker_ids\"].append(ids)\n",
    "            data[\"corners\"].append(corners)\n",
    "            data[\"tvec\"].append(tvec)\n",
    "            data[\"rvec\"].append(rvec)\n",
    "        counter += 1\n",
    "\n",
    "    # coordinates\n",
    "    default_ids = [12, 14, 20, 88, 89]\n",
    "    coordinate = {\n",
    "        str(id): {\"x\": [], \"y\": [], \"z\": [], \"rx\": [], \"ry\": [], \"rz\": []}\n",
    "        for id in default_ids\n",
    "    }\n",
    "\n",
    "    for i, frame_id in enumerate(data[\"frame_id\"]):\n",
    "        if data[\"marker_ids\"][i] is not None:\n",
    "            existing_ids = set(data[\"marker_ids\"][i].reshape(-1))\n",
    "            missing_ids = set(default_ids) - existing_ids\n",
    "\n",
    "            for _m, tvec, rvec in zip(\n",
    "                data[\"marker_ids\"][i], data[\"tvec\"][i], data[\"rvec\"][i]\n",
    "            ):\n",
    "                if _m in default_ids:\n",
    "                    coord = coordinate[str(_m[0])]\n",
    "                    coord[\"x\"].append(tvec[0][0])\n",
    "                    coord[\"y\"].append(tvec[0][1])\n",
    "                    coord[\"z\"].append(tvec[0][2])\n",
    "                    coord[\"rx\"].append(rvec[0][0])\n",
    "                    coord[\"ry\"].append(rvec[0][1])\n",
    "                    coord[\"rz\"].append(rvec[0][2])\n",
    "\n",
    "            for _m in missing_ids:\n",
    "                coord = coordinate[str(_m)]\n",
    "                coord[\"x\"].append(np.nan)\n",
    "                coord[\"y\"].append(np.nan)\n",
    "                coord[\"z\"].append(np.nan)\n",
    "                coord[\"rx\"].append(np.nan)\n",
    "                coord[\"ry\"].append(np.nan)\n",
    "                coord[\"rz\"].append(np.nan)\n",
    "        else:\n",
    "            for _m in default_ids:\n",
    "                coord = coordinate[str(_m)]\n",
    "                coord[\"x\"].append(np.nan)\n",
    "                coord[\"y\"].append(np.nan)\n",
    "                coord[\"z\"].append(np.nan)\n",
    "                coord[\"rx\"].append(np.nan)\n",
    "                coord[\"ry\"].append(np.nan)\n",
    "                coord[\"rz\"].append(np.nan)\n",
    "\n",
    "    # creating dataframe\n",
    "    ar_df = pl.from_dict(coordinate[\"89\"])\n",
    "    ar_df = ar_df.insert_column(-1, pl.Series(\"time\", _time))\n",
    "\n",
    "    rvec = ar_df[[\"rx\", \"ry\", \"rz\"]][0].to_numpy()\n",
    "\n",
    "    ar_rotmat = cv2.Rodrigues(rvec)[0]\n",
    "\n",
    "    tar = ar_rotmat.T @ (\n",
    "        ar_df[[\"x\", \"y\", \"z\"]].to_numpy().T - ar_df[[\"x\", \"y\", \"z\"]][0].to_numpy().T\n",
    "    )\n",
    "    # _ar_df = pl.DataFrame({\"time\":ts,\"x\":tar[0], \"y\":tar[1], \"z\":tar[2], \"rx\":coordinate['89'][\"rx\"], \"ry\":coordinate['89'][\"ry\"], \"rz\":coordinate['89'][\"rz\"]})\n",
    "    _ar_df = pl.DataFrame({\"time\": _time, \"x\": tar[0], \"y\": tar[1], \"z\": tar[2]})\n",
    "\n",
    "    _mocap_pth = os.path.join(\n",
    "        os.path.abspath(os.path.join(os.getcwd(), \"..\")),\n",
    "        \"recorded_data\",\n",
    "        \"five_marker_validation\",\n",
    "        \"mocap\",\n",
    "        f\"{_folder_name}.csv\",\n",
    "    )\n",
    "    _mocap_df, st_time = read_rigid_body_csv(_mocap_pth)\n",
    "    _mocap_df = add_datetime_col(_mocap_df, st_time, \"seconds\")\n",
    "    _mocap_df = pl.from_pandas(_mocap_df)\n",
    "\n",
    "    cumulative = (\n",
    "        _mocap_df[[m1[\"x\"], m1[\"y\"], m1[\"z\"]]].to_numpy().T\n",
    "        + _mocap_df[[m4[\"x\"], m4[\"y\"], m4[\"z\"]]].to_numpy().T\n",
    "        + _mocap_df[[m3[\"x\"], m3[\"y\"], m3[\"z\"]]].to_numpy().T\n",
    "        + _mocap_df[[m5[\"x\"], m5[\"y\"], m5[\"z\"]]].to_numpy().T\n",
    "    )\n",
    "    cumulative = cumulative / 4\n",
    "\n",
    "    _m_df = pl.DataFrame(\n",
    "        {\n",
    "            \"time\": _mocap_df[\"time\"],\n",
    "            \"x\": cumulative[0],\n",
    "            \"y\": cumulative[1],\n",
    "            \"z\": cumulative[2],\n",
    "        }\n",
    "    )\n",
    "\n",
    "    _mc_org = _mocap_df[[m3[\"x\"], m3[\"y\"], m3[\"z\"]]][0].to_numpy().T\n",
    "    _mc_xvec = _mocap_df[[m5[\"x\"], m5[\"y\"], m5[\"z\"]]][0].to_numpy().T\n",
    "    _mc_yvec = _mocap_df[[m1[\"x\"], m1[\"y\"], m1[\"z\"]]][0].to_numpy().T\n",
    "\n",
    "    _mc_rotmat = calculate_rotmat_from_xyo(_mc_xvec, _mc_yvec, _mc_org)\n",
    "\n",
    "    tmc = _mc_rotmat.T @ (\n",
    "        _m_df[[\"x\", \"y\", \"z\"]].to_numpy().T - _m_df[[\"x\", \"y\", \"z\"]][0].to_numpy().T\n",
    "    )\n",
    "    _mc_df = pl.DataFrame(\n",
    "        {\"time\": _mocap_df[\"time\"], \"x\": tmc[0], \"y\": tmc[1], \"z\": tmc[2]}\n",
    "    )\n",
    "\n",
    "    # velocity_cuts = np.nanmax(abs(_mc_df['x'].diff()/0.01))/12\n",
    "    velocity_cuts = 0.6 / 12\n",
    "    _vel_bins = []\n",
    "    for i in range(12):\n",
    "        _vel_bins.append((i) * velocity_cuts)\n",
    "\n",
    "    bin_idx = np.digitize(abs(_mc_df[\"x\"].diff() / 0.01), bins=_vel_bins, right=True)\n",
    "    bin_df = pl.Series(\"bin\", bin_idx)\n",
    "    _mc_df.insert_column(4, bin_df)\n",
    "    _mc_df.group_by(\"bin\", maintain_order=True).count()\n",
    "\n",
    "    # _time_offset = ar_df['time'][idx] - ar_df['time'][0]\n",
    "\n",
    "    # interpolate teensy data to match aruco data\n",
    "\n",
    "    ar_df = ar_df[sync_start_idx:sync_end_idx]\n",
    "    _new_time = _time[sync_start_idx:sync_end_idx]\n",
    "    _ar_df_test = ar_df.clone()\n",
    "    _ar_df_test = _ar_df_test[sync_start_idx:sync_end_idx]\n",
    "\n",
    "    _data_time_offset = _new_time[0] - _mocap_df[\"time\"][0]\n",
    "    _ar_df_test = _ar_df_test.with_columns(\n",
    "        [(pl.col(\"time\") - _data_time_offset).alias(\"time\")]\n",
    "    )\n",
    "    _ar_df = _ar_df_test\n",
    "\n",
    "    ar_time = _ar_df[\"time\"].dt.epoch()\n",
    "    ar_time = ar_time - ar_time[0]\n",
    "    ar_time = [timedelta(microseconds=t).total_seconds() for t in ar_time]\n",
    "    ar_time = np.array(ar_time)\n",
    "\n",
    "    mc_time = _mocap_df[\"time\"].dt.epoch()\n",
    "    mc_time = mc_time - mc_time[0]\n",
    "    mc_time = [timedelta(microseconds=t).total_seconds() for t in mc_time]\n",
    "    mc_time = np.array(mc_time)\n",
    "\n",
    "    ar_del_t = _ar_df[\"time\"].diff().mean() / 10**6\n",
    "    mc_del_t = 0.01\n",
    "\n",
    "    f = interp1d(\n",
    "        _mc_df[\"time\"].dt.epoch(), _mc_df[\"x\"], kind=\"linear\", fill_value=\"extrapolate\"\n",
    "    )  # You can also use 'cubic' or other interpolation methods\n",
    "    _mc_x = f(_ar_df[\"time\"].dt.epoch())\n",
    "    _mc_xdf = pl.DataFrame({\"time\": _ar_df[\"time\"], \"x\": _mc_x})\n",
    "\n",
    "    bin_idx = np.digitize(\n",
    "        abs(_mc_xdf[\"x\"].diff() / ar_del_t), bins=_vel_bins, right=True\n",
    "    )\n",
    "    bin_df = pl.Series(\"bin\", bin_idx)\n",
    "    _mc_xdf.insert_column(2, bin_df)\n",
    "    _ar_df.insert_column(len(_ar_df.columns), bin_df)\n",
    "\n",
    "    results[\"ar_df\"].append(_ar_df)\n",
    "    results[\"ar_dt\"].append(ar_del_t)\n",
    "    results[\"mc_xdf\"].append(_mc_xdf)\n",
    "    results[\"mc_dt\"].append(mc_del_t)\n",
    "    results[\"time_offset\"].append(0)\n",
    "    results[\"vel_bins\"].append(_vel_bins)\n",
    "    results[\"mc_df\"].append(_mc_df)\n",
    "    results[\"mc_xdf\"].append(_mc_xdf)\n",
    "    results[\"folder_name\"].append(_folder_name)"
   ]
  },
  {
   "cell_type": "code",
   "execution_count": 17,
   "metadata": {},
   "outputs": [],
   "source": [
    "histograms = []"
   ]
  },
  {
   "cell_type": "code",
   "execution_count": 18,
   "metadata": {},
   "outputs": [],
   "source": [
    "missing_percent_one = []\n",
    "missing_percent_all = []\n",
    "\n",
    "for j in range(len(results[\"ar_df\"])):\n",
    "    for i in range(\n",
    "        len(\n",
    "            results[\"ar_df\"][0]\n",
    "            .group_by(\"bin\", maintain_order=False)\n",
    "            .agg(pl.col(\"x\"))[\"x\"]\n",
    "        )\n",
    "    ):\n",
    "        missing_percent_one.append(\n",
    "            1\n",
    "            - results[\"ar_df\"][j]\n",
    "            .group_by(\"bin\", maintain_order=False)\n",
    "            .agg(pl.col(\"x\"))[\"x\"][i]\n",
    "            .is_nan()\n",
    "            .sum()\n",
    "            / len(\n",
    "                results[\"ar_df\"][j]\n",
    "                .group_by(\"bin\", maintain_order=False)\n",
    "                .agg(pl.col(\"x\"))[\"x\"][i]\n",
    "            )\n",
    "        )\n",
    "    missing_percent_one = np.array(missing_percent_one) * 100\n",
    "    missing_percent_all.append(missing_percent_one)\n",
    "    missing_percent_one = []"
   ]
  },
  {
   "cell_type": "code",
   "execution_count": 21,
   "metadata": {},
   "outputs": [
    {
     "data": {
      "text/plain": [
       "[shape: (4_560, 8)\n",
       " ┌───────────┬──────────┬──────────┬───────────┬───────────┬─────────────────┬───────────┬─────┐\n",
       " │ x         ┆ y        ┆ z        ┆ rx        ┆ ry        ┆ time            ┆ rz        ┆ bin │\n",
       " │ ---       ┆ ---      ┆ ---      ┆ ---       ┆ ---       ┆ ---             ┆ ---       ┆ --- │\n",
       " │ f64       ┆ f64      ┆ f64      ┆ f64       ┆ f64       ┆ datetime[μs]    ┆ f64       ┆ i64 │\n",
       " ╞═══════════╪══════════╪══════════╪═══════════╪═══════════╪═════════════════╪═══════════╪═════╡\n",
       " │ 0.001266  ┆ 0.041125 ┆ 0.451372 ┆ 3.019953  ┆ 0.040987  ┆ 2024-07-20      ┆ -0.244147 ┆ 12  │\n",
       " │           ┆          ┆          ┆           ┆           ┆ 16:01:31.045814 ┆           ┆     │\n",
       " │ 0.001559  ┆ 0.041081 ┆ 0.453256 ┆ 2.971865  ┆ 0.03929   ┆ 2024-07-20      ┆ -0.082952 ┆ 12  │\n",
       " │           ┆          ┆          ┆           ┆           ┆ 16:01:31.063630 ┆           ┆     │\n",
       " │ 0.001559  ┆ 0.041081 ┆ 0.453256 ┆ 2.971865  ┆ 0.03929   ┆ 2024-07-20      ┆ -0.082952 ┆ 12  │\n",
       " │           ┆          ┆          ┆           ┆           ┆ 16:01:31.084355 ┆           ┆     │\n",
       " │ 0.001465  ┆ 0.041097 ┆ 0.452826 ┆ 3.013574  ┆ 0.037826  ┆ 2024-07-20      ┆ -0.027047 ┆ 12  │\n",
       " │           ┆          ┆          ┆           ┆           ┆ 16:01:31.100725 ┆           ┆     │\n",
       " │ 0.001266  ┆ 0.041125 ┆ 0.451372 ┆ 3.019953  ┆ 0.040987  ┆ 2024-07-20      ┆ -0.244147 ┆ 12  │\n",
       " │           ┆          ┆          ┆           ┆           ┆ 16:01:31.115510 ┆           ┆     │\n",
       " │ …         ┆ …        ┆ …        ┆ …         ┆ …         ┆ …               ┆ …         ┆ …   │\n",
       " │ -0.093652 ┆ 0.04409  ┆ 0.544407 ┆ 3.073273  ┆ 0.056302  ┆ 2024-07-20      ┆ -0.217706 ┆ 12  │\n",
       " │           ┆          ┆          ┆           ┆           ┆ 16:02:43.299639 ┆           ┆     │\n",
       " │ -0.092977 ┆ 0.044018 ┆ 0.541498 ┆ 3.068738  ┆ 0.045056  ┆ 2024-07-20      ┆ -0.206204 ┆ 12  │\n",
       " │           ┆          ┆          ┆           ┆           ┆ 16:02:43.314757 ┆           ┆     │\n",
       " │ -0.092977 ┆ 0.044018 ┆ 0.541498 ┆ 3.068738  ┆ 0.045056  ┆ 2024-07-20      ┆ -0.206204 ┆ 12  │\n",
       " │           ┆          ┆          ┆           ┆           ┆ 16:02:43.329935 ┆           ┆     │\n",
       " │ -0.092977 ┆ 0.044018 ┆ 0.541498 ┆ 3.068738  ┆ 0.045056  ┆ 2024-07-20      ┆ -0.206204 ┆ 12  │\n",
       " │           ┆          ┆          ┆           ┆           ┆ 16:02:43.345515 ┆           ┆     │\n",
       " │ -0.093177 ┆ 0.044004 ┆ 0.541562 ┆ -3.211981 ┆ -0.049298 ┆ 2024-07-20      ┆ 0.249296  ┆ 12  │\n",
       " │           ┆          ┆          ┆           ┆           ┆ 16:02:43.361618 ┆           ┆     │\n",
       " └───────────┴──────────┴──────────┴───────────┴───────────┴─────────────────┴───────────┴─────┘,\n",
       " shape: (4_680, 8)\n",
       " ┌───────────┬──────────┬──────────┬──────────┬───────────┬─────────────────┬───────────┬─────┐\n",
       " │ x         ┆ y        ┆ z        ┆ rx       ┆ ry        ┆ time            ┆ rz        ┆ bin │\n",
       " │ ---       ┆ ---      ┆ ---      ┆ ---      ┆ ---       ┆ ---             ┆ ---       ┆ --- │\n",
       " │ f64       ┆ f64      ┆ f64      ┆ f64      ┆ f64       ┆ datetime[μs]    ┆ f64       ┆ i64 │\n",
       " ╞═══════════╪══════════╪══════════╪══════════╪═══════════╪═════════════════╪═══════════╪═════╡\n",
       " │ -0.00174  ┆ 0.041284 ┆ 0.454418 ┆ 2.94703  ┆ 0.049257  ┆ 2024-07-20      ┆ 0.070747  ┆ 12  │\n",
       " │           ┆          ┆          ┆          ┆           ┆ 16:03:44.653986 ┆           ┆     │\n",
       " │ -0.001517 ┆ 0.041589 ┆ 0.454941 ┆ 3.136539 ┆ 0.049799  ┆ 2024-07-20      ┆ 0.007809  ┆ 12  │\n",
       " │           ┆          ┆          ┆          ┆           ┆ 16:03:44.669140 ┆           ┆     │\n",
       " │ -0.001528 ┆ 0.041173 ┆ 0.454026 ┆ 2.995013 ┆ 0.039269  ┆ 2024-07-20      ┆ -0.169299 ┆ 12  │\n",
       " │           ┆          ┆          ┆          ┆           ┆ 16:03:44.683777 ┆           ┆     │\n",
       " │ -0.001081 ┆ 0.04082  ┆ 0.451654 ┆ 2.994468 ┆ 0.053949  ┆ 2024-07-20      ┆ 0.158102  ┆ 12  │\n",
       " │           ┆          ┆          ┆          ┆           ┆ 16:03:44.698603 ┆           ┆     │\n",
       " │ -0.001301 ┆ 0.041103 ┆ 0.453567 ┆ 2.976225 ┆ 0.03875   ┆ 2024-07-20      ┆ -0.078957 ┆ 12  │\n",
       " │           ┆          ┆          ┆          ┆           ┆ 16:03:44.714104 ┆           ┆     │\n",
       " │ …         ┆ …        ┆ …        ┆ …        ┆ …         ┆ …               ┆ …         ┆ …   │\n",
       " │ -0.014802 ┆ 0.044457 ┆ 0.506509 ┆ -3.17    ┆ -0.036497 ┆ 2024-07-20      ┆ 0.188136  ┆ 12  │\n",
       " │           ┆          ┆          ┆          ┆           ┆ 16:04:55.451041 ┆           ┆     │\n",
       " │ -0.01454  ┆ 0.044545 ┆ 0.509204 ┆ 3.113003 ┆ 0.036192  ┆ 2024-07-20      ┆ 0.04493   ┆ 12  │\n",
       " │           ┆          ┆          ┆          ┆           ┆ 16:04:55.465993 ┆           ┆     │\n",
       " │ -0.014802 ┆ 0.044457 ┆ 0.506509 ┆ -3.17    ┆ -0.036497 ┆ 2024-07-20      ┆ 0.188136  ┆ 12  │\n",
       " │           ┆          ┆          ┆          ┆           ┆ 16:04:55.480685 ┆           ┆     │\n",
       " │ -0.014802 ┆ 0.044457 ┆ 0.506509 ┆ -3.17    ┆ -0.036497 ┆ 2024-07-20      ┆ 0.188136  ┆ 12  │\n",
       " │           ┆          ┆          ┆          ┆           ┆ 16:04:55.496226 ┆           ┆     │\n",
       " │ -0.014802 ┆ 0.044457 ┆ 0.506509 ┆ -3.17    ┆ -0.036497 ┆ 2024-07-20      ┆ 0.188136  ┆ 12  │\n",
       " │           ┆          ┆          ┆          ┆           ┆ 16:04:55.511531 ┆           ┆     │\n",
       " └───────────┴──────────┴──────────┴──────────┴───────────┴─────────────────┴───────────┴─────┘,\n",
       " shape: (4_861, 8)\n",
       " ┌───────────┬──────────┬──────────┬───────────┬───────────┬─────────────────┬───────────┬─────┐\n",
       " │ x         ┆ y        ┆ z        ┆ rx        ┆ ry        ┆ time            ┆ rz        ┆ bin │\n",
       " │ ---       ┆ ---      ┆ ---      ┆ ---       ┆ ---       ┆ ---             ┆ ---       ┆ --- │\n",
       " │ f64       ┆ f64      ┆ f64      ┆ f64       ┆ f64       ┆ datetime[μs]    ┆ f64       ┆ i64 │\n",
       " ╞═══════════╪══════════╪══════════╪═══════════╪═══════════╪═════════════════╪═══════════╪═════╡\n",
       " │ -0.106037 ┆ 0.042841 ┆ 0.518838 ┆ -3.147738 ┆ -0.072349 ┆ 2024-07-20      ┆ -0.081278 ┆ 12  │\n",
       " │           ┆          ┆          ┆           ┆           ┆ 16:05:35.153181 ┆           ┆     │\n",
       " │ -0.118628 ┆ 0.042153 ┆ 0.51808  ┆ -3.233535 ┆ -0.047114 ┆ 2024-07-20      ┆ 0.062969  ┆ 12  │\n",
       " │           ┆          ┆          ┆           ┆           ┆ 16:05:35.167689 ┆           ┆     │\n",
       " │ -0.124551 ┆ 0.042146 ┆ 0.518364 ┆ -3.243363 ┆ -0.04776  ┆ 2024-07-20      ┆ 0.105035  ┆ 12  │\n",
       " │           ┆          ┆          ┆           ┆           ┆ 16:05:35.183286 ┆           ┆     │\n",
       " │ -0.138255 ┆ 0.041991 ┆ 0.522235 ┆ -3.204123 ┆ -0.035333 ┆ 2024-07-20      ┆ 0.05807   ┆ 12  │\n",
       " │           ┆          ┆          ┆           ┆           ┆ 16:05:35.198921 ┆           ┆     │\n",
       " │ -0.152101 ┆ 0.04222  ┆ 0.529591 ┆ -3.207965 ┆ -0.042313 ┆ 2024-07-20      ┆ -0.025989 ┆ 12  │\n",
       " │           ┆          ┆          ┆           ┆           ┆ 16:05:35.213179 ┆           ┆     │\n",
       " │ …         ┆ …        ┆ …        ┆ …         ┆ …         ┆ …               ┆ …         ┆ …   │\n",
       " │ 0.02944   ┆ 0.045188 ┆ 0.499373 ┆ -3.126811 ┆ -0.046066 ┆ 2024-07-20      ┆ 0.062756  ┆ 12  │\n",
       " │           ┆          ┆          ┆           ┆           ┆ 16:06:49.335385 ┆           ┆     │\n",
       " │ 0.02944   ┆ 0.045188 ┆ 0.499373 ┆ -3.126811 ┆ -0.046066 ┆ 2024-07-20      ┆ 0.062756  ┆ 12  │\n",
       " │           ┆          ┆          ┆           ┆           ┆ 16:06:49.351295 ┆           ┆     │\n",
       " │ 0.02944   ┆ 0.045188 ┆ 0.499373 ┆ -3.126811 ┆ -0.046066 ┆ 2024-07-20      ┆ 0.062756  ┆ 12  │\n",
       " │           ┆          ┆          ┆           ┆           ┆ 16:06:49.365277 ┆           ┆     │\n",
       " │ 0.029239  ┆ 0.044709 ┆ 0.49522  ┆ 3.065611  ┆ 0.045405  ┆ 2024-07-20      ┆ 0.187644  ┆ 12  │\n",
       " │           ┆          ┆          ┆           ┆           ┆ 16:06:49.379793 ┆           ┆     │\n",
       " │ 0.029092  ┆ 0.044914 ┆ 0.499027 ┆ 3.0776    ┆ 0.029216  ┆ 2024-07-20      ┆ -0.271176 ┆ 12  │\n",
       " │           ┆          ┆          ┆           ┆           ┆ 16:06:49.395650 ┆           ┆     │\n",
       " └───────────┴──────────┴──────────┴───────────┴───────────┴─────────────────┴───────────┴─────┘]"
      ]
     },
     "execution_count": 21,
     "metadata": {},
     "output_type": "execute_result"
    }
   ],
   "source": [
    "bin_numbers = [\"1\", \"2\", \"3\", \"4\", \"5\", \"6\", \"7\"]\n",
    "missing_percentage = []\n",
    "for i in bin_numbers:\n",
    "    missing_percentage.append(\n",
    "        _ar_df[\"x\"][bins_idx[i]].is_nan().sum() / len(_ar_df[\"x\"][bins_idx[i]])\n",
    "    )"
   ]
  },
  {
   "cell_type": "code",
   "execution_count": 19,
   "metadata": {},
   "outputs": [
    {
     "data": {
      "text/plain": [
       "[array([91.88596491]), array([90.42735043]), array([87.84200782])]"
      ]
     },
     "execution_count": 19,
     "metadata": {},
     "output_type": "execute_result"
    }
   ],
   "source": [
    "missing_percent_all"
   ]
  },
  {
   "cell_type": "code",
   "execution_count": 20,
   "metadata": {},
   "outputs": [
    {
     "ename": "ShapeError",
     "evalue": "12 column names provided for a DataFrame of width 1",
     "output_type": "error",
     "traceback": [
      "\u001b[1;31m---------------------------------------------------------------------------\u001b[0m",
      "\u001b[1;31mShapeError\u001b[0m                                Traceback (most recent call last)",
      "\u001b[1;32m~\\AppData\\Local\\Temp\\ipykernel_67364\\1867725564.py\u001b[0m in \u001b[0;36m?\u001b[1;34m()\u001b[0m\n\u001b[0;32m      2\u001b[0m \u001b[1;32mfor\u001b[0m \u001b[0mi\u001b[0m \u001b[1;32min\u001b[0m \u001b[0mnp\u001b[0m\u001b[1;33m.\u001b[0m\u001b[0marray\u001b[0m\u001b[1;33m(\u001b[0m\u001b[0m_vel_bins\u001b[0m\u001b[1;33m)\u001b[0m\u001b[1;33m:\u001b[0m\u001b[1;33m\u001b[0m\u001b[1;33m\u001b[0m\u001b[0m\n\u001b[0;32m      3\u001b[0m     \u001b[0mcols\u001b[0m\u001b[1;33m.\u001b[0m\u001b[0mappend\u001b[0m\u001b[1;33m(\u001b[0m\u001b[1;34mf\"{i:.2f}\"\u001b[0m\u001b[1;33m)\u001b[0m\u001b[1;33m\u001b[0m\u001b[1;33m\u001b[0m\u001b[0m\n\u001b[0;32m      4\u001b[0m \u001b[1;33m\u001b[0m\u001b[0m\n\u001b[0;32m      5\u001b[0m \u001b[0mper_df\u001b[0m \u001b[1;33m=\u001b[0m \u001b[0mpl\u001b[0m\u001b[1;33m.\u001b[0m\u001b[0mDataFrame\u001b[0m\u001b[1;33m(\u001b[0m\u001b[0mnp\u001b[0m\u001b[1;33m.\u001b[0m\u001b[0marray\u001b[0m\u001b[1;33m(\u001b[0m\u001b[0mmissing_percent_all\u001b[0m\u001b[1;33m)\u001b[0m\u001b[1;33m)\u001b[0m\u001b[1;33m\u001b[0m\u001b[1;33m\u001b[0m\u001b[0m\n\u001b[1;32m----> 6\u001b[1;33m \u001b[0mper_df\u001b[0m\u001b[1;33m.\u001b[0m\u001b[0mcolumns\u001b[0m \u001b[1;33m=\u001b[0m \u001b[0mcols\u001b[0m\u001b[1;33m\u001b[0m\u001b[1;33m\u001b[0m\u001b[0m\n\u001b[0m",
      "\u001b[1;32mc:\\Users\\Pintu\\miniconda3\\envs\\gpy\\Lib\\site-packages\\polars\\dataframe\\frame.py\u001b[0m in \u001b[0;36m?\u001b[1;34m(self, names)\u001b[0m\n\u001b[0;32m    794\u001b[0m         \u001b[0mnames\u001b[0m\u001b[1;33m\u001b[0m\u001b[1;33m\u001b[0m\u001b[0m\n\u001b[0;32m    795\u001b[0m             \u001b[0mA\u001b[0m \u001b[0mlist\u001b[0m \u001b[1;32mwith\u001b[0m \u001b[0mnew\u001b[0m \u001b[0mnames\u001b[0m \u001b[1;32mfor\u001b[0m \u001b[0mthe\u001b[0m\u001b[0;31m \u001b[0m\u001b[0;31m`\u001b[0m\u001b[0mDataFrame\u001b[0m\u001b[0;31m`\u001b[0m\u001b[1;33m.\u001b[0m\u001b[1;33m\u001b[0m\u001b[1;33m\u001b[0m\u001b[0m\n\u001b[0;32m    796\u001b[0m             \u001b[0mThe\u001b[0m \u001b[0mlength\u001b[0m \u001b[0mof\u001b[0m \u001b[0mthe\u001b[0m \u001b[0mlist\u001b[0m \u001b[0mshould\u001b[0m \u001b[0mbe\u001b[0m \u001b[0mequal\u001b[0m \u001b[0mto\u001b[0m \u001b[0mthe\u001b[0m \u001b[0mwidth\u001b[0m \u001b[0mof\u001b[0m \u001b[0mthe\u001b[0m\u001b[0;31m \u001b[0m\u001b[0;31m`\u001b[0m\u001b[0mDataFrame\u001b[0m\u001b[0;31m`\u001b[0m\u001b[1;33m.\u001b[0m\u001b[1;33m\u001b[0m\u001b[1;33m\u001b[0m\u001b[0m\n\u001b[0;32m    797\u001b[0m         \"\"\"\n\u001b[1;32m--> 798\u001b[1;33m         \u001b[0mself\u001b[0m\u001b[1;33m.\u001b[0m\u001b[0m_df\u001b[0m\u001b[1;33m.\u001b[0m\u001b[0mset_column_names\u001b[0m\u001b[1;33m(\u001b[0m\u001b[0mnames\u001b[0m\u001b[1;33m)\u001b[0m\u001b[1;33m\u001b[0m\u001b[1;33m\u001b[0m\u001b[0m\n\u001b[0m",
      "\u001b[1;31mShapeError\u001b[0m: 12 column names provided for a DataFrame of width 1"
     ]
    }
   ],
   "source": [
    "cols = []\n",
    "for i in np.array(_vel_bins):\n",
    "    cols.append(f\"{i:.2f}\")\n",
    "\n",
    "per_df = pl.DataFrame(np.array(missing_percent_all))\n",
    "per_df.columns = cols"
   ]
  },
  {
   "cell_type": "code",
   "execution_count": null,
   "metadata": {},
   "outputs": [
    {
     "data": {
      "text/html": [
       "<div><style>\n",
       ".dataframe > thead > tr,\n",
       ".dataframe > tbody > tr {\n",
       "  text-align: right;\n",
       "  white-space: pre-wrap;\n",
       "}\n",
       "</style>\n",
       "<small>shape: (3, 1)</small><table border=\"1\" class=\"dataframe\"><thead><tr><th>column_0</th></tr><tr><td>f64</td></tr></thead><tbody><tr><td>91.885965</td></tr><tr><td>90.42735</td></tr><tr><td>87.842008</td></tr></tbody></table></div>"
      ],
      "text/plain": [
       "shape: (3, 1)\n",
       "┌───────────┐\n",
       "│ column_0  │\n",
       "│ ---       │\n",
       "│ f64       │\n",
       "╞═══════════╡\n",
       "│ 91.885965 │\n",
       "│ 90.42735  │\n",
       "│ 87.842008 │\n",
       "└───────────┘"
      ]
     },
     "execution_count": 17,
     "metadata": {},
     "output_type": "execute_result"
    }
   ],
   "source": [
    "per_df"
   ]
  },
  {
   "cell_type": "code",
   "execution_count": null,
   "metadata": {},
   "outputs": [
    {
     "data": {
      "text/plain": [
       "Text(0, 0.5, 'Percentage of detection (%)')"
      ]
     },
     "execution_count": 18,
     "metadata": {},
     "output_type": "execute_result"
    },
    {
     "data": {
      "image/png": "[encoded data removed]",
      "text/plain": [
       "<Figure size 1000x500 with 1 Axes>"
      ]
     },
     "metadata": {},
     "output_type": "display_data"
    }
   ],
   "source": [
    "plt.figure(figsize=(10, 5))\n",
    "sns.boxplot(data=per_df.to_pandas(), palette=\"Set2\")\n",
    "sns.lineplot(x=per_df.to_pandas().columns, y=per_df.to_pandas().median())\n",
    "plt.title(\"Percentage of detection in each velocity bin\")\n",
    "plt.xlabel(\"Velocity bins (m/s)\")\n",
    "plt.ylabel(\"Percentage of detection (%)\")\n",
    "\n",
    "# sns.violinplot(data=per_df.to_pandas(), palette=\"Set2\")"
   ]
  },
  {
   "cell_type": "code",
   "execution_count": null,
   "metadata": {},
   "outputs": [],
   "source": [
    "per_df.write_csv(\"./data_csv/percentage_detection_ar.csv\")"
   ]
  },
  {
   "cell_type": "code",
   "execution_count": null,
   "metadata": {},
   "outputs": [],
   "source": []
  }
 ],
 "metadata": {
  "kernelspec": {
   "display_name": "gpy",
   "language": "python",
   "name": "python3"
  },
  "language_info": {
   "codemirror_mode": {
    "name": "ipython",
    "version": 3
   },
   "file_extension": ".py",
   "mimetype": "text/x-python",
   "name": "python",
   "nbconvert_exporter": "python",
   "pygments_lexer": "ipython3",
   "version": "3.11.9"
  },
  "orig_nbformat": 4
 },
 "nbformat": 4,
 "nbformat_minor": 2
}
