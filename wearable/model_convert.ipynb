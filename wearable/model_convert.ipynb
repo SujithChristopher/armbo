{
 "cells": [
  {
   "cell_type": "code",
   "execution_count": 1,
   "metadata": {},
   "outputs": [],
   "source": [
    "from ultralytics import YOLO"
   ]
  },
  {
   "cell_type": "code",
   "execution_count": 2,
   "metadata": {},
   "outputs": [],
   "source": [
    "model = YOLO(r\"E:\\CMC\\pyprojects\\DeepVision\\models_save\\mip_ar_200e_noise.pt\")"
   ]
  },
  {
   "cell_type": "code",
   "execution_count": 3,
   "metadata": {},
   "outputs": [
    {
     "name": "stdout",
     "output_type": "stream",
     "text": [
      "Ultralytics YOLOv8.2.68  Python-3.12.4 torch-2.4.0+cu124 CPU (13th Gen Intel Core(TM) i7-13700HX)\n",
      "YOLOv8n-pose summary (fused): 187 layers, 3,078,263 parameters, 0 gradients, 8.3 GFLOPs\n",
      "\n",
      "\u001b[34m\u001b[1mPyTorch:\u001b[0m starting from 'E:\\CMC\\pyprojects\\DeepVision\\models_save\\mip_ar_200e_noise.pt' with input shape (1, 3, 640, 640) BCHW and output shape(s) (1, 17, 8400) (6.1 MB)\n",
      "\n",
      "\u001b[34m\u001b[1mTorchScript:\u001b[0m starting export with torch 2.4.0+cu124...\n",
      "\u001b[34m\u001b[1mTorchScript:\u001b[0m export success  3.4s, saved as 'E:\\CMC\\pyprojects\\DeepVision\\models_save\\mip_ar_200e_noise.torchscript' (12.2 MB)\n",
      "\u001b[31m\u001b[1mrequirements:\u001b[0m Ultralytics requirement ['ncnn'] not found, attempting AutoUpdate...\n",
      "Collecting ncnn\n",
      "  Downloading ncnn-1.0.20240410-cp312-cp312-win_amd64.whl.metadata (26 kB)\n",
      "Requirement already satisfied: numpy in c:\\users\\pintu\\miniconda3\\envs\\py12\\lib\\site-packages (from ncnn) (1.26.4)\n",
      "Requirement already satisfied: tqdm in c:\\users\\pintu\\miniconda3\\envs\\py12\\lib\\site-packages (from ncnn) (4.66.4)\n",
      "Requirement already satisfied: requests in c:\\users\\pintu\\miniconda3\\envs\\py12\\lib\\site-packages (from ncnn) (2.32.3)\n",
      "Collecting portalocker (from ncnn)\n",
      "  Downloading portalocker-2.10.1-py3-none-any.whl.metadata (8.5 kB)\n",
      "Requirement already satisfied: opencv-python in c:\\users\\pintu\\miniconda3\\envs\\py12\\lib\\site-packages (from ncnn) (4.10.0.84)\n",
      "Requirement already satisfied: pywin32>=226 in c:\\users\\pintu\\miniconda3\\envs\\py12\\lib\\site-packages (from portalocker->ncnn) (306)\n",
      "Requirement already satisfied: charset-normalizer<4,>=2 in c:\\users\\pintu\\miniconda3\\envs\\py12\\lib\\site-packages (from requests->ncnn) (3.3.2)\n",
      "Requirement already satisfied: idna<4,>=2.5 in c:\\users\\pintu\\miniconda3\\envs\\py12\\lib\\site-packages (from requests->ncnn) (3.7)\n",
      "Requirement already satisfied: urllib3<3,>=1.21.1 in c:\\users\\pintu\\miniconda3\\envs\\py12\\lib\\site-packages (from requests->ncnn) (2.2.2)\n",
      "Requirement already satisfied: certifi>=2017.4.17 in c:\\users\\pintu\\miniconda3\\envs\\py12\\lib\\site-packages (from requests->ncnn) (2024.7.4)\n",
      "Requirement already satisfied: colorama in c:\\users\\pintu\\miniconda3\\envs\\py12\\lib\\site-packages (from tqdm->ncnn) (0.4.6)\n",
      "Downloading ncnn-1.0.20240410-cp312-cp312-win_amd64.whl (3.6 MB)\n",
      "   ---------------------------------------- 3.6/3.6 MB 3.2 MB/s eta 0:00:00\n",
      "Downloading portalocker-2.10.1-py3-none-any.whl (18 kB)\n",
      "Installing collected packages: portalocker, ncnn\n",
      "Successfully installed ncnn-1.0.20240410 portalocker-2.10.1\n",
      "\n",
      "\u001b[31m\u001b[1mrequirements:\u001b[0m AutoUpdate success  6.9s, installed 1 package: ['ncnn']\n",
      "\u001b[31m\u001b[1mrequirements:\u001b[0m  \u001b[1mRestart runtime or rerun command for updates to take effect\u001b[0m\n",
      "\n",
      "\n",
      "\u001b[34m\u001b[1mNCNN:\u001b[0m starting export with NCNN 1.0.20240410...\n",
      "\u001b[34m\u001b[1mNCNN:\u001b[0m WARNING  PNNX not found. Attempting to download binary file from https://github.com/pnnx/pnnx/.\n",
      "Note PNNX Binary file must be placed in current working directory or in C:\\Users\\Pintu\\miniconda3\\envs\\py12\\Lib\\site-packages\\ultralytics. See PNNX repo for full installation instructions.\n",
      "\u001b[34m\u001b[1mNCNN:\u001b[0m successfully found latest PNNX asset file pnnx-20240715-windows.zip\n",
      "Downloading https://github.com/pnnx/pnnx/releases/download/20240715/pnnx-20240715-windows.zip to 'pnnx-20240715-windows.zip'...\n"
     ]
    },
    {
     "name": "stderr",
     "output_type": "stream",
     "text": [
      "100%|██████████| 15.3M/15.3M [00:02<00:00, 6.77MB/s]"
     ]
    },
    {
     "name": "stdout",
     "output_type": "stream",
     "text": [
      "WARNING  Skipping pnnx-20240715-windows.zip unzip as destination directory E:\\CMC\\pyprojects\\DeepVision\\wearable\\pnnx-20240715-windows is not empty.\n",
      "\u001b[34m\u001b[1mNCNN:\u001b[0m running 'C:\\Users\\Pintu\\miniconda3\\envs\\py12\\Lib\\site-packages\\ultralytics\\pnnx.exe E:\\CMC\\pyprojects\\DeepVision\\models_save\\mip_ar_200e_noise.torchscript ncnnparam=E:\\CMC\\pyprojects\\DeepVision\\models_save\\mip_ar_200e_noise_ncnn_model\\model.ncnn.param ncnnbin=E:\\CMC\\pyprojects\\DeepVision\\models_save\\mip_ar_200e_noise_ncnn_model\\model.ncnn.bin ncnnpy=E:\\CMC\\pyprojects\\DeepVision\\models_save\\mip_ar_200e_noise_ncnn_model\\model_ncnn.py pnnxparam=E:\\CMC\\pyprojects\\DeepVision\\models_save\\mip_ar_200e_noise_ncnn_model\\model.pnnx.param pnnxbin=E:\\CMC\\pyprojects\\DeepVision\\models_save\\mip_ar_200e_noise_ncnn_model\\model.pnnx.bin pnnxpy=E:\\CMC\\pyprojects\\DeepVision\\models_save\\mip_ar_200e_noise_ncnn_model\\model_pnnx.py pnnxonnx=E:\\CMC\\pyprojects\\DeepVision\\models_save\\mip_ar_200e_noise_ncnn_model\\model.pnnx.onnx fp16=0 device=cpu inputshape=\"[1, 3, 640, 640]\"'\n"
     ]
    },
    {
     "name": "stderr",
     "output_type": "stream",
     "text": [
      "\n"
     ]
    },
    {
     "name": "stdout",
     "output_type": "stream",
     "text": [
      "\u001b[34m\u001b[1mNCNN:\u001b[0m export success  13.3s, saved as 'E:\\CMC\\pyprojects\\DeepVision\\models_save\\mip_ar_200e_noise_ncnn_model' (12.0 MB)\n",
      "\n",
      "Export complete (21.0s)\n",
      "Results saved to \u001b[1mE:\\CMC\\pyprojects\\DeepVision\\models_save\u001b[0m\n",
      "Predict:         yolo predict task=pose model=E:\\CMC\\pyprojects\\DeepVision\\models_save\\mip_ar_200e_noise_ncnn_model imgsz=640  \n",
      "Validate:        yolo val task=pose model=E:\\CMC\\pyprojects\\DeepVision\\models_save\\mip_ar_200e_noise_ncnn_model imgsz=640 data=D:\\CMC\\DeepVision\\dataset\\multi_class\\dataset.yaml  \n",
      "Visualize:       https://netron.app\n"
     ]
    },
    {
     "data": {
      "text/plain": [
       "'E:\\\\CMC\\\\pyprojects\\\\DeepVision\\\\models_save\\\\mip_ar_200e_noise_ncnn_model'"
      ]
     },
     "execution_count": 3,
     "metadata": {},
     "output_type": "execute_result"
    }
   ],
   "source": [
    "model.export(format=\"ncnn\")"
   ]
  },
  {
   "cell_type": "code",
   "execution_count": null,
   "metadata": {},
   "outputs": [],
   "source": []
  }
 ],
 "metadata": {
  "kernelspec": {
   "display_name": "gpy",
   "language": "python",
   "name": "python3"
  },
  "language_info": {
   "codemirror_mode": {
    "name": "ipython",
    "version": 3
   },
   "file_extension": ".py",
   "mimetype": "text/x-python",
   "name": "python",
   "nbconvert_exporter": "python",
   "pygments_lexer": "ipython3",
   "version": "3.12.4"
  }
 },
 "nbformat": 4,
 "nbformat_minor": 2
}
