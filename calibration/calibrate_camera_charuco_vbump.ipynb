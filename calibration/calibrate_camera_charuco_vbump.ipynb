{
 "cells": [
  {
   "cell_type": "code",
   "execution_count": 1,
   "metadata": {},
   "outputs": [],
   "source": [
    "import cv2\n",
    "from cv2 import aruco\n",
    "import numpy as np\n",
    "import msgpack as mp\n",
    "import msgpack_numpy as mpn\n",
    "import os\n",
    "import matplotlib.pyplot as plt"
   ]
  },
  {
   "cell_type": "code",
   "execution_count": 2,
   "metadata": {},
   "outputs": [],
   "source": [
    "_pth = os.getcwd()\n",
    "_pth = os.path.dirname(_pth)\n",
    "_parent_folder = \"validation\"\n",
    "_calib_folder_name = \"calibration_charuco\"\n",
    "\n",
    "\n",
    "_base_pth = os.path.join(_pth,\"recorded_data\",_parent_folder)\n",
    "\n",
    "_webcam_calib_folder = os.path.join(_pth,\"recorded_data\",_parent_folder,_calib_folder_name)\n",
    "_webcam_calib_video = os.path.join(_webcam_calib_folder,\"webcam_color.msgpack\")\n",
    "_webcam_calib_folder = os.path.join(_webcam_calib_folder)\n",
    "_webcam_calib_pth = os.path.join( _webcam_calib_folder, \"webcam_calibration.msgpack\")"
   ]
  },
  {
   "cell_type": "code",
   "execution_count": 3,
   "metadata": {},
   "outputs": [],
   "source": [
    "ARUCO_PARAMETERS = aruco.DetectorParameters()\n",
    "ARUCO_DICT = aruco.getPredefinedDictionary(aruco.DICT_ARUCO_ORIGINAL)\n",
    "squareLength = 0.05\n",
    "markerLength = 0.03\n",
    "\n",
    "board = aruco.CharucoBoard(\n",
    "        size= [4,5],\n",
    "        squareLength = squareLength,\n",
    "        markerLength = markerLength,\n",
    "        dictionary=ARUCO_DICT)\n",
    "\n",
    "detector = aruco.CharucoDetector(board)\n"
   ]
  },
  {
   "cell_type": "code",
   "execution_count": 4,
   "metadata": {},
   "outputs": [],
   "source": [
    "_video_pth = _webcam_calib_video\n",
    "_video_file = open(_video_pth, \"rb\")\n",
    "_video_data = mp.Unpacker(_video_file, object_hook=mpn.decode)\n",
    "_video_length = 0\n",
    "\n",
    "for _frame in _video_data:\n",
    "    _video_length += 1\n",
    "\n",
    "_video_file.close()"
   ]
  },
  {
   "cell_type": "code",
   "execution_count": 5,
   "metadata": {},
   "outputs": [],
   "source": [
    "_video_pth = _webcam_calib_video\n",
    "_video_file = open(_video_pth, \"rb\")\n",
    "_video_data = mp.Unpacker(_video_file, object_hook=mpn.decode)\n",
    "\n",
    "marker_corners, detected_ids, image_points, object_points = [], [], [], []\n",
    "num_of_corners = []\n",
    "\n",
    "first = True\n",
    "counter = []\n",
    "rnd = np.random.choice(_video_length, 200, replace=False)\n",
    "for idx, _frame in enumerate(_video_data):\n",
    "    \n",
    "    if idx in rnd:\n",
    "        _frame = cv2.cvtColor(_frame, cv2.COLOR_BGR2GRAY)\n",
    "\n",
    "        current_corners, current_ids, current_imgpoints, current_objpoints = detector.detectBoard(_frame)\n",
    "        \n",
    "        if current_corners is None:\n",
    "            continue\n",
    "                    \n",
    "        if len(current_corners) != 12:\n",
    "            continue\n",
    "        \n",
    "        current_imgpoints = np.array(current_imgpoints)\n",
    "        current_objpoints, current_imgpoints = board.matchImagePoints(current_corners, current_ids,current_objpoints,current_imgpoints)\n",
    "        if first == True:\n",
    "            corners_list = current_corners\n",
    "            id_list = current_ids\n",
    "            imagepoints_list = current_imgpoints\n",
    "            objectpoints_list = current_objpoints\n",
    "            first = False\n",
    "        else:\n",
    "            corners_list = np.vstack((corners_list, current_corners))\n",
    "            id_list = np.vstack((id_list,current_ids))\n",
    "            imagepoints_list = np.vstack((imagepoints_list, current_imgpoints))\n",
    "            objectpoints_list = np.vstack((objectpoints_list, current_objpoints))\n",
    "        counter.append(len(current_ids))\n",
    "    \n",
    "        marker_corners.append(current_corners)\n",
    "        detected_ids.append(current_ids)\n",
    "        image_points.append(current_imgpoints)\n",
    "        object_points.append(current_objpoints)\n",
    "\n",
    "_video_file.close()\n",
    "\n",
    "counter = np.array(counter)"
   ]
  },
  {
   "cell_type": "code",
   "execution_count": 6,
   "metadata": {},
   "outputs": [
    {
     "name": "stdout",
     "output_type": "stream",
     "text": [
      "175 175 175 175\n"
     ]
    }
   ],
   "source": [
    "print(len(image_points), len(object_points), len(marker_corners), len(detected_ids))"
   ]
  },
  {
   "cell_type": "code",
   "execution_count": 7,
   "metadata": {},
   "outputs": [],
   "source": [
    "marker_corners = np.array(marker_corners)\n",
    "detected_ids = np.array(detected_ids)\n",
    "image_points = np.array(image_points)\n",
    "object_points = np.array(object_points)"
   ]
  },
  {
   "cell_type": "code",
   "execution_count": 8,
   "metadata": {},
   "outputs": [],
   "source": [
    "mtx2 = np.zeros((3, 3))\n",
    "dist2 = np.zeros((1, 5))"
   ]
  },
  {
   "cell_type": "code",
   "execution_count": 9,
   "metadata": {},
   "outputs": [],
   "source": [
    "result = cv2.calibrateCamera(object_points, image_points, _frame.shape[:2], mtx2, dist2)"
   ]
  },
  {
   "cell_type": "code",
   "execution_count": 10,
   "metadata": {},
   "outputs": [],
   "source": [
    "mtx2 = result[1]\n",
    "dist2 = result[2]"
   ]
  },
  {
   "cell_type": "code",
   "execution_count": 11,
   "metadata": {},
   "outputs": [],
   "source": [
    "with open(os.path.join(os.path.dirname(_webcam_calib_video), \"webcam_calibration_charuco.msgpack\"), \"wb\") as p:\n",
    "    pckd = mp.packb((mtx2, dist2), default=mpn.encode)\n",
    "    p.write(pckd)\n",
    "    p.close()"
   ]
  },
  {
   "cell_type": "code",
   "execution_count": null,
   "metadata": {},
   "outputs": [],
   "source": []
  }
 ],
 "metadata": {
  "kernelspec": {
   "display_name": "py11",
   "language": "python",
   "name": "python3"
  },
  "language_info": {
   "codemirror_mode": {
    "name": "ipython",
    "version": 3
   },
   "file_extension": ".py",
   "mimetype": "text/x-python",
   "name": "python",
   "nbconvert_exporter": "python",
   "pygments_lexer": "ipython3",
   "version": "3.11.4"
  },
  "orig_nbformat": 4
 },
 "nbformat": 4,
 "nbformat_minor": 2
}
