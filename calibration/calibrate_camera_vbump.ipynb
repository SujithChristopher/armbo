{
 "cells": [
  {
   "cell_type": "code",
   "execution_count": 27,
   "metadata": {},
   "outputs": [],
   "source": [
    "import cv2\n",
    "from cv2 import aruco\n",
    "import numpy as np\n",
    "import msgpack as mp\n",
    "import msgpack_numpy as mpn\n",
    "import os\n",
    "import matplotlib.pyplot as plt"
   ]
  },
  {
   "cell_type": "code",
   "execution_count": 2,
   "metadata": {},
   "outputs": [],
   "source": [
    "_pth = os.getcwd()\n",
    "_pth = os.path.dirname(_pth)\n",
    "_parent_folder = \"data_for_labelling_aug_1_2023\"\n",
    "_calib_folder_name = \"calibration_00\"\n",
    "\n",
    "\n",
    "_base_pth = os.path.join(_pth,\"recorded_data\",_parent_folder)\n",
    "\n",
    "_webcam_calib_folder = os.path.join(_pth,\"recorded_data\",_parent_folder,_calib_folder_name)\n",
    "_webcam_calib_video = os.path.join(_webcam_calib_folder,\"webcam_color.msgpack\")\n",
    "_webcam_calib_folder = os.path.join(_webcam_calib_folder)\n",
    "_webcam_calib_pth = os.path.join( _webcam_calib_folder, \"webcam_calibration.msgpack\")"
   ]
  },
  {
   "cell_type": "code",
   "execution_count": 4,
   "metadata": {},
   "outputs": [],
   "source": [
    "ARUCO_PARAMETERS = aruco.DetectorParameters()\n",
    "ARUCO_DICT = aruco.getPredefinedDictionary(aruco.DICT_ARUCO_ORIGINAL)\n",
    "detector = aruco.ArucoDetector(ARUCO_DICT, ARUCO_PARAMETERS)\n",
    "markerLength = 0.05\n",
    "markerSeperation = 0.01\n",
    "\n",
    "board = aruco.GridBoard(\n",
    "        size= [1,1],\n",
    "        markerLength=markerLength,\n",
    "        markerSeparation=markerSeperation,\n",
    "        dictionary=ARUCO_DICT)"
   ]
  },
  {
   "cell_type": "code",
   "execution_count": 5,
   "metadata": {},
   "outputs": [],
   "source": [
    "_video_pth = _webcam_calib_video\n",
    "_video_file = open(_video_pth, \"rb\")\n",
    "_video_data = mp.Unpacker(_video_file, object_hook=mpn.decode)\n",
    "_video_length = 0\n",
    "\n",
    "for _frame in _video_data:\n",
    "    _video_length += 1\n",
    "\n",
    "_video_file.close()"
   ]
  },
  {
   "cell_type": "code",
   "execution_count": 6,
   "metadata": {},
   "outputs": [],
   "source": [
    "_video_pth = _webcam_calib_video\n",
    "_video_file = open(_video_pth, \"rb\")\n",
    "_video_data = mp.Unpacker(_video_file, object_hook=mpn.decode)\n",
    "\n",
    "marker_corners = []\n",
    "object_points = []\n",
    "first = True\n",
    "counter = []\n",
    "rnd = np.random.choice(_video_length, 150, replace=False)\n",
    "for idx, _frame in enumerate(_video_data):\n",
    "    \n",
    "    if idx in rnd:\n",
    "        _frame = cv2.cvtColor(_frame, cv2.COLOR_BGR2GRAY)\n",
    "        corners, ids, rejected_image_points = aruco.detectMarkers(_frame, ARUCO_DICT, parameters=ARUCO_PARAMETERS)\n",
    "        try:\n",
    "            if first == True:\n",
    "                corners_list = corners\n",
    "                id_list = ids\n",
    "                first = False\n",
    "            else:\n",
    "                corners_list = np.vstack((corners_list, corners))\n",
    "                id_list = np.vstack((id_list,ids))\n",
    "            counter.append(len(ids))\n",
    "        except:\n",
    "            continue\n",
    "_video_file.close()\n",
    "\n",
    "counter = np.array(counter)"
   ]
  },
  {
   "cell_type": "code",
   "execution_count": 9,
   "metadata": {},
   "outputs": [],
   "source": [
    "calibration_flags = cv2.CALIB_RATIONAL_MODEL\n",
    "term_criteria = (cv2.TERM_CRITERIA_EPS + cv2.TERM_CRITERIA_MAX_ITER, 30, 1e-6)"
   ]
  },
  {
   "cell_type": "code",
   "execution_count": 34,
   "metadata": {},
   "outputs": [],
   "source": [
    "mtx2 = np.zeros((3, 3))\n",
    "dist2 = np.zeros((1, 8))\n",
    "rvec2 = [np.zeros((1, 1, 3), dtype=np.float64) for i in range(len(counter))]\n",
    "tvec2 = [np.zeros((1, 1, 3), dtype=np.float64) for i in range(len(counter))]"
   ]
  },
  {
   "cell_type": "code",
   "execution_count": 35,
   "metadata": {},
   "outputs": [],
   "source": [
    "ret1, mtx1, dist1, rvecs1, tvecs1 = aruco.calibrateCameraAruco(corners_list, id_list, counter, board, _frame.shape[:2], mtx2, dist2, flags=calibration_flags, criteria = term_criteria)"
   ]
  },
  {
   "cell_type": "code",
   "execution_count": 41,
   "metadata": {},
   "outputs": [],
   "source": [
    "with open(os.path.join(os.path.dirname(_webcam_calib_video), \"8p_dist_calib.msgpack\"), \"wb\") as p:\n",
    "    pckd = mp.packb((mtx1.reshape(1,9), dist1), default=mpn.encode)\n",
    "    p.write(pckd)\n",
    "    p.close()"
   ]
  }
 ],
 "metadata": {
  "kernelspec": {
   "display_name": "py11",
   "language": "python",
   "name": "python3"
  },
  "language_info": {
   "codemirror_mode": {
    "name": "ipython",
    "version": 3
   },
   "file_extension": ".py",
   "mimetype": "text/x-python",
   "name": "python",
   "nbconvert_exporter": "python",
   "pygments_lexer": "ipython3",
   "version": "3.11.4"
  },
  "orig_nbformat": 4
 },
 "nbformat": 4,
 "nbformat_minor": 2
}
