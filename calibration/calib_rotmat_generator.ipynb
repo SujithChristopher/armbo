{
 "cells": [
  {
   "cell_type": "code",
   "execution_count": 1,
   "metadata": {},
   "outputs": [],
   "source": [
    "import matplotlib.pyplot as plt\n",
    "import numpy as np\n",
    "import msgpack as mp\n",
    "import msgpack_numpy as mpn\n",
    "import os\n",
    "import sys\n",
    "import cv2\n",
    "# directory reach\n",
    "\n",
    "sys.path.insert(0, os.path.abspath(os.path.join(os.getcwd(), \"..\")))\n",
    "from support.ar_calculations import calculate_rotmat\n",
    "from support.detect_lframe import detect_lframe_from_img\n",
    "\n",
    "# from support.pymf import get_MF_devices as get_camera_list\n",
    "import toml"
   ]
  },
  {
   "cell_type": "code",
   "execution_count": 5,
   "metadata": {},
   "outputs": [
    {
     "data": {
      "text/plain": [
       "'D:\\\\CMC\\\\DeepVision\\\\recorded_data\\\\validation\\\\calibration_00'"
      ]
     },
     "execution_count": 5,
     "metadata": {},
     "output_type": "execute_result"
    }
   ],
   "source": [
    "_pth = toml.load(\"../analysis_notebooks/DATA_PATH.toml\")[\"data_path\"][\"directory\"]\n",
    "_pth = os.path.dirname(_pth)\n",
    "_parent_folder = \"validation\"\n",
    "_folder_name = \"calibration_00\"\n",
    "_parent_folder = \"validation\"\n",
    "\n",
    "\"\"\"pth to calibration files\"\"\"\n",
    "_pth = os.path.join(_pth, \"recorded_data\", _parent_folder, _folder_name)\n",
    "_pth"
   ]
  },
  {
   "cell_type": "code",
   "execution_count": 6,
   "metadata": {},
   "outputs": [],
   "source": [
    "def calculate_rotmat_from_3markers(\n",
    "    corners, ids, camera_matrix, dist_coeffs, marker_length=0.05\n",
    "):\n",
    "    rotation_vector, translation_vector, _ = cv2.aruco.estimatePoseSingleMarkers(\n",
    "        corners, marker_length, camera_matrix, dist_coeffs\n",
    "    )\n",
    "\n",
    "    ids = list(ids)\n",
    "\n",
    "    z_inx = ids.index(80)\n",
    "    org_inx = ids.index(0)\n",
    "    x_inx = ids.index(49)\n",
    "    print(z_inx, org_inx, x_inx)\n",
    "\n",
    "    zvec = translation_vector[z_inx][0]\n",
    "    zvec = np.reshape(zvec, (3, 1))\n",
    "    org = translation_vector[org_inx][0]\n",
    "    org = np.reshape(org, (3, 1))\n",
    "    xvec = translation_vector[x_inx][0]\n",
    "    xvec = np.reshape(xvec, (3, 1))\n",
    "\n",
    "    translation_vector\n",
    "    zvec\n",
    "    rotMat = calculate_rotmat(xvec, zvec, org)\n",
    "    rotMat\n",
    "\n",
    "    t_zvec = zvec - org\n",
    "    t_xvec = xvec - org\n",
    "\n",
    "    translation_correction = np.array([0.045, -0.05, 0.045]).reshape(\n",
    "        3, 1\n",
    "    )  # adding the corrections in the new L frame\n",
    "\n",
    "    rotMat.T @ t_zvec + translation_correction\n",
    "    # print(t_xvec)\n",
    "    print(rotMat.T @ t_xvec)\n",
    "    print(rotMat.T @ t_zvec)\n",
    "\n",
    "    return rotMat, org"
   ]
  },
  {
   "cell_type": "code",
   "execution_count": 7,
   "metadata": {},
   "outputs": [],
   "source": [
    "\"\"\"read image in msgpack format\"\"\"\n",
    "\n",
    "_webcam_frame_file = os.path.join(_pth, \"webcam_frame_validation_imu_6.msgpack\")\n",
    "with open(_webcam_frame_file, \"rb\") as f:\n",
    "    unpacked = mp.Unpacker(f, object_hook=mpn.decode)\n",
    "    for msg in unpacked:\n",
    "        webcam_frame = msg"
   ]
  },
  {
   "cell_type": "code",
   "execution_count": 8,
   "metadata": {},
   "outputs": [],
   "source": [
    "with open(os.path.join(_pth, \"webcam_calibration.msgpack\"), \"rb\") as f:\n",
    "    webcam_calib = mp.Unpacker(f, object_hook=mpn.decode)\n",
    "    _temp = next(webcam_calib)\n",
    "    _webcam_cam_mat = _temp[0]\n",
    "    _webcam_dist = _temp[1]"
   ]
  },
  {
   "cell_type": "code",
   "execution_count": 9,
   "metadata": {},
   "outputs": [
    {
     "name": "stdout",
     "output_type": "stream",
     "text": [
      "2 0 1\n",
      "[[ 1.52939301e-01]\n",
      " [ 0.00000000e+00]\n",
      " [-1.38777878e-17]]\n",
      "[[-0.00433027]\n",
      " [ 0.        ]\n",
      " [ 0.20219804]]\n"
     ]
    }
   ],
   "source": [
    "\"\"\"for webcam calculating rotmat\"\"\"\n",
    "corners, ids, _ = detect_lframe_from_img(webcam_frame)\n",
    "w_rotmat, w_org = calculate_rotmat_from_3markers(\n",
    "    corners,\n",
    "    ids,\n",
    "    marker_length=0.05,\n",
    "    camera_matrix=_webcam_cam_mat,\n",
    "    dist_coeffs=_webcam_dist,\n",
    ")"
   ]
  },
  {
   "cell_type": "code",
   "execution_count": null,
   "metadata": {},
   "outputs": [],
   "source": []
  },
  {
   "cell_type": "code",
   "execution_count": 14,
   "metadata": {},
   "outputs": [
    {
     "data": {
      "text/plain": [
       "array([[727.11507074,   0.        , 510.21090502],\n",
       "       [  0.        , 712.99225602, 465.45838568],\n",
       "       [  0.        ,   0.        ,   1.        ]])"
      ]
     },
     "execution_count": 14,
     "metadata": {},
     "output_type": "execute_result"
    }
   ],
   "source": [
    "_webcam_cam_mat"
   ]
  },
  {
   "cell_type": "code",
   "execution_count": 15,
   "metadata": {},
   "outputs": [],
   "source": [
    "# save to path\n",
    "_webcam_rotmat_file = os.path.join(_pth, \"charuco_rotmat_validation_imu_6.msgpack\")\n",
    "with open(_webcam_rotmat_file, \"wb\") as f:\n",
    "    _rt_packed = mp.packb(w_rotmat, default=mpn.encode)\n",
    "    _org_packed = mp.packb(w_org, default=mpn.encode)\n",
    "    f.write(_rt_packed)\n",
    "    f.write(_org_packed)\n",
    "    f.close()"
   ]
  },
  {
   "cell_type": "code",
   "execution_count": null,
   "metadata": {},
   "outputs": [],
   "source": []
  }
 ],
 "metadata": {
  "kernelspec": {
   "display_name": "py11",
   "language": "python",
   "name": "python3"
  },
  "language_info": {
   "codemirror_mode": {
    "name": "ipython",
    "version": 3
   },
   "file_extension": ".py",
   "mimetype": "text/x-python",
   "name": "python",
   "nbconvert_exporter": "python",
   "pygments_lexer": "ipython3",
   "version": "3.8.17"
  },
  "orig_nbformat": 4
 },
 "nbformat": 4,
 "nbformat_minor": 2
}
