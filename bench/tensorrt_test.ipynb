{
 "cells": [
  {
   "cell_type": "code",
   "execution_count": 1,
   "metadata": {},
   "outputs": [],
   "source": [
    "import numpy as np\n",
    "from ultralytics import YOLO"
   ]
  },
  {
   "cell_type": "code",
   "execution_count": 2,
   "metadata": {},
   "outputs": [],
   "source": [
    "from ultralytics.utils.benchmarks import benchmark"
   ]
  },
  {
   "cell_type": "code",
   "execution_count": 3,
   "metadata": {},
   "outputs": [
    {
     "name": "stdout",
     "output_type": "stream",
     "text": [
      "\n",
      "image 1/1 C:\\Users\\Pintu\\miniconda3\\envs\\bgpu\\Lib\\site-packages\\ultralytics\\assets\\bus.jpg: 640x480 (no detections), 283.6ms\n",
      "Speed: 12.8ms preprocess, 283.6ms inference, 55.0ms postprocess per image at shape (1, 3, 640, 480)\n"
     ]
    },
    {
     "name": "stderr",
     "output_type": "stream",
     "text": [
      "\u001b[34m\u001b[1mval: \u001b[0mScanning D:\\CMC\\DeepVision\\dataset\\multi_class\\dataset_processed\\labels\\val.cache... 309 images, 0 backgrounds, 0 corrupt: 100%|██████████| 309/309 [00:00<?, ?it/s]\n",
      "                 Class     Images  Instances      Box(P          R      mAP50  mAP50-95)     Pose(P          R      mAP50  mAP50-95): 100%|██████████| 309/309 [00:09<00:00, 31.60it/s]"
     ]
    },
    {
     "name": "stdout",
     "output_type": "stream",
     "text": [
      "                   all        309        915      0.967      0.971      0.991       0.98      0.825      0.783      0.793      0.784\n",
      "Speed: 0.7ms preprocess, 8.7ms inference, 0.0ms loss, 2.3ms postprocess per image\n"
     ]
    },
    {
     "name": "stderr",
     "output_type": "stream",
     "text": [
      "\n"
     ]
    },
    {
     "name": "stdout",
     "output_type": "stream",
     "text": [
      "\n",
      "\u001b[34m\u001b[1mPyTorch:\u001b[0m starting from 'D:\\CMC\\DeepVision\\models_save\\mip_ar_200e_noise.pt' with input shape (1, 3, 640, 640) BCHW and output shape(s) (1, 17, 8400) (6.1 MB)\n",
      "\n",
      "\u001b[34m\u001b[1mTorchScript:\u001b[0m starting export with torch 2.1.1+cu121...\n",
      "\u001b[34m\u001b[1mTorchScript:\u001b[0m export success ✅ 1.3s, saved as 'D:\\CMC\\DeepVision\\models_save\\mip_ar_200e_noise.torchscript' (12.2 MB)\n",
      "\n",
      "Export complete (1.6s)\n",
      "Results saved to \u001b[1mD:\\CMC\\DeepVision\\models_save\u001b[0m\n",
      "Predict:         yolo predict task=pose model=D:\\CMC\\DeepVision\\models_save\\mip_ar_200e_noise.torchscript imgsz=640 half \n",
      "Validate:        yolo val task=pose model=D:\\CMC\\DeepVision\\models_save\\mip_ar_200e_noise.torchscript imgsz=640 data=D:\\CMC\\DeepVision\\dataset\\multi_class\\dataset.yaml half \n",
      "Visualize:       https://netron.app\n",
      "Loading D:\\CMC\\DeepVision\\models_save\\mip_ar_200e_noise.torchscript for TorchScript inference...\n",
      "\n",
      "image 1/1 C:\\Users\\Pintu\\miniconda3\\envs\\bgpu\\Lib\\site-packages\\ultralytics\\assets\\bus.jpg: 640x640 (no detections), 80.4ms\n",
      "Speed: 9.0ms preprocess, 80.4ms inference, 13.0ms postprocess per image at shape (1, 3, 640, 640)\n",
      "Loading D:\\CMC\\DeepVision\\models_save\\mip_ar_200e_noise.torchscript for TorchScript inference...\n"
     ]
    },
    {
     "name": "stderr",
     "output_type": "stream",
     "text": [
      "\u001b[34m\u001b[1mval: \u001b[0mScanning D:\\CMC\\DeepVision\\dataset\\multi_class\\dataset_processed\\labels\\val.cache... 309 images, 0 backgrounds, 0 corrupt: 100%|██████████| 309/309 [00:00<?, ?it/s]\n",
      "                 Class     Images  Instances      Box(P          R      mAP50  mAP50-95)     Pose(P          R      mAP50  mAP50-95): 100%|██████████| 309/309 [00:10<00:00, 29.02it/s]"
     ]
    },
    {
     "name": "stdout",
     "output_type": "stream",
     "text": [
      "                   all        309        915      0.975       0.96      0.991      0.981      0.828      0.777      0.795      0.787\n",
      "Speed: 1.4ms preprocess, 10.4ms inference, 0.0ms loss, 2.0ms postprocess per image\n"
     ]
    },
    {
     "name": "stderr",
     "output_type": "stream",
     "text": [
      "\n"
     ]
    },
    {
     "name": "stdout",
     "output_type": "stream",
     "text": [
      "\n",
      "\u001b[34m\u001b[1mPyTorch:\u001b[0m starting from 'D:\\CMC\\DeepVision\\models_save\\mip_ar_200e_noise.pt' with input shape (1, 3, 640, 640) BCHW and output shape(s) (1, 17, 8400) (6.1 MB)\n",
      "\n",
      "\u001b[34m\u001b[1mONNX:\u001b[0m starting export with onnx 1.15.0 opset 17...\n",
      "\u001b[34m\u001b[1mONNX:\u001b[0m export success ✅ 0.8s, saved as 'D:\\CMC\\DeepVision\\models_save\\mip_ar_200e_noise.onnx' (6.1 MB)\n",
      "\n",
      "Export complete (0.8s)\n",
      "Results saved to \u001b[1mD:\\CMC\\DeepVision\\models_save\u001b[0m\n",
      "Predict:         yolo predict task=pose model=D:\\CMC\\DeepVision\\models_save\\mip_ar_200e_noise.onnx imgsz=640 half \n",
      "Validate:        yolo val task=pose model=D:\\CMC\\DeepVision\\models_save\\mip_ar_200e_noise.onnx imgsz=640 data=D:\\CMC\\DeepVision\\dataset\\multi_class\\dataset.yaml half \n",
      "Visualize:       https://netron.app\n",
      "Loading D:\\CMC\\DeepVision\\models_save\\mip_ar_200e_noise.onnx for ONNX Runtime inference...\n",
      "\u001b[31m\u001b[1mrequirements:\u001b[0m Ultralytics requirement ['onnxruntime'] not found, attempting AutoUpdate...\n",
      "\u001b[31m\u001b[1mrequirements:\u001b[0m ❌ Command 'pip install --no-cache \"onnxruntime\" ' returned non-zero exit status 1.\n",
      "\n",
      "image 1/1 C:\\Users\\Pintu\\miniconda3\\envs\\bgpu\\Lib\\site-packages\\ultralytics\\assets\\bus.jpg: 640x640 (no detections), 177.9ms\n",
      "Speed: 6.5ms preprocess, 177.9ms inference, 6.0ms postprocess per image at shape (1, 3, 640, 640)\n",
      "Loading D:\\CMC\\DeepVision\\models_save\\mip_ar_200e_noise.onnx for ONNX Runtime inference...\n",
      "\u001b[31m\u001b[1mrequirements:\u001b[0m Ultralytics requirement ['onnxruntime'] not found, attempting AutoUpdate...\n",
      "\u001b[31m\u001b[1mrequirements:\u001b[0m ❌ Command 'pip install --no-cache \"onnxruntime\" ' returned non-zero exit status 1.\n",
      "Forcing batch=1 square inference (1,3,640,640) for non-PyTorch models\n"
     ]
    },
    {
     "name": "stderr",
     "output_type": "stream",
     "text": [
      "\u001b[34m\u001b[1mval: \u001b[0mScanning D:\\CMC\\DeepVision\\dataset\\multi_class\\dataset_processed\\labels\\val.cache... 309 images, 0 backgrounds, 0 corrupt: 100%|██████████| 309/309 [00:00<?, ?it/s]\n",
      "                 Class     Images  Instances      Box(P          R      mAP50  mAP50-95)     Pose(P          R      mAP50  mAP50-95): 100%|██████████| 309/309 [00:26<00:00, 11.62it/s]"
     ]
    },
    {
     "name": "stdout",
     "output_type": "stream",
     "text": [
      "                   all        309        915      0.975      0.959      0.991      0.981      0.828      0.777      0.795      0.786\n",
      "Speed: 1.8ms preprocess, 62.8ms inference, 0.0ms loss, 1.7ms postprocess per image\n",
      "ERROR ❌️ Benchmark failure for OpenVINO: inference not supported on GPU\n"
     ]
    },
    {
     "name": "stderr",
     "output_type": "stream",
     "text": [
      "\n"
     ]
    },
    {
     "name": "stdout",
     "output_type": "stream",
     "text": [
      "\n",
      "\u001b[34m\u001b[1mPyTorch:\u001b[0m starting from 'D:\\CMC\\DeepVision\\models_save\\mip_ar_200e_noise.pt' with input shape (1, 3, 640, 640) BCHW and output shape(s) (1, 17, 8400) (6.1 MB)\n",
      "\n",
      "\u001b[34m\u001b[1mONNX:\u001b[0m starting export with onnx 1.15.0 opset 17...\n"
     ]
    },
    {
     "ename": "",
     "evalue": "",
     "output_type": "error",
     "traceback": [
      "\u001b[1;31mThe Kernel crashed while executing code in the the current cell or a previous cell. Please review the code in the cell(s) to identify a possible cause of the failure. Click <a href='https://aka.ms/vscodeJupyterKernelCrash'>here</a> for more info. View Jupyter <a href='command:jupyter.viewOutput'>log</a> for further details."
     ]
    }
   ],
   "source": [
    "benchmark(model=r'D:\\CMC\\DeepVision\\models_save\\mip_ar_200e_noise.pt', data=r'D:\\CMC\\DeepVision\\dataset\\multi_class\\dataset.yaml', imgsz=640, half=True, device=0)"
   ]
  },
  {
   "cell_type": "code",
   "execution_count": null,
   "metadata": {},
   "outputs": [],
   "source": [
    "import tensorrt"
   ]
  },
  {
   "cell_type": "code",
   "execution_count": null,
   "metadata": {},
   "outputs": [],
   "source": []
  }
 ],
 "metadata": {
  "kernelspec": {
   "display_name": "bgpu",
   "language": "python",
   "name": "python3"
  },
  "language_info": {
   "codemirror_mode": {
    "name": "ipython",
    "version": 3
   },
   "file_extension": ".py",
   "mimetype": "text/x-python",
   "name": "python",
   "nbconvert_exporter": "python",
   "pygments_lexer": "ipython3",
   "version": "3.11.5"
  }
 },
 "nbformat": 4,
 "nbformat_minor": 2
}
