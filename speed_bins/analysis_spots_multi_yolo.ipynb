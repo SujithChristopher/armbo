{
 "cells": [
  {
   "cell_type": "code",
   "execution_count": 21,
   "metadata": {},
   "outputs": [],
   "source": [
    "import numpy as np\n",
    "import msgpack as mp\n",
    "import msgpack_numpy as mpn\n",
    "import cv2\n",
    "from cv2 import aruco\n",
    "import matplotlib.pyplot as plt\n",
    "import pandas as pd\n",
    "import os\n",
    "import polars as pl\n",
    "import toml\n",
    "import sys\n",
    "sys.path.append(os.path.join(os.getcwd(), '..'))\n",
    "from support.pd_support import *\n",
    "\n",
    "from datetime import datetime\n",
    "from support.pd_support import *\n",
    "from support.ar_calculations import *\n",
    "\n",
    "from scipy.signal import savgol_filter\n",
    "from scipy import integrate\n",
    "from ahrs.filters import Madgwick\n",
    "from scipy import stats\n",
    "import toml\n",
    "\n",
    "import plotly.io as pio\n",
    "import plotly.express as px\n",
    "from plotly.subplots import make_subplots\n",
    "import plotly.graph_objects as go\n",
    "from tqdm import tqdm\n",
    "import seaborn as sns\n",
    "from ultralytics import YOLO\n",
    "pio.renderers.default = \"vscode\""
   ]
  },
  {
   "cell_type": "code",
   "execution_count": 22,
   "metadata": {},
   "outputs": [],
   "source": [
    "_pth = toml.load('DATA_PATH.toml')['data_path']['directory']\n",
    "_pth = os.path.dirname(_pth)\n",
    "_parent_folder = \"paper\"\n",
    "_calib_folder_name = \"calibration_00\"\n",
    "\n",
    "_base_pth = os.path.join(_pth,\"recorded_data\",_parent_folder)\n",
    "# _folder_list = os.listdir(_base_pth)[10:15] # forward\n",
    "# _folder_list = os.listdir(_base_pth)[15:] # sideways\n",
    "_folder_list = os.listdir(_base_pth)[27:] # spots\n",
    "\n",
    "\n",
    "_webcam_calib_folder = os.path.join(_pth,\"recorded_data\",_parent_folder,_calib_folder_name)\n",
    "_webcam_calib_folder = os.path.join(_webcam_calib_folder)\n",
    "_webcam_calib_pth = os.path.join( _webcam_calib_folder, \"webcam_calibration.msgpack\")\n",
    "\n",
    "with open(_webcam_calib_pth, \"rb\") as f:\n",
    "    webcam_calib = mp.Unpacker(f, object_hook=mpn.decode)\n",
    "    _temp = next(webcam_calib)\n",
    "    _webcam_cam_mat = _temp[0]\n",
    "    _webcam_dist = _temp[1]\n",
    "\n",
    "ar_lframe_pth = os.path.join(_webcam_calib_folder, \"spots_rotmat.msgpack\")\n",
    "with open(ar_lframe_pth, \"rb\") as f:\n",
    "    ar_lframe = mp.Unpacker(f, object_hook=mpn.decode)\n",
    "    _ar_lframe_rot = next(ar_lframe)\n",
    "    _ar_lframe_org = next(ar_lframe)"
   ]
  },
  {
   "cell_type": "markdown",
   "metadata": {},
   "source": [
    "MOCAP data"
   ]
  },
  {
   "cell_type": "code",
   "execution_count": 23,
   "metadata": {},
   "outputs": [],
   "source": [
    "m1 = get_rb_marker_name(2)\n",
    "m4 = get_rb_marker_name(3)\n",
    "m3 = get_rb_marker_name(4)\n",
    "m5 = get_rb_marker_name(5)"
   ]
  },
  {
   "cell_type": "markdown",
   "metadata": {},
   "source": [
    "Getting Sync pulse from Teensy"
   ]
  },
  {
   "cell_type": "code",
   "execution_count": 24,
   "metadata": {},
   "outputs": [],
   "source": [
    "def estimatePoseSingleMarkers(corners, marker_size, mtx, distortion):\n",
    "\n",
    "    marker_points = np.array([[-marker_size / 2, marker_size / 2, 0],\n",
    "                              [marker_size / 2, marker_size / 2, 0],\n",
    "                              [marker_size / 2, -marker_size / 2, 0],\n",
    "                              [-marker_size / 2, -marker_size / 2, 0]], dtype=np.float32)\n",
    "    trash = []\n",
    "    rvecs = []\n",
    "    tvecs = []\n",
    "    for c in corners:\n",
    "        nada, R, t = cv2.solvePnP(marker_points, c, mtx, distortion, True, flags= cv2.SOLVEPNP_ITERATIVE)\n",
    "        \n",
    "        if not (R is None or t is None):\n",
    "            R = np.array(R).reshape(1, 3).tolist()\n",
    "            t = np.array(t).reshape(1, 3).tolist()\n",
    "        \n",
    "        rvecs.append(R)\n",
    "        tvecs.append(t)\n",
    "    return rvecs, tvecs"
   ]
  },
  {
   "cell_type": "code",
   "execution_count": 25,
   "metadata": {},
   "outputs": [],
   "source": [
    "# model_pth = os.path.join(os.getcwd(), \"..\",'models_save', 'mip_p2_60e_noise.pt')\n",
    "model_pth = os.path.join(os.getcwd(), \"..\",'models_save', 'mip_ar_200e_noise.pt')\n",
    "# model_pth = os.path.join(os.getcwd(), \"..\",'models_save', 'best.pt')\n",
    "yolo_model = YOLO(model_pth)\n",
    "# model_pth\n",
    "\n",
    "marker_size = 0.05\n"
   ]
  },
  {
   "cell_type": "code",
   "execution_count": 26,
   "metadata": {},
   "outputs": [
    {
     "name": "stderr",
     "output_type": "stream",
     "text": [
      "  0%|          | 0/25 [00:00<?, ?it/s]"
     ]
    },
    {
     "name": "stderr",
     "output_type": "stream",
     "text": [
      "107it [00:02, 37.71it/s]\n",
      "106it [00:01, 69.93it/s]0:02<01:09,  2.89s/it]\n",
      "100it [00:01, 74.34it/s]0:04<00:48,  2.12s/it]\n",
      "96it [00:01, 69.61it/s]00:05<00:39,  1.79s/it]\n",
      "112it [00:01, 63.68it/s]0:07<00:34,  1.65s/it]\n",
      "101it [00:01, 63.57it/s]0:09<00:34,  1.71s/it]\n",
      "91it [00:01, 75.40it/s]00:10<00:31,  1.68s/it]\n",
      "154it [00:03, 49.22it/s]0:11<00:27,  1.54s/it]\n",
      "137it [00:02, 55.85it/s]0:15<00:35,  2.06s/it]\n",
      "98it [00:01, 49.01it/s]00:17<00:35,  2.21s/it]\n",
      "109it [00:01, 58.13it/s]00:19<00:32,  2.16s/it]\n",
      "95it [00:01, 62.61it/s][00:21<00:29,  2.09s/it]\n",
      "99it [00:01, 66.11it/s][00:23<00:25,  1.93s/it]\n",
      "96it [00:02, 46.59it/s][00:24<00:21,  1.81s/it]\n",
      "99it [00:02, 45.52it/s][00:26<00:20,  1.91s/it]\n",
      "102it [00:01, 71.15it/s]00:29<00:20,  2.00s/it]\n",
      "200it [00:02, 67.55it/s]00:30<00:16,  1.85s/it]\n",
      "200it [00:03, 65.66it/s]00:33<00:17,  2.20s/it]\n",
      "108it [00:01, 64.59it/s]00:36<00:17,  2.48s/it]\n",
      "104it [00:01, 66.05it/s]00:38<00:13,  2.25s/it]\n",
      "94it [00:01, 65.77it/s][00:40<00:10,  2.06s/it]\n",
      "105it [00:01, 64.14it/s]00:41<00:07,  1.89s/it]\n",
      "107it [00:01, 70.36it/s]00:43<00:05,  1.83s/it]\n",
      "98it [00:01, 56.65it/s][00:44<00:03,  1.75s/it]\n",
      "108it [00:01, 63.55it/s]00:46<00:01,  1.76s/it]\n",
      "100%|██████████| 25/25 [00:48<00:00,  1.94s/it]\n"
     ]
    }
   ],
   "source": [
    "results = {'ar_df':[], 'ar_dt':[], 'mc_df':[], 'mc_dt':[], 'time_offset':[], 'folder_name':[]}\n",
    "for _folder_name in tqdm(_folder_list):\n",
    "    _teensy_df = pl.read_csv(os.path.join(_base_pth,_folder_name,\"imu01.csv\"))\n",
    "    _teensy_df = _teensy_df.with_columns(pl.col(\"mz\\r\").str.replace(\"\\r\",\"\").cast(pl.Float64).alias(\"mz\"))\n",
    "    t_time = _teensy_df[\"rust_time\"].to_numpy()\n",
    "    t_time = [datetime.fromtimestamp(t) for t in t_time]\n",
    "    # t_time = [datetime.strftime(t) for t in t_time]\n",
    "    teensy_df = pl.DataFrame({\"time\":t_time,\"sync\":_teensy_df[\"sync\"]})\n",
    "\n",
    "    for idx, i in enumerate(teensy_df['sync']):\n",
    "        if i == 1:\n",
    "            break\n",
    "    teensy_start_time = teensy_df['time'][idx]\n",
    "    \n",
    "    # Aruco parameters\n",
    "    \n",
    "    ARUCO_PARAMETERS = aruco.DetectorParameters()\n",
    "    ARUCO_DICT = aruco.getPredefinedDictionary(aruco.DICT_ARUCO_MIP_36H12)\n",
    "    detector = aruco.ArucoDetector(ARUCO_DICT, ARUCO_PARAMETERS)\n",
    "    markerLength = int(_folder_name.split(\"_\")[2])/100\n",
    "    markerSeperation = 0.01\n",
    "\n",
    "    board = aruco.GridBoard(\n",
    "            size= [1,1],\n",
    "            markerLength=markerLength,\n",
    "            markerSeparation=markerSeperation,\n",
    "            dictionary=ARUCO_DICT)\n",
    "    \n",
    "    \n",
    "    # timestamp\n",
    "    ts = []\n",
    "    ts_pth = os.path.join(_base_pth, _folder_name, \"webcam_timestamp.msgpack\")\n",
    "    ts_file = open(ts_pth, \"rb\")\n",
    "    ts_unpacker = mp.Unpacker(ts_file, object_hook=mpn.decode)\n",
    "    for ts_data in ts_unpacker:\n",
    "        ts.append(ts_data)\n",
    "        \n",
    "    # reading video\n",
    "    _video_pth = os.path.join(_base_pth,_folder_name,\"webcam_color.msgpack\")\n",
    "    _video_file = open(_video_pth, \"rb\")\n",
    "    _video_data = mp.Unpacker(_video_file, object_hook=mpn.decode)\n",
    "    \n",
    "    default_ids = [12, 88, 89]\n",
    "\n",
    "    data_yolo = {\"frame_id\":[],\"marker_ids\":[], \"corners\":[], \"tvec\":[], \"rvec\":[]}\n",
    "\n",
    "    counter = 0\n",
    "    NO_DETECTION = False\n",
    "\n",
    "    for _frame in _video_data:\n",
    "\n",
    "        shape = _frame.shape\n",
    "        gray = cv2.cvtColor(_frame, cv2.COLOR_BGR2GRAY)\n",
    "        ids = []\n",
    "        # YOLO\n",
    "        modelcorners = []\n",
    "        yolo_results = yolo_model.predict(_frame, verbose=False, conf = 0.8, half = True)[0]\n",
    "        _mid, counts = np.unique(yolo_results.boxes.cls.cpu(), return_counts=True)\n",
    "        # break\n",
    "        if counts.size == 0:\n",
    "            NO_DETECTION = True\n",
    "        elif max(counts) > 1 and _mid.size == 1:\n",
    "            _max_conf = np.argmax(yolo_results.boxes.conf.cpu())\n",
    "            for _keys in yolo_results[_max_conf].keypoints.data:\n",
    "                modelcorners.append(_keys[0:4].cpu().numpy())\n",
    "        else:\n",
    "            for _keys in yolo_results.keypoints.data:\n",
    "                modelcorners.append(_keys[0:4].cpu().numpy())\n",
    "            modelcorners = np.array(modelcorners)\n",
    "        \n",
    "        if not NO_DETECTION: # if there are any detections else None\n",
    "            _idx = yolo_results.boxes.cls.cpu().numpy()        \n",
    "            \n",
    "            \n",
    "            if max(counts) > 1:\n",
    "                match _mid:\n",
    "                    case 0:\n",
    "                        ids.append([12])\n",
    "                    case 1:\n",
    "                        ids.append([88])\n",
    "                    case 2:\n",
    "                        ids.append([89])\n",
    "                ids = np.array(ids, dtype=np.int32)\n",
    "            \n",
    "            else:\n",
    "                for i in _idx:\n",
    "                    match i:\n",
    "                        case 0:\n",
    "                            ids.append([12])\n",
    "                        case 1:\n",
    "                            ids.append([88])\n",
    "                        case 2:\n",
    "                            ids.append([89])\n",
    "                ids = np.array(ids, dtype=np.int32)\n",
    "        else:\n",
    "            ids = None\n",
    "            \n",
    "        if len(modelcorners) != 0: # if there are any detections else skip\n",
    "            try:\n",
    "                y_rvec, y_tvec = estimatePoseSingleMarkers(modelcorners, 0.05, _webcam_cam_mat, _webcam_dist)\n",
    "            except:\n",
    "                ids = None\n",
    "                \n",
    "        if ids is None:\n",
    "            data_yolo[\"frame_id\"].append(counter)\n",
    "            data_yolo[\"marker_ids\"].append(None)\n",
    "            data_yolo[\"corners\"].append(None)\n",
    "            data_yolo[\"tvec\"].append(None)\n",
    "            data_yolo[\"rvec\"].append(None)\n",
    "\n",
    "        if ids is not None:\n",
    "            data_yolo[\"frame_id\"].append(counter)\n",
    "            data_yolo[\"marker_ids\"].append(ids)\n",
    "            data_yolo[\"corners\"].append(modelcorners)\n",
    "            data_yolo[\"tvec\"].append(y_tvec)\n",
    "            data_yolo[\"rvec\"].append(y_rvec)\n",
    "        counter += 1\n",
    "        NO_DETECTION = False\n",
    "    _video_file.close()\n",
    "    \n",
    "    data = data_yolo.copy()\n",
    "    \n",
    "    # coordinates\n",
    "    \n",
    "    coordinate = {str(default_ids[0]):{\"x\":[], \"y\":[], \"z\":[], \"rx\":[], \"ry\":[], \"rz\":[]},\n",
    "              str(default_ids[1]):{\"x\":[], \"y\":[], \"z\":[], \"rx\":[], \"ry\":[], \"rz\":[]},\n",
    "              str(default_ids[2]):{\"x\":[], \"y\":[], \"z\":[], \"rx\":[], \"ry\":[], \"rz\":[]}}\n",
    "\n",
    "    doesnt_exist = []\n",
    "    # default_ids = [100, 49, 80]\n",
    "    zero_counter = 0\n",
    "    for i in range(len(data[\"frame_id\"])):\n",
    "        if data[\"marker_ids\"][i] is not None:\n",
    "            \n",
    "            if default_ids[0] not in data[\"marker_ids\"][i]:\n",
    "                doesnt_exist.append(default_ids[0])\n",
    "            if default_ids[1] not in data[\"marker_ids\"][i]:\n",
    "                doesnt_exist.append(default_ids[1])\n",
    "            if default_ids[2] not in data[\"marker_ids\"][i]:\n",
    "                doesnt_exist.append(default_ids[2])\n",
    "                \n",
    "            _zero_counter = 0            \n",
    "            for j, _m in enumerate(data[\"marker_ids\"][i]):\n",
    "                    \n",
    "                if _m in default_ids:\n",
    "                    coordinate[str(_m[0])][\"x\"].append(data[\"tvec\"][i][j][0][0])\n",
    "                    coordinate[str(_m[0])][\"y\"].append(data[\"tvec\"][i][j][0][1])\n",
    "                    coordinate[str(_m[0])][\"z\"].append(data[\"tvec\"][i][j][0][2])\n",
    "                    coordinate[str(_m[0])][\"rx\"].append(data[\"rvec\"][i][j][0][0])\n",
    "                    coordinate[str(_m[0])][\"ry\"].append(data[\"rvec\"][i][j][0][1])\n",
    "                    coordinate[str(_m[0])][\"rz\"].append(data[\"rvec\"][i][j][0][2])\n",
    "\n",
    "            for k in doesnt_exist:\n",
    "                coordinate[str(k)][\"x\"].append(np.nan)\n",
    "                coordinate[str(k)][\"y\"].append(np.nan)\n",
    "                coordinate[str(k)][\"z\"].append(np.nan)\n",
    "                coordinate[str(k)][\"rx\"].append(np.nan)\n",
    "                coordinate[str(k)][\"ry\"].append(np.nan)\n",
    "                coordinate[str(k)][\"rz\"].append(np.nan)\n",
    "                \n",
    "        else:\n",
    "            for _k in default_ids:\n",
    "                coordinate[str(_k)][\"x\"].append(np.nan)\n",
    "                coordinate[str(_k)][\"y\"].append(np.nan)\n",
    "                coordinate[str(_k)][\"z\"].append(np.nan)\n",
    "                coordinate[str(_k)][\"rx\"].append(np.nan)\n",
    "                coordinate[str(_k)][\"ry\"].append(np.nan)\n",
    "                coordinate[str(_k)][\"rz\"].append(np.nan)\n",
    "                \n",
    "        doesnt_exist.clear()\n",
    "        \n",
    "        \n",
    "    # creating dataframe\n",
    "    \n",
    "    if type(ts[0]) != datetime:\n",
    "        # convert epoch to datetime\n",
    "        ts = [datetime.fromtimestamp(t) for t in ts]\n",
    "    translation_correction = np.array([0.045, -0.05, 0.045]).reshape(3, 1)\n",
    "\n",
    "    ar_df = pl.DataFrame({\"time\":ts,\"x\":coordinate[str(default_ids[2])][\"x\"][:len(ts)], \"y\":coordinate[str(default_ids[2])][\"y\"][:len(ts)], \"z\":coordinate[str(default_ids[2])][\"z\"][:len(ts)], \"rx\":coordinate[str(default_ids[2])][\"rx\"][:len(ts)], \"ry\":coordinate[str(default_ids[2])][\"ry\"][:len(ts)], \"rz\":coordinate[str(default_ids[2])][\"rz\"][:len(ts)]})\n",
    "    tar = _ar_lframe_rot.T @  (np.array(ar_df[['x', 'y', 'z']].to_numpy()).T - (_ar_lframe_org))\n",
    "    _ar_df = pl.DataFrame({\"time\":ts,\"x\":tar[0], \"y\":tar[1], \"z\":tar[2], \"rx\":coordinate[str(default_ids[2])][\"rx\"][:len(ts)], \"ry\":coordinate[str(default_ids[2])][\"ry\"][:len(ts)], \"rz\":coordinate[str(default_ids[2])][\"rz\"][:len(ts)]})\n",
    "    \n",
    "    # print(len(coordinate[str(default_ids[0])][\"y\"]), len(coordinate[str(default_ids[1])][\"y\"]), len(coordinate[str(default_ids[2])][\"z\"]))\n",
    "    \n",
    "    _mocap_pth = os.path.join(os.path.dirname(os.path.dirname(_video_pth)),_folder_name.split('_')[0], f\"{_folder_name}.csv\")\n",
    "    _mocap_df, st_time = read_rigid_body_csv(_mocap_pth)\n",
    "    _mocap_df = add_datetime_col(_mocap_df, st_time, \"seconds\")\n",
    "    _mocap_df = pl.from_pandas(_mocap_df)\n",
    "\n",
    "    cumulative = _mocap_df[[m1['x'], m1['y'], m1['z']]].to_numpy().T + _mocap_df[[m4['x'], m4['y'], m4['z']]].to_numpy().T + _mocap_df[[m3['x'], m3['y'], m3['z']]].to_numpy().T + _mocap_df[[m5['x'], m5['y'], m5['z']]].to_numpy().T\n",
    "    cumulative = cumulative/4\n",
    "\n",
    "    _m_df = pl.DataFrame({\"time\":_mocap_df[\"time\"], \"x\":cumulative[0], \"y\":cumulative[1], \"z\":cumulative[2]})\n",
    "    \n",
    "    _time_offset = teensy_df['time'][idx] - ar_df['time'][0]\n",
    "\n",
    "    # interpolate teensy data to match aruco data\n",
    "\n",
    "    _temp_df = _ar_df.to_pandas()\n",
    "    clip_idx = _temp_df['time'].sub(teensy_df['time'][idx]).abs().idxmin()\n",
    "\n",
    "    _ar_df_test = _ar_df[clip_idx:]\n",
    "\n",
    "    _data_time_offset = _ar_df_test['time'][0] - _mocap_df['time'][0]\n",
    "    _ar_df_test = _ar_df_test.with_columns([(pl.col('time') - _data_time_offset).alias('time')])\n",
    "    _ar_df = _ar_df_test\n",
    "    \n",
    "    ar_time = _ar_df['time'].dt.epoch()\n",
    "    ar_time = (ar_time - ar_time[0])\n",
    "    ar_time = [timedelta(microseconds=t).total_seconds() for t in ar_time]\n",
    "    ar_time = np.array(ar_time)\n",
    "\n",
    "    mc_time = _mocap_df['time'].dt.epoch()\n",
    "    mc_time = (mc_time - mc_time[0])\n",
    "    mc_time = [timedelta(microseconds=t).total_seconds() for t in mc_time]\n",
    "    mc_time = np.array(mc_time)\n",
    "\n",
    "    ar_del_t = _ar_df['time'].diff().mean()/10**6\n",
    "    mc_del_t = 0.01\n",
    "    \n",
    "    _new_mc = {'time':_ar_df['time'],'x':[], 'y':[], 'z':[]}\n",
    "\n",
    "    for i in ['x', 'y', 'z']:\n",
    "        f = interp1d(_m_df['time'].dt.epoch(), _m_df[i], kind='linear', fill_value=\"extrapolate\")\n",
    "        _mc_val = f(_ar_df['time'].dt.epoch())\n",
    "        _new_mc[i] = _mc_val\n",
    "\n",
    "    _mc_df = pl.DataFrame(_new_mc)\n",
    "    results['ar_df'].append(_ar_df)\n",
    "    results['ar_dt'].append(ar_del_t)\n",
    "    results['mc_df'].append(_mc_df)\n",
    "    results['mc_dt'].append(mc_del_t)\n",
    "    results['time_offset'].append(_time_offset)\n",
    "    results['folder_name'].append(_folder_name)"
   ]
  },
  {
   "cell_type": "code",
   "execution_count": 29,
   "metadata": {},
   "outputs": [],
   "source": [
    "\n",
    "mean_ar = {'x':[], 'y':[], 'z':[], 'std_x':[], 'std_y':[], 'std_z':[], 'folder_name':[]}\n",
    "mean_mc = {'x':[], 'y':[], 'z':[], 'std_x':[], 'std_y':[], 'std_z':[], 'folder_name':[]}\n",
    "for i in range(len(results['ar_df'])):\n",
    "    if i == 0:\n",
    "        _offset = results['ar_df'][0][['x', 'y', 'z']][0].to_numpy() - results['mc_df'][0][['x', 'y', 'z']][0].to_numpy()        \n",
    "    _temp_ar = results['ar_df'][i][['x', 'y', 'z']].to_numpy() - _offset\n",
    "    \n",
    "    mean_ar['x'].append(np.nanmean(_temp_ar[:, 0]))\n",
    "    mean_ar['y'].append(np.nanmean(_temp_ar[:, 1]))\n",
    "    mean_ar['z'].append(np.nanmean(_temp_ar[:, 2]))\n",
    "    mean_ar['std_x'].append(np.nanstd(_temp_ar[:, 0]))\n",
    "    mean_ar['std_y'].append(np.nanstd(_temp_ar[:, 1]))\n",
    "    mean_ar['std_z'].append(np.nanstd(_temp_ar[:, 2]))\n",
    "    mean_ar['folder_name'].append(results['folder_name'][i])\n",
    "    \n",
    "    _temp_mc = results['mc_df'][i][['x', 'y', 'z']].to_numpy()\n",
    "    mean_mc['x'].append(np.nanmean(_temp_mc[:, 0]))\n",
    "    mean_mc['y'].append(np.nanmean(_temp_mc[:, 1]))\n",
    "    mean_mc['z'].append(np.nanmean(_temp_mc[:, 2]))\n",
    "    mean_mc['std_x'].append(np.nanstd(_temp_mc[:, 0]))\n",
    "    mean_mc['std_y'].append(np.nanstd(_temp_mc[:, 1]))\n",
    "    mean_mc['std_z'].append(np.nanstd(_temp_mc[:, 2]))\n",
    "    mean_mc['folder_name'].append(results['folder_name'][i])  \n",
    "    \n",
    "mean_ar = pl.DataFrame(mean_ar)\n",
    "mean_mc = pl.DataFrame(mean_mc)"
   ]
  },
  {
   "cell_type": "code",
   "execution_count": 32,
   "metadata": {},
   "outputs": [
    {
     "data": {
      "text/plain": [
       "Text(0.5, 1.0, 'YOLO vs Mocap static')"
      ]
     },
     "execution_count": 32,
     "metadata": {},
     "output_type": "execute_result"
    },
    {
     "data": {
      "image/png": "[encoded data removed]",
      "text/plain": [
       "<Figure size 640x480 with 1 Axes>"
      ]
     },
     "metadata": {},
     "output_type": "display_data"
    }
   ],
   "source": [
    "sns.scatterplot(data=mean_ar.to_pandas(), x='x', y='z', label = 'YOLO', alpha = 0.9)\n",
    "sns.scatterplot(data=mean_mc.to_pandas(), x='x', y='z', label = 'mocap', alpha = 0.5)\n",
    "plt.title(\"YOLO vs Mocap static\")"
   ]
  },
  {
   "cell_type": "code",
   "execution_count": 39,
   "metadata": {},
   "outputs": [],
   "source": [
    "err_x = mean_ar['x'] - mean_mc['x'] \n",
    "err_z = mean_ar['z'] - mean_mc['z']"
   ]
  },
  {
   "cell_type": "code",
   "execution_count": 44,
   "metadata": {},
   "outputs": [
    {
     "data": {
      "text/plain": [
       "Text(0, 0.5, 'x in meters')"
      ]
     },
     "execution_count": 44,
     "metadata": {},
     "output_type": "execute_result"
    },
    {
     "data": {
      "image/png": "[encoded data removed]",
      "text/plain": [
       "<Figure size 640x480 with 1 Axes>"
      ]
     },
     "metadata": {},
     "output_type": "display_data"
    }
   ],
   "source": [
    "sns.boxplot(data=err_x.to_pandas())\n",
    "plt.ylabel('x in meters')"
   ]
  },
  {
   "cell_type": "code",
   "execution_count": 45,
   "metadata": {},
   "outputs": [
    {
     "data": {
      "text/plain": [
       "Text(0, 0.5, 'z in meters')"
      ]
     },
     "execution_count": 45,
     "metadata": {},
     "output_type": "execute_result"
    },
    {
     "data": {
      "image/png": "[encoded data removed]",
      "text/plain": [
       "<Figure size 640x480 with 1 Axes>"
      ]
     },
     "metadata": {},
     "output_type": "display_data"
    }
   ],
   "source": [
    "sns.boxplot(data=err_z.to_pandas())\n",
    "plt.ylabel('z in meters')"
   ]
  },
  {
   "cell_type": "code",
   "execution_count": null,
   "metadata": {},
   "outputs": [],
   "source": []
  }
 ],
 "metadata": {
  "kernelspec": {
   "display_name": "py11",
   "language": "python",
   "name": "python3"
  },
  "language_info": {
   "codemirror_mode": {
    "name": "ipython",
    "version": 3
   },
   "file_extension": ".py",
   "mimetype": "text/x-python",
   "name": "python",
   "nbconvert_exporter": "python",
   "pygments_lexer": "ipython3",
   "version": "3.11.5"
  },
  "orig_nbformat": 4
 },
 "nbformat": 4,
 "nbformat_minor": 2
}
