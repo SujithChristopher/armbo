{
 "cells": [
  {
   "cell_type": "code",
   "execution_count": 6,
   "metadata": {},
   "outputs": [],
   "source": [
    "import numpy as np\n",
    "import msgpack as mp\n",
    "import msgpack_numpy as mpn\n",
    "import cv2\n",
    "from cv2 import aruco\n",
    "import matplotlib.pyplot as plt\n",
    "import pandas as pd\n",
    "import os\n",
    "import polars as pl\n",
    "import toml\n",
    "import sys\n",
    "sys.path.append(os.path.join(os.getcwd(), '..'))\n",
    "from support.pd_support import *\n",
    "\n",
    "from datetime import datetime\n",
    "from support.pd_support import *\n",
    "from support.ar_calculations import *\n",
    "\n",
    "from scipy.signal import savgol_filter\n",
    "from scipy import integrate\n",
    "from ahrs.filters import Madgwick\n",
    "from scipy import stats\n",
    "import toml\n",
    "\n",
    "import plotly.io as pio\n",
    "import plotly.express as px\n",
    "from plotly.subplots import make_subplots\n",
    "import plotly.graph_objects as go\n",
    "from tqdm import tqdm\n",
    "import seaborn as sns\n",
    "\n",
    "pio.renderers.default = \"vscode\""
   ]
  },
  {
   "cell_type": "code",
   "execution_count": 7,
   "metadata": {},
   "outputs": [],
   "source": [
    "_pth = toml.load('DATA_PATH.toml')['data_path']['directory']\n",
    "_pth = os.path.dirname(_pth)\n",
    "_parent_folder = \"paper\"\n",
    "_calib_folder_name = \"calibration_00\"\n",
    "\n",
    "_base_pth = os.path.join(_pth,\"recorded_data\",_parent_folder)\n",
    "# _folder_list = os.listdir(_base_pth)[10:15] # forward\n",
    "# _folder_list = os.listdir(_base_pth)[15:] # sideways\n",
    "_folder_list = os.listdir(_base_pth)[27:] # spots\n",
    "\n",
    "\n",
    "_webcam_calib_folder = os.path.join(_pth,\"recorded_data\",_parent_folder,_calib_folder_name)\n",
    "_webcam_calib_folder = os.path.join(_webcam_calib_folder)\n",
    "_webcam_calib_pth = os.path.join( _webcam_calib_folder, \"webcam_calibration.msgpack\")\n",
    "\n",
    "with open(_webcam_calib_pth, \"rb\") as f:\n",
    "    webcam_calib = mp.Unpacker(f, object_hook=mpn.decode)\n",
    "    _temp = next(webcam_calib)\n",
    "    _webcam_cam_mat = _temp[0]\n",
    "    _webcam_dist = _temp[1]\n",
    "\n",
    "ar_lframe_pth = os.path.join(_webcam_calib_folder, \"spots_rotmat.msgpack\")\n",
    "with open(ar_lframe_pth, \"rb\") as f:\n",
    "    ar_lframe = mp.Unpacker(f, object_hook=mpn.decode)\n",
    "    _ar_lframe_rot = next(ar_lframe)\n",
    "    _ar_lframe_org = next(ar_lframe)"
   ]
  },
  {
   "cell_type": "markdown",
   "metadata": {},
   "source": [
    "MOCAP data"
   ]
  },
  {
   "cell_type": "code",
   "execution_count": 8,
   "metadata": {},
   "outputs": [],
   "source": [
    "m1 = get_rb_marker_name(2)\n",
    "m4 = get_rb_marker_name(3)\n",
    "m3 = get_rb_marker_name(4)\n",
    "m5 = get_rb_marker_name(5)"
   ]
  },
  {
   "cell_type": "markdown",
   "metadata": {},
   "source": [
    "Getting Sync pulse from Teensy"
   ]
  },
  {
   "cell_type": "code",
   "execution_count": 9,
   "metadata": {},
   "outputs": [],
   "source": [
    "def estimatePoseSingleMarkers(corners, marker_size, mtx, distortion):\n",
    "\n",
    "    marker_points = np.array([[-marker_size / 2, marker_size / 2, 0],\n",
    "                              [marker_size / 2, marker_size / 2, 0],\n",
    "                              [marker_size / 2, -marker_size / 2, 0],\n",
    "                              [-marker_size / 2, -marker_size / 2, 0]], dtype=np.float32)\n",
    "    trash = []\n",
    "    rvecs = []\n",
    "    tvecs = []\n",
    "    for c in corners:\n",
    "        nada, R, t = cv2.solvePnP(marker_points, c, mtx, distortion, True, flags= cv2.SOLVEPNP_ITERATIVE)\n",
    "        \n",
    "        if not (R is None or t is None):\n",
    "            R = np.array(R).reshape(1, 3).tolist()\n",
    "            t = np.array(t).reshape(1, 3).tolist()\n",
    "        \n",
    "        rvecs.append(R)\n",
    "        tvecs.append(t)\n",
    "    return rvecs, tvecs"
   ]
  },
  {
   "cell_type": "code",
   "execution_count": 10,
   "metadata": {},
   "outputs": [
    {
     "name": "stderr",
     "output_type": "stream",
     "text": [
      "  0%|          | 0/25 [00:00<?, ?it/s]"
     ]
    },
    {
     "name": "stderr",
     "output_type": "stream",
     "text": [
      "100%|██████████| 25/25 [00:20<00:00,  1.23it/s]\n"
     ]
    }
   ],
   "source": [
    "results = {'ar_df':[], 'ar_dt':[], 'mc_df':[], 'mc_dt':[], 'time_offset':[], 'folder_name':[]}\n",
    "for _folder_name in tqdm(_folder_list):\n",
    "    _teensy_df = pl.read_csv(os.path.join(_base_pth,_folder_name,\"imu01.csv\"))\n",
    "    _teensy_df = _teensy_df.with_columns(pl.col(\"mz\\r\").str.replace(\"\\r\",\"\").cast(pl.Float64).alias(\"mz\"))\n",
    "    t_time = _teensy_df[\"rust_time\"].to_numpy()\n",
    "    t_time = [datetime.fromtimestamp(t) for t in t_time]\n",
    "    # t_time = [datetime.strftime(t) for t in t_time]\n",
    "    teensy_df = pl.DataFrame({\"time\":t_time,\"sync\":_teensy_df[\"sync\"]})\n",
    "\n",
    "    for idx, i in enumerate(teensy_df['sync']):\n",
    "        if i == 1:\n",
    "            break\n",
    "    teensy_start_time = teensy_df['time'][idx]\n",
    "    \n",
    "    # Aruco parameters\n",
    "    \n",
    "    ARUCO_PARAMETERS = aruco.DetectorParameters()\n",
    "    ARUCO_DICT = aruco.getPredefinedDictionary(aruco.DICT_ARUCO_MIP_36H12)\n",
    "    detector = aruco.ArucoDetector(ARUCO_DICT, ARUCO_PARAMETERS)\n",
    "    markerLength = int(_folder_name.split(\"_\")[2])/100\n",
    "    markerSeperation = 0.01\n",
    "\n",
    "    board = aruco.GridBoard(\n",
    "            size= [1,1],\n",
    "            markerLength=markerLength,\n",
    "            markerSeparation=markerSeperation,\n",
    "            dictionary=ARUCO_DICT)\n",
    "    \n",
    "    \n",
    "    # timestamp\n",
    "    ts = []\n",
    "    ts_pth = os.path.join(_base_pth, _folder_name, \"webcam_timestamp.msgpack\")\n",
    "    ts_file = open(ts_pth, \"rb\")\n",
    "    ts_unpacker = mp.Unpacker(ts_file, object_hook=mpn.decode)\n",
    "    for ts_data in ts_unpacker:\n",
    "        ts.append(ts_data)\n",
    "        \n",
    "    # reading video\n",
    "    _video_pth = os.path.join(_base_pth,_folder_name,\"webcam_color.msgpack\")\n",
    "    _video_file = open(_video_pth, \"rb\")\n",
    "    _video_data = mp.Unpacker(_video_file, object_hook=mpn.decode)\n",
    "\n",
    "    default_ids = [12, 88, 89]\n",
    "\n",
    "    data = {\"frame_id\":[],\"marker_ids\":[], \"corners\":[], \"tvec\":[], \"rvec\":[]}\n",
    "\n",
    "    counter = 0\n",
    "\n",
    "    for _frame in _video_data:\n",
    "\n",
    "        shape = _frame.shape\n",
    "        gray = cv2.cvtColor(_frame, cv2.COLOR_BGR2GRAY)\n",
    "        corners, ids, rejectedpoints = detector.detectMarkers(_frame)\n",
    "        # refine corners\n",
    "        corners, ids, rejectedpoints,_ = detector.refineDetectedMarkers(image=_frame,board=board ,detectedCorners=corners, detectedIds=ids, rejectedCorners=rejectedpoints, cameraMatrix=_webcam_cam_mat, distCoeffs=_webcam_dist)\n",
    "        rvec, tvec  = estimatePoseSingleMarkers(corners=corners, marker_size=markerLength, mtx=_webcam_cam_mat, distortion=_webcam_dist)\n",
    "\n",
    "        if ids is None:\n",
    "            data[\"frame_id\"].append(counter)\n",
    "            data[\"marker_ids\"].append(None)\n",
    "            data[\"corners\"].append(None)\n",
    "            data[\"tvec\"].append(None)\n",
    "            data[\"rvec\"].append(None)\n",
    "\n",
    "        if ids is not None:\n",
    "            data[\"frame_id\"].append(counter)\n",
    "            data[\"marker_ids\"].append(ids)\n",
    "            data[\"corners\"].append(corners)\n",
    "            data[\"tvec\"].append(tvec)\n",
    "            data[\"rvec\"].append(rvec)\n",
    "\n",
    "        counter+=1\n",
    "    _video_file.close()\n",
    "    \n",
    "    # coordinates\n",
    "    \n",
    "    coordinate = {str(default_ids[0]):{\"x\":[], \"y\":[], \"z\":[], \"rx\":[], \"ry\":[], \"rz\":[]},\n",
    "              str(default_ids[1]):{\"x\":[], \"y\":[], \"z\":[], \"rx\":[], \"ry\":[], \"rz\":[]},\n",
    "              str(default_ids[2]):{\"x\":[], \"y\":[], \"z\":[], \"rx\":[], \"ry\":[], \"rz\":[]}}\n",
    "\n",
    "    doesnt_exist = []\n",
    "    # default_ids = [100, 49, 80]\n",
    "    zero_counter = 0\n",
    "    for i in range(len(data[\"frame_id\"])):\n",
    "        if data[\"marker_ids\"][i] is not None:\n",
    "            \n",
    "            if default_ids[0] not in data[\"marker_ids\"][i]:\n",
    "                doesnt_exist.append(default_ids[0])\n",
    "            if default_ids[1] not in data[\"marker_ids\"][i]:\n",
    "                doesnt_exist.append(default_ids[1])\n",
    "            if default_ids[2] not in data[\"marker_ids\"][i]:\n",
    "                doesnt_exist.append(default_ids[2])\n",
    "                \n",
    "            _zero_counter = 0            \n",
    "            for j, _m in enumerate(data[\"marker_ids\"][i]):\n",
    "                    \n",
    "                if _m in default_ids:\n",
    "                    coordinate[str(_m[0])][\"x\"].append(data[\"tvec\"][i][j][0][0])\n",
    "                    coordinate[str(_m[0])][\"y\"].append(data[\"tvec\"][i][j][0][1])\n",
    "                    coordinate[str(_m[0])][\"z\"].append(data[\"tvec\"][i][j][0][2])\n",
    "                    coordinate[str(_m[0])][\"rx\"].append(data[\"rvec\"][i][j][0][0])\n",
    "                    coordinate[str(_m[0])][\"ry\"].append(data[\"rvec\"][i][j][0][1])\n",
    "                    coordinate[str(_m[0])][\"rz\"].append(data[\"rvec\"][i][j][0][2])\n",
    "\n",
    "            for k in doesnt_exist:\n",
    "                coordinate[str(k)][\"x\"].append(np.nan)\n",
    "                coordinate[str(k)][\"y\"].append(np.nan)\n",
    "                coordinate[str(k)][\"z\"].append(np.nan)\n",
    "                coordinate[str(k)][\"rx\"].append(np.nan)\n",
    "                coordinate[str(k)][\"ry\"].append(np.nan)\n",
    "                coordinate[str(k)][\"rz\"].append(np.nan)\n",
    "                \n",
    "        else:\n",
    "            for _k in default_ids:\n",
    "                coordinate[str(_k)][\"x\"].append(np.nan)\n",
    "                coordinate[str(_k)][\"y\"].append(np.nan)\n",
    "                coordinate[str(_k)][\"z\"].append(np.nan)\n",
    "                coordinate[str(_k)][\"rx\"].append(np.nan)\n",
    "                coordinate[str(_k)][\"ry\"].append(np.nan)\n",
    "                coordinate[str(_k)][\"rz\"].append(np.nan)\n",
    "                \n",
    "        doesnt_exist.clear()\n",
    "        \n",
    "        \n",
    "    # creating dataframe\n",
    "    \n",
    "    if type(ts[0]) != datetime:\n",
    "        # convert epoch to datetime\n",
    "        ts = [datetime.fromtimestamp(t) for t in ts]\n",
    "    translation_correction = np.array([0.045, -0.05, 0.045]).reshape(3, 1)\n",
    "\n",
    "    ar_df = pl.DataFrame({\"time\":ts,\"x\":coordinate[str(default_ids[2])][\"x\"][:len(ts)], \"y\":coordinate[str(default_ids[2])][\"y\"][:len(ts)], \"z\":coordinate[str(default_ids[2])][\"z\"][:len(ts)], \"rx\":coordinate[str(default_ids[2])][\"rx\"][:len(ts)], \"ry\":coordinate[str(default_ids[2])][\"ry\"][:len(ts)], \"rz\":coordinate[str(default_ids[2])][\"rz\"][:len(ts)]})\n",
    "    tar = _ar_lframe_rot.T @  (np.array(ar_df[['x', 'y', 'z']].to_numpy()).T - (_ar_lframe_org))\n",
    "    _ar_df = pl.DataFrame({\"time\":ts,\"x\":tar[0], \"y\":tar[1], \"z\":tar[2], \"rx\":coordinate[str(default_ids[2])][\"rx\"][:len(ts)], \"ry\":coordinate[str(default_ids[2])][\"ry\"][:len(ts)], \"rz\":coordinate[str(default_ids[2])][\"rz\"][:len(ts)]})\n",
    "    \n",
    "    # print(len(coordinate[str(default_ids[0])][\"y\"]), len(coordinate[str(default_ids[1])][\"y\"]), len(coordinate[str(default_ids[2])][\"z\"]))\n",
    "    \n",
    "    _mocap_pth = os.path.join(os.path.dirname(os.path.dirname(_video_pth)),_folder_name.split('_')[0], f\"{_folder_name}.csv\")\n",
    "    _mocap_df, st_time = read_rigid_body_csv(_mocap_pth)\n",
    "    _mocap_df = add_datetime_col(_mocap_df, st_time, \"seconds\")\n",
    "    _mocap_df = pl.from_pandas(_mocap_df)\n",
    "\n",
    "    cumulative = _mocap_df[[m1['x'], m1['y'], m1['z']]].to_numpy().T + _mocap_df[[m4['x'], m4['y'], m4['z']]].to_numpy().T + _mocap_df[[m3['x'], m3['y'], m3['z']]].to_numpy().T + _mocap_df[[m5['x'], m5['y'], m5['z']]].to_numpy().T\n",
    "    cumulative = cumulative/4\n",
    "\n",
    "    _m_df = pl.DataFrame({\"time\":_mocap_df[\"time\"], \"x\":cumulative[0], \"y\":cumulative[1], \"z\":cumulative[2]})\n",
    "    \n",
    "    _time_offset = teensy_df['time'][idx] - ar_df['time'][0]\n",
    "\n",
    "    # interpolate teensy data to match aruco data\n",
    "\n",
    "    _temp_df = _ar_df.to_pandas()\n",
    "    clip_idx = _temp_df['time'].sub(teensy_df['time'][idx]).abs().idxmin()\n",
    "\n",
    "    _ar_df_test = _ar_df[clip_idx:]\n",
    "\n",
    "    _data_time_offset = _ar_df_test['time'][0] - _mocap_df['time'][0]\n",
    "    _ar_df_test = _ar_df_test.with_columns([(pl.col('time') - _data_time_offset).alias('time')])\n",
    "    _ar_df = _ar_df_test\n",
    "    \n",
    "    ar_time = _ar_df['time'].dt.epoch()\n",
    "    ar_time = (ar_time - ar_time[0])\n",
    "    ar_time = [timedelta(microseconds=t).total_seconds() for t in ar_time]\n",
    "    ar_time = np.array(ar_time)\n",
    "\n",
    "    mc_time = _mocap_df['time'].dt.epoch()\n",
    "    mc_time = (mc_time - mc_time[0])\n",
    "    mc_time = [timedelta(microseconds=t).total_seconds() for t in mc_time]\n",
    "    mc_time = np.array(mc_time)\n",
    "\n",
    "    ar_del_t = _ar_df['time'].diff().mean()/10**6\n",
    "    mc_del_t = 0.01\n",
    "    \n",
    "    _new_mc = {'time':_ar_df['time'],'x':[], 'y':[], 'z':[]}\n",
    "\n",
    "    for i in ['x', 'y', 'z']:\n",
    "        f = interp1d(_m_df['time'].dt.epoch(), _m_df[i], kind='linear', fill_value=\"extrapolate\")\n",
    "        _mc_val = f(_ar_df['time'].dt.epoch())\n",
    "        _new_mc[i] = _mc_val\n",
    "\n",
    "    _mc_df = pl.DataFrame(_new_mc)\n",
    "    results['ar_df'].append(_ar_df)\n",
    "    results['ar_dt'].append(ar_del_t)\n",
    "    results['mc_df'].append(_mc_df)\n",
    "    results['mc_dt'].append(mc_del_t)\n",
    "    results['time_offset'].append(_time_offset)\n",
    "    results['folder_name'].append(_folder_name)"
   ]
  },
  {
   "cell_type": "code",
   "execution_count": 11,
   "metadata": {},
   "outputs": [],
   "source": [
    "\n",
    "mean_ar = {'x':[], 'y':[], 'z':[], 'std_x':[], 'std_y':[], 'std_z':[], 'folder_name':[]}\n",
    "mean_mc = {'x':[], 'y':[], 'z':[], 'std_x':[], 'std_y':[], 'std_z':[], 'folder_name':[]}\n",
    "for i in range(len(results['ar_df'])):\n",
    "    if i == 0:\n",
    "        _offset = results['ar_df'][0][['x', 'y', 'z']][0].to_numpy() - results['mc_df'][0][['x', 'y', 'z']][0].to_numpy()        \n",
    "    _temp_ar = results['ar_df'][i][['x', 'y', 'z']].to_numpy() - _offset\n",
    "    \n",
    "    mean_ar['x'].append(np.nanmean(_temp_ar[:, 0]))\n",
    "    mean_ar['y'].append(np.nanmean(_temp_ar[:, 1]))\n",
    "    mean_ar['z'].append(np.nanmean(_temp_ar[:, 2]))\n",
    "    mean_ar['std_x'].append(np.nanstd(_temp_ar[:, 0]))\n",
    "    mean_ar['std_y'].append(np.nanstd(_temp_ar[:, 1]))\n",
    "    mean_ar['std_z'].append(np.nanstd(_temp_ar[:, 2]))\n",
    "    mean_ar['folder_name'].append(results['folder_name'][i])\n",
    "    \n",
    "    _temp_mc = results['mc_df'][i][['x', 'y', 'z']].to_numpy()\n",
    "    mean_mc['x'].append(np.nanmean(_temp_mc[:, 0]))\n",
    "    mean_mc['y'].append(np.nanmean(_temp_mc[:, 1]))\n",
    "    mean_mc['z'].append(np.nanmean(_temp_mc[:, 2]))\n",
    "    mean_mc['std_x'].append(np.nanstd(_temp_mc[:, 0]))\n",
    "    mean_mc['std_y'].append(np.nanstd(_temp_mc[:, 1]))\n",
    "    mean_mc['std_z'].append(np.nanstd(_temp_mc[:, 2]))\n",
    "    mean_mc['folder_name'].append(results['folder_name'][i])  \n",
    "    \n",
    "mean_ar = pl.DataFrame(mean_ar)\n",
    "mean_mc = pl.DataFrame(mean_mc)"
   ]
  },
  {
   "cell_type": "code",
   "execution_count": 12,
   "metadata": {},
   "outputs": [
    {
     "data": {
      "text/plain": [
       "Text(0.5, 1.0, 'Aruco vs Mocap static')"
      ]
     },
     "execution_count": 12,
     "metadata": {},
     "output_type": "execute_result"
    },
    {
     "data": {
      "image/png": "[encoded data removed]",
      "text/plain": [
       "<Figure size 640x480 with 1 Axes>"
      ]
     },
     "metadata": {},
     "output_type": "display_data"
    }
   ],
   "source": [
    "sns.scatterplot(data=mean_ar.to_pandas(), x='x', y='z', label = 'aruco', alpha = 0.9)\n",
    "sns.scatterplot(data=mean_mc.to_pandas(), x='x', y='z', label = 'mocap', alpha = 0.5)\n",
    "plt.title(\"Aruco vs Mocap static\")"
   ]
  },
  {
   "cell_type": "code",
   "execution_count": 13,
   "metadata": {},
   "outputs": [],
   "source": [
    "err_x = mean_ar['x'] - mean_mc['x'] \n",
    "err_z = mean_ar['z'] - mean_mc['z']"
   ]
  },
  {
   "cell_type": "code",
   "execution_count": 14,
   "metadata": {},
   "outputs": [
    {
     "data": {
      "text/plain": [
       "Text(0, 0.5, 'x in meters')"
      ]
     },
     "execution_count": 14,
     "metadata": {},
     "output_type": "execute_result"
    },
    {
     "data": {
      "image/png": "[encoded data removed]",
      "text/plain": [
       "<Figure size 640x480 with 1 Axes>"
      ]
     },
     "metadata": {},
     "output_type": "display_data"
    }
   ],
   "source": [
    "sns.boxplot(data=err_x.to_pandas())\n",
    "plt.ylabel('x in meters')"
   ]
  },
  {
   "cell_type": "code",
   "execution_count": 15,
   "metadata": {},
   "outputs": [
    {
     "data": {
      "text/plain": [
       "Text(0, 0.5, 'z in meters')"
      ]
     },
     "execution_count": 15,
     "metadata": {},
     "output_type": "execute_result"
    },
    {
     "data": {
      "image/png": "[encoded data removed]",
      "text/plain": [
       "<Figure size 640x480 with 1 Axes>"
      ]
     },
     "metadata": {},
     "output_type": "display_data"
    }
   ],
   "source": [
    "sns.boxplot(data=err_z.to_pandas())\n",
    "plt.ylabel('z in meters')"
   ]
  }
 ],
 "metadata": {
  "kernelspec": {
   "display_name": "py11",
   "language": "python",
   "name": "python3"
  },
  "language_info": {
   "codemirror_mode": {
    "name": "ipython",
    "version": 3
   },
   "file_extension": ".py",
   "mimetype": "text/x-python",
   "name": "python",
   "nbconvert_exporter": "python",
   "pygments_lexer": "ipython3",
   "version": "3.11.4"
  },
  "orig_nbformat": 4
 },
 "nbformat": 4,
 "nbformat_minor": 2
}
