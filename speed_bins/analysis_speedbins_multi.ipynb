{
 "cells": [
  {
   "cell_type": "code",
   "execution_count": 15,
   "metadata": {},
   "outputs": [],
   "source": [
    "import numpy as np\n",
    "import msgpack as mp\n",
    "import msgpack_numpy as mpn\n",
    "import cv2\n",
    "from cv2 import aruco\n",
    "import matplotlib.pyplot as plt\n",
    "import pandas as pd\n",
    "import os\n",
    "import polars as pl\n",
    "import toml\n",
    "import sys\n",
    "sys.path.append(os.path.join(os.getcwd(), '..'))\n",
    "from support.pd_support import *\n",
    "\n",
    "from datetime import datetime\n",
    "from support.pd_support import *\n",
    "from support.ar_calculations import *\n",
    "\n",
    "from scipy.signal import savgol_filter\n",
    "from scipy import integrate\n",
    "from ahrs.filters import Madgwick\n",
    "from scipy import stats\n",
    "import toml\n",
    "\n",
    "import plotly.io as pio\n",
    "import plotly.express as px\n",
    "from plotly.subplots import make_subplots\n",
    "import plotly.graph_objects as go\n",
    "from tqdm import tqdm\n",
    "import seaborn as sns\n",
    "\n",
    "pio.renderers.default = \"vscode\""
   ]
  },
  {
   "cell_type": "code",
   "execution_count": 16,
   "metadata": {},
   "outputs": [],
   "source": [
    "_pth = toml.load('DATA_PATH.toml')['data_path']['directory']\n",
    "_pth = os.path.dirname(_pth)\n",
    "_parent_folder = \"paper\"\n",
    "_calib_folder_name = \"calibration_00\"\n",
    "\n",
    "_base_pth = os.path.join(_pth,\"recorded_data\",_parent_folder)\n",
    "# _folder_list = os.listdir(_base_pth)[10:15] # forward\n",
    "_folder_list = os.listdir(_base_pth)[15:15+9] # sideways\n",
    "\n",
    "\n",
    "_webcam_calib_folder = os.path.join(_pth,\"recorded_data\",_parent_folder,_calib_folder_name)\n",
    "_webcam_calib_folder = os.path.join(_webcam_calib_folder)\n",
    "_webcam_calib_pth = os.path.join( _webcam_calib_folder, \"webcam_calibration.msgpack\")\n",
    "\n",
    "with open(_webcam_calib_pth, \"rb\") as f:\n",
    "    webcam_calib = mp.Unpacker(f, object_hook=mpn.decode)\n",
    "    _temp = next(webcam_calib)\n",
    "    _webcam_cam_mat = _temp[0]\n",
    "    _webcam_dist = _temp[1]\n",
    "\n",
    "ar_lframe_pth = os.path.join(_webcam_calib_folder, \"jr3_rotmat.msgpack\")\n",
    "with open(ar_lframe_pth, \"rb\") as f:\n",
    "    ar_lframe = mp.Unpacker(f, object_hook=mpn.decode)\n",
    "    _ar_lframe_rot = next(ar_lframe)\n",
    "    _ar_lframe_org = next(ar_lframe)"
   ]
  },
  {
   "cell_type": "markdown",
   "metadata": {},
   "source": [
    "MOCAP data"
   ]
  },
  {
   "cell_type": "code",
   "execution_count": 17,
   "metadata": {},
   "outputs": [],
   "source": [
    "m1 = get_rb_marker_name(1)\n",
    "m4 = get_rb_marker_name(2)\n",
    "m3 = get_rb_marker_name(3)\n",
    "m5 = get_rb_marker_name(6)"
   ]
  },
  {
   "cell_type": "markdown",
   "metadata": {},
   "source": [
    "Getting Sync pulse from Teensy"
   ]
  },
  {
   "cell_type": "code",
   "execution_count": 18,
   "metadata": {},
   "outputs": [],
   "source": [
    "def estimatePoseSingleMarkers(corners, marker_size, mtx, distortion):\n",
    "\n",
    "    marker_points = np.array([[-marker_size / 2, marker_size / 2, 0],\n",
    "                              [marker_size / 2, marker_size / 2, 0],\n",
    "                              [marker_size / 2, -marker_size / 2, 0],\n",
    "                              [-marker_size / 2, -marker_size / 2, 0]], dtype=np.float32)\n",
    "    trash = []\n",
    "    rvecs = []\n",
    "    tvecs = []\n",
    "    for c in corners:\n",
    "        nada, R, t = cv2.solvePnP(marker_points, c, mtx, distortion, True, flags= cv2.SOLVEPNP_ITERATIVE)\n",
    "        \n",
    "        if not (R is None or t is None):\n",
    "            R = np.array(R).reshape(1, 3).tolist()\n",
    "            t = np.array(t).reshape(1, 3).tolist()\n",
    "        \n",
    "        rvecs.append(R)\n",
    "        tvecs.append(t)\n",
    "    return rvecs, tvecs"
   ]
  },
  {
   "cell_type": "code",
   "execution_count": 19,
   "metadata": {},
   "outputs": [
    {
     "name": "stderr",
     "output_type": "stream",
     "text": [
      "14it [00:00, 137.26it/s]"
     ]
    },
    {
     "name": "stderr",
     "output_type": "stream",
     "text": [
      "3287it [00:24, 133.62it/s]\n"
     ]
    },
    {
     "name": "stdout",
     "output_type": "stream",
     "text": [
      "3287 3287 3304\n"
     ]
    },
    {
     "name": "stderr",
     "output_type": "stream",
     "text": [
      "2456it [00:19, 127.41it/s]\n"
     ]
    },
    {
     "name": "stdout",
     "output_type": "stream",
     "text": [
      "2456 2456 2458\n"
     ]
    },
    {
     "name": "stderr",
     "output_type": "stream",
     "text": [
      "3504it [00:31, 110.76it/s]\n"
     ]
    },
    {
     "name": "stdout",
     "output_type": "stream",
     "text": [
      "3504 3504 3508\n"
     ]
    },
    {
     "name": "stderr",
     "output_type": "stream",
     "text": [
      "3545it [00:24, 141.95it/s]\n"
     ]
    },
    {
     "name": "stdout",
     "output_type": "stream",
     "text": [
      "3545 3545 3549\n"
     ]
    },
    {
     "name": "stderr",
     "output_type": "stream",
     "text": [
      "3592it [00:25, 141.74it/s]\n"
     ]
    },
    {
     "name": "stdout",
     "output_type": "stream",
     "text": [
      "3592 3592 3595\n"
     ]
    },
    {
     "name": "stderr",
     "output_type": "stream",
     "text": [
      "3400it [00:29, 114.12it/s]\n"
     ]
    },
    {
     "name": "stdout",
     "output_type": "stream",
     "text": [
      "3400 3400 3401\n"
     ]
    },
    {
     "name": "stderr",
     "output_type": "stream",
     "text": [
      "3428it [00:31, 108.00it/s]\n"
     ]
    },
    {
     "name": "stdout",
     "output_type": "stream",
     "text": [
      "3428 3428 3434\n"
     ]
    },
    {
     "name": "stderr",
     "output_type": "stream",
     "text": [
      "3320it [00:30, 109.91it/s]\n"
     ]
    },
    {
     "name": "stdout",
     "output_type": "stream",
     "text": [
      "3320 3320 3323\n"
     ]
    },
    {
     "name": "stderr",
     "output_type": "stream",
     "text": [
      "3306it [00:26, 125.31it/s]\n"
     ]
    },
    {
     "name": "stdout",
     "output_type": "stream",
     "text": [
      "3306 3306 3307\n"
     ]
    }
   ],
   "source": [
    "results = {'ar_df':[], 'ar_dt':[], 'mc_xdf':[], 'mc_dt':[], 'time_offset':[], 'vel_bins':[], 'mc_df':[], 'mc_xdf':[], 'folder_name':[]}\n",
    "for _folder_name in _folder_list:\n",
    "    _teensy_df = pl.read_csv(os.path.join(_base_pth,_folder_name,\"imu01.csv\"))\n",
    "    _teensy_df = _teensy_df.with_columns(pl.col(\"mz\\r\").str.replace(\"\\r\",\"\").cast(pl.Float64).alias(\"mz\"))\n",
    "    t_time = _teensy_df[\"rust_time\"].to_numpy()\n",
    "    t_time = [datetime.fromtimestamp(t) for t in t_time]\n",
    "    # t_time = [datetime.strftime(t) for t in t_time]\n",
    "    teensy_df = pl.DataFrame({\"time\":t_time,\"sync\":_teensy_df[\"sync\"]})\n",
    "\n",
    "    for idx, i in enumerate(teensy_df['sync']):\n",
    "        if i == 1:\n",
    "            break\n",
    "    teensy_start_time = teensy_df['time'][idx]\n",
    "    \n",
    "    # Aruco parameters\n",
    "    \n",
    "    ARUCO_PARAMETERS = aruco.DetectorParameters()\n",
    "    ARUCO_DICT = aruco.getPredefinedDictionary(aruco.DICT_ARUCO_MIP_36H12)\n",
    "    detector = aruco.ArucoDetector(ARUCO_DICT, ARUCO_PARAMETERS)\n",
    "    markerLength = int(_folder_name.split(\"_\")[2])/100\n",
    "    markerSeperation = 0.01\n",
    "\n",
    "    board = aruco.GridBoard(\n",
    "            size= [1,1],\n",
    "            markerLength=markerLength,\n",
    "            markerSeparation=markerSeperation,\n",
    "            dictionary=ARUCO_DICT)\n",
    "    \n",
    "    \n",
    "    # timestamp\n",
    "    ts = []\n",
    "    ts_pth = os.path.join(_base_pth, _folder_name, \"webcam_timestamp.msgpack\")\n",
    "    ts_file = open(ts_pth, \"rb\")\n",
    "    ts_unpacker = mp.Unpacker(ts_file, object_hook=mpn.decode)\n",
    "    for ts_data in ts_unpacker:\n",
    "        ts.append(ts_data)\n",
    "        \n",
    "    # reading video\n",
    "    _video_pth = os.path.join(_base_pth,_folder_name,\"webcam_color.msgpack\")\n",
    "    _video_file = open(_video_pth, \"rb\")\n",
    "    _video_data = mp.Unpacker(_video_file, object_hook=mpn.decode)\n",
    "\n",
    "    default_ids = [12, 88, 89]\n",
    "\n",
    "    data = {\"frame_id\":[],\"marker_ids\":[], \"corners\":[], \"tvec\":[], \"rvec\":[]}\n",
    "\n",
    "    counter = 0\n",
    "\n",
    "    for _frame in tqdm(_video_data):\n",
    "\n",
    "        shape = _frame.shape\n",
    "        gray = cv2.cvtColor(_frame, cv2.COLOR_BGR2GRAY)\n",
    "        corners, ids, rejectedpoints = detector.detectMarkers(_frame)\n",
    "        # refine corners\n",
    "        corners, ids, rejectedpoints,_ = detector.refineDetectedMarkers(image=_frame,board=board ,detectedCorners=corners, detectedIds=ids, rejectedCorners=rejectedpoints, cameraMatrix=_webcam_cam_mat, distCoeffs=_webcam_dist)\n",
    "        rvec, tvec  = estimatePoseSingleMarkers(corners=corners, marker_size=markerLength, mtx=_webcam_cam_mat, distortion=_webcam_dist)\n",
    "\n",
    "        if ids is None:\n",
    "            data[\"frame_id\"].append(counter)\n",
    "            data[\"marker_ids\"].append(None)\n",
    "            data[\"corners\"].append(None)\n",
    "            data[\"tvec\"].append(None)\n",
    "            data[\"rvec\"].append(None)\n",
    "\n",
    "        if ids is not None:\n",
    "            data[\"frame_id\"].append(counter)\n",
    "            data[\"marker_ids\"].append(ids)\n",
    "            data[\"corners\"].append(corners)\n",
    "            data[\"tvec\"].append(tvec)\n",
    "            data[\"rvec\"].append(rvec)\n",
    "\n",
    "        counter+=1\n",
    "    _video_file.close()\n",
    "    \n",
    "    # coordinates\n",
    "    \n",
    "    coordinate = {str(default_ids[0]):{\"x\":[], \"y\":[], \"z\":[], \"rx\":[], \"ry\":[], \"rz\":[]},\n",
    "              str(default_ids[1]):{\"x\":[], \"y\":[], \"z\":[], \"rx\":[], \"ry\":[], \"rz\":[]},\n",
    "              str(default_ids[2]):{\"x\":[], \"y\":[], \"z\":[], \"rx\":[], \"ry\":[], \"rz\":[]}}\n",
    "\n",
    "    doesnt_exist = []\n",
    "    # default_ids = [100, 49, 80]\n",
    "    zero_counter = 0\n",
    "    for i in range(len(data[\"frame_id\"])):\n",
    "        if data[\"marker_ids\"][i] is not None:\n",
    "            \n",
    "            if default_ids[0] not in data[\"marker_ids\"][i]:\n",
    "                doesnt_exist.append(default_ids[0])\n",
    "            if default_ids[1] not in data[\"marker_ids\"][i]:\n",
    "                doesnt_exist.append(default_ids[1])\n",
    "            if default_ids[2] not in data[\"marker_ids\"][i]:\n",
    "                doesnt_exist.append(default_ids[2])\n",
    "                \n",
    "            _zero_counter = 0            \n",
    "            for j, _m in enumerate(data[\"marker_ids\"][i]):\n",
    "                    \n",
    "                if _m in default_ids:\n",
    "                    coordinate[str(_m[0])][\"x\"].append(data[\"tvec\"][i][j][0][0])\n",
    "                    coordinate[str(_m[0])][\"y\"].append(data[\"tvec\"][i][j][0][1])\n",
    "                    coordinate[str(_m[0])][\"z\"].append(data[\"tvec\"][i][j][0][2])\n",
    "                    coordinate[str(_m[0])][\"rx\"].append(data[\"rvec\"][i][j][0][0])\n",
    "                    coordinate[str(_m[0])][\"ry\"].append(data[\"rvec\"][i][j][0][1])\n",
    "                    coordinate[str(_m[0])][\"rz\"].append(data[\"rvec\"][i][j][0][2])\n",
    "\n",
    "            for k in doesnt_exist:\n",
    "                coordinate[str(k)][\"x\"].append(np.nan)\n",
    "                coordinate[str(k)][\"y\"].append(np.nan)\n",
    "                coordinate[str(k)][\"z\"].append(np.nan)\n",
    "                coordinate[str(k)][\"rx\"].append(np.nan)\n",
    "                coordinate[str(k)][\"ry\"].append(np.nan)\n",
    "                coordinate[str(k)][\"rz\"].append(np.nan)\n",
    "                \n",
    "        else:\n",
    "            for _k in default_ids:\n",
    "                coordinate[str(_k)][\"x\"].append(np.nan)\n",
    "                coordinate[str(_k)][\"y\"].append(np.nan)\n",
    "                coordinate[str(_k)][\"z\"].append(np.nan)\n",
    "                coordinate[str(_k)][\"rx\"].append(np.nan)\n",
    "                coordinate[str(_k)][\"ry\"].append(np.nan)\n",
    "                coordinate[str(_k)][\"rz\"].append(np.nan)\n",
    "                \n",
    "        doesnt_exist.clear()\n",
    "        \n",
    "        \n",
    "    # creating dataframe\n",
    "    \n",
    "    if type(ts[0]) != datetime:\n",
    "    # convert epoch to datetime\n",
    "        ts = [datetime.fromtimestamp(t) for t in ts]\n",
    "    translation_correction = np.array([0.045, -0.05, 0.045]).reshape(3, 1)\n",
    "\n",
    "    ar_df = pl.DataFrame({\"time\":ts,\"x\":coordinate[str(default_ids[2])][\"x\"][:len(ts)], \"y\":coordinate[str(default_ids[2])][\"y\"][:len(ts)], \"z\":coordinate[str(default_ids[2])][\"z\"][:len(ts)], \"rx\":coordinate[str(default_ids[2])][\"rx\"][:len(ts)], \"ry\":coordinate[str(default_ids[2])][\"ry\"][:len(ts)], \"rz\":coordinate[str(default_ids[2])][\"rz\"][:len(ts)]})\n",
    "\n",
    "    rvec = coordinate[str(default_ids[2])][\"rx\"][0], coordinate[str(default_ids[2])][\"ry\"][0], coordinate[str(default_ids[2])][\"rz\"][0]\n",
    "\n",
    "    ar_rotmat = cv2.Rodrigues(rvec)[0]\n",
    "\n",
    "    tar = ar_rotmat.T @ (ar_df[['x', 'y', 'z']].to_numpy().T - ar_df[['x', 'y', 'z']][0].to_numpy().T)\n",
    "    _ar_df = pl.DataFrame({\"time\":ts,\"x\":tar[0], \"y\":tar[1], \"z\":tar[2], \"rx\":coordinate[str(default_ids[2])][\"rx\"][:len(ts)], \"ry\":coordinate[str(default_ids[2])][\"ry\"][:len(ts)], \"rz\":coordinate[str(default_ids[2])][\"rz\"][:len(ts)]})\n",
    "    \n",
    "    print(len(coordinate[str(default_ids[0])][\"y\"]), len(coordinate[str(default_ids[1])][\"y\"]), len(coordinate[str(default_ids[2])][\"z\"]))\n",
    "    \n",
    "    _mocap_pth = os.path.join(os.path.dirname(os.path.dirname(_video_pth)),_folder_name.split('_')[0], f\"{_folder_name}.csv\")\n",
    "    _mocap_df, st_time = read_rigid_body_csv(_mocap_pth)\n",
    "    _mocap_df = add_datetime_col(_mocap_df, st_time, \"seconds\")\n",
    "    _mocap_df = pl.from_pandas(_mocap_df)\n",
    "\n",
    "    cumulative = _mocap_df[[m1['x'], m1['y'], m1['z']]].to_numpy().T + _mocap_df[[m4['x'], m4['y'], m4['z']]].to_numpy().T + _mocap_df[[m3['x'], m3['y'], m3['z']]].to_numpy().T + _mocap_df[[m5['x'], m5['y'], m5['z']]].to_numpy().T\n",
    "    cumulative = cumulative/4\n",
    "\n",
    "    _m_df = pl.DataFrame({\"time\":_mocap_df[\"time\"], \"x\":cumulative[0], \"y\":cumulative[1], \"z\":cumulative[2]})\n",
    "    \n",
    "    \n",
    "    _mc_org = _mocap_df[[m3['x'], m3['y'], m3['z']]][0].to_numpy().T\n",
    "    _mc_xvec = _mocap_df[[m5['x'], m5['y'], m5['z']]][0].to_numpy().T\n",
    "    _mc_yvec = _mocap_df[[m1['x'], m1['y'], m1['z']]][0].to_numpy().T\n",
    "\n",
    "    _mc_rotmat = calculate_rotmat_from_xyo(_mc_xvec, _mc_yvec, _mc_org)\n",
    "\n",
    "    tmc = _mc_rotmat.T @ (_m_df[['x', 'y', 'z']].to_numpy().T - _m_df[['x', 'y', 'z']][0].to_numpy().T)\n",
    "    _mc_df = pl.DataFrame({\"time\":_mocap_df[\"time\"], \"x\":tmc[0], \"y\":tmc[1], \"z\":tmc[2]})\n",
    "    \n",
    "    # velocity_cuts = np.nanmax(abs(_mc_df['x'].diff()/0.01))/12\n",
    "    velocity_cuts = 0.6/12\n",
    "    _vel_bins = []\n",
    "    for i in range(12):\n",
    "        _vel_bins.append((i)*velocity_cuts)\n",
    "    \n",
    "    \n",
    "    bin_idx = np.digitize(abs(_mc_df['x'].diff()/0.01), bins=_vel_bins, right=True)\n",
    "    bin_df = pl.Series(\"bin\",bin_idx)\n",
    "    _mc_df.insert_at_idx(4,bin_df)\n",
    "    _mc_df.groupby(\"bin\", maintain_order=True).count()\n",
    "    \n",
    "    _time_offset = teensy_df['time'][idx] - ar_df['time'][0]\n",
    "\n",
    "    # interpolate teensy data to match aruco data\n",
    "\n",
    "    _temp_df = ar_df.to_pandas()\n",
    "    clip_idx = _temp_df['time'].sub(teensy_df['time'][idx]).abs().idxmin()\n",
    "\n",
    "    _ar_df_test = ar_df[clip_idx:]\n",
    "\n",
    "    _data_time_offset = _ar_df_test['time'][0] - _mocap_df['time'][0]\n",
    "    _ar_df_test = _ar_df_test.with_columns([(pl.col('time') - _data_time_offset).alias('time')])\n",
    "    _ar_df = _ar_df_test\n",
    "    \n",
    "    ar_time = _ar_df['time'].dt.epoch()\n",
    "    ar_time = (ar_time - ar_time[0])\n",
    "    ar_time = [timedelta(microseconds=t).total_seconds() for t in ar_time]\n",
    "    ar_time = np.array(ar_time)\n",
    "\n",
    "    mc_time = _mocap_df['time'].dt.epoch()\n",
    "    mc_time = (mc_time - mc_time[0])\n",
    "    mc_time = [timedelta(microseconds=t).total_seconds() for t in mc_time]\n",
    "    mc_time = np.array(mc_time)\n",
    "\n",
    "    ar_del_t = _ar_df['time'].diff().mean()/10**6\n",
    "    mc_del_t = 0.01\n",
    "    \n",
    "    f = interp1d(_mc_df['time'].dt.epoch(), _mc_df['x'], kind='linear', fill_value=\"extrapolate\")  # You can also use 'cubic' or other interpolation methods\n",
    "    _mc_x = f(_ar_df['time'].dt.epoch())\n",
    "    _mc_xdf = pl.DataFrame({\"time\":_ar_df['time'], \"x\":_mc_x})\n",
    "    \n",
    "    bin_idx = np.digitize(abs(_mc_xdf['x'].diff()/ar_del_t), bins=_vel_bins, right=True)\n",
    "    bin_df = pl.Series(\"bin\",bin_idx)\n",
    "    _mc_xdf.insert_at_idx(2,bin_df)\n",
    "    _ar_df.insert_at_idx(len(_ar_df.columns),bin_df)\n",
    "        \n",
    "    results['ar_df'].append(_ar_df)\n",
    "    results['ar_dt'].append(ar_del_t)\n",
    "    results['mc_xdf'].append(_mc_xdf)\n",
    "    results['mc_dt'].append(mc_del_t)\n",
    "    results['time_offset'].append(_time_offset)\n",
    "    results['vel_bins'].append(_vel_bins)\n",
    "    results['mc_df'].append(_mc_df)\n",
    "    results['mc_xdf'].append(_mc_xdf)\n",
    "    results['folder_name'].append(_folder_name)"
   ]
  },
  {
   "cell_type": "code",
   "execution_count": 20,
   "metadata": {},
   "outputs": [],
   "source": [
    "histograms = []"
   ]
  },
  {
   "cell_type": "code",
   "execution_count": 21,
   "metadata": {},
   "outputs": [],
   "source": [
    "missing_percent_one = []\n",
    "missing_percent_all = []\n",
    "\n",
    "for j in range(len(results['ar_df'])):\n",
    "    \n",
    "    for i in range(len(results['ar_df'][0].groupby(\"bin\", maintain_order=False).agg(pl.col('x'))['x'])):\n",
    "        missing_percent_one.append(1 - results['ar_df'][j].groupby(\"bin\", maintain_order=False).agg(pl.col('x'))['x'][i].is_nan().sum()/len(results['ar_df'][j].groupby(\"bin\", maintain_order=False).agg(pl.col('x'))['x'][i]))\n",
    "    missing_percent_one = np.array(missing_percent_one)*100\n",
    "    missing_percent_all.append(missing_percent_one)\n",
    "    missing_percent_one = []\n",
    "    "
   ]
  },
  {
   "cell_type": "code",
   "execution_count": 22,
   "metadata": {},
   "outputs": [],
   "source": [
    "cols = []\n",
    "for i in np.array(_vel_bins):\n",
    "    cols.append(f\"{i:.2f}\")\n",
    "\n",
    "per_df = pl.DataFrame(np.array(missing_percent_all))\n",
    "per_df.columns = cols"
   ]
  },
  {
   "cell_type": "code",
   "execution_count": 23,
   "metadata": {},
   "outputs": [
    {
     "data": {
      "text/plain": [
       "['0.30', '0.35', '0.40', '0.45', '0.50', '0.55']"
      ]
     },
     "execution_count": 23,
     "metadata": {},
     "output_type": "execute_result"
    }
   ],
   "source": [
    "cols[6:]"
   ]
  },
  {
   "cell_type": "code",
   "execution_count": 24,
   "metadata": {},
   "outputs": [
    {
     "data": {
      "text/plain": [
       "Text(0, 0.5, 'Percentage of detection (%)')"
      ]
     },
     "execution_count": 24,
     "metadata": {},
     "output_type": "execute_result"
    },
    {
     "data": {
      "image/png": "[encoded data removed]",
      "text/plain": [
       "<Figure size 1000x500 with 1 Axes>"
      ]
     },
     "metadata": {},
     "output_type": "display_data"
    }
   ],
   "source": [
    "plt.figure(figsize=(10,5))\n",
    "sns.boxplot(data=per_df.to_pandas(), palette=\"Set2\")\n",
    "sns.lineplot(x=per_df.to_pandas().columns, y=per_df.to_pandas().median())\n",
    "plt.title(\"Percentage of detection in each velocity bin\")\n",
    "plt.xlabel(\"Velocity bins (m/s)\")\n",
    "plt.ylabel(\"Percentage of detection (%)\")\n",
    "\n",
    "# sns.violinplot(data=per_df.to_pandas(), palette=\"Set2\")"
   ]
  },
  {
   "cell_type": "code",
   "execution_count": 25,
   "metadata": {},
   "outputs": [
    {
     "data": {
      "text/html": [
       "<div><style>\n",
       ".dataframe > thead > tr > th,\n",
       ".dataframe > tbody > tr > td {\n",
       "  text-align: right;\n",
       "}\n",
       "</style>\n",
       "<small>shape: (9, 12)</small><table border=\"1\" class=\"dataframe\"><thead><tr><th>0.00</th><th>0.05</th><th>0.10</th><th>0.15</th><th>0.20</th><th>0.25</th><th>0.30</th><th>0.35</th><th>0.40</th><th>0.45</th><th>0.50</th><th>0.55</th></tr><tr><td>f64</td><td>f64</td><td>f64</td><td>f64</td><td>f64</td><td>f64</td><td>f64</td><td>f64</td><td>f64</td><td>f64</td><td>f64</td><td>f64</td></tr></thead><tbody><tr><td>83.705357</td><td>63.522013</td><td>63.120567</td><td>61.038961</td><td>73.513514</td><td>72.169811</td><td>65.608466</td><td>52.678571</td><td>51.982379</td><td>49.056604</td><td>33.168317</td><td>39.753639</td></tr><tr><td>88.218391</td><td>77.142857</td><td>75.757576</td><td>67.586207</td><td>72.189349</td><td>62.272727</td><td>43.119266</td><td>29.963899</td><td>25.821596</td><td>17.808219</td><td>8.955224</td><td>7.251908</td></tr><tr><td>74.047619</td><td>43.949045</td><td>49.230769</td><td>47.154472</td><td>49.65035</td><td>44.936709</td><td>45.070423</td><td>54.6875</td><td>42.931937</td><td>47.5</td><td>46.245059</td><td>32.59587</td></tr><tr><td>58.752998</td><td>16.216216</td><td>21.019108</td><td>20.289855</td><td>26.923077</td><td>31.034483</td><td>40.314136</td><td>40.784314</td><td>52.12766</td><td>54.180602</td><td>60.740741</td><td>75.794872</td></tr><tr><td>93.617021</td><td>90.116279</td><td>82.317073</td><td>81.395349</td><td>80.13245</td><td>77.514793</td><td>70.050761</td><td>59.482759</td><td>47.636364</td><td>43.150685</td><td>33.088235</td><td>16.034985</td></tr><tr><td>100.0</td><td>100.0</td><td>100.0</td><td>100.0</td><td>100.0</td><td>96.022727</td><td>93.298969</td><td>90.458015</td><td>56.198347</td><td>19.213974</td><td>3.0837</td><td>0.192678</td></tr><tr><td>71.226415</td><td>25.0</td><td>22.727273</td><td>26.896552</td><td>32.121212</td><td>38.285714</td><td>35.789474</td><td>45.283019</td><td>41.552511</td><td>49.282297</td><td>48.823529</td><td>68.072289</td></tr><tr><td>98.746867</td><td>98.757764</td><td>93.430657</td><td>95.744681</td><td>89.51049</td><td>83.974359</td><td>72.316384</td><td>64.186047</td><td>48.672566</td><td>31.034483</td><td>13.656388</td><td>3.853565</td></tr><tr><td>100.0</td><td>100.0</td><td>99.310345</td><td>97.058824</td><td>86.99187</td><td>81.954887</td><td>71.428571</td><td>55.395683</td><td>52.413793</td><td>45.02924</td><td>28.272251</td><td>4.215116</td></tr></tbody></table></div>"
      ],
      "text/plain": [
       "shape: (9, 12)\n",
       "┌───────────┬───────────┬───────────┬───────────┬───┬───────────┬───────────┬───────────┬──────────┐\n",
       "│ 0.00      ┆ 0.05      ┆ 0.10      ┆ 0.15      ┆ … ┆ 0.40      ┆ 0.45      ┆ 0.50      ┆ 0.55     │\n",
       "│ ---       ┆ ---       ┆ ---       ┆ ---       ┆   ┆ ---       ┆ ---       ┆ ---       ┆ ---      │\n",
       "│ f64       ┆ f64       ┆ f64       ┆ f64       ┆   ┆ f64       ┆ f64       ┆ f64       ┆ f64      │\n",
       "╞═══════════╪═══════════╪═══════════╪═══════════╪═══╪═══════════╪═══════════╪═══════════╪══════════╡\n",
       "│ 83.705357 ┆ 63.522013 ┆ 63.120567 ┆ 61.038961 ┆ … ┆ 51.982379 ┆ 49.056604 ┆ 33.168317 ┆ 39.75363 │\n",
       "│           ┆           ┆           ┆           ┆   ┆           ┆           ┆           ┆ 9        │\n",
       "│ 88.218391 ┆ 77.142857 ┆ 75.757576 ┆ 67.586207 ┆ … ┆ 25.821596 ┆ 17.808219 ┆ 8.955224  ┆ 7.251908 │\n",
       "│ 74.047619 ┆ 43.949045 ┆ 49.230769 ┆ 47.154472 ┆ … ┆ 42.931937 ┆ 47.5      ┆ 46.245059 ┆ 32.59587 │\n",
       "│ 58.752998 ┆ 16.216216 ┆ 21.019108 ┆ 20.289855 ┆ … ┆ 52.12766  ┆ 54.180602 ┆ 60.740741 ┆ 75.79487 │\n",
       "│           ┆           ┆           ┆           ┆   ┆           ┆           ┆           ┆ 2        │\n",
       "│ 93.617021 ┆ 90.116279 ┆ 82.317073 ┆ 81.395349 ┆ … ┆ 47.636364 ┆ 43.150685 ┆ 33.088235 ┆ 16.03498 │\n",
       "│           ┆           ┆           ┆           ┆   ┆           ┆           ┆           ┆ 5        │\n",
       "│ 100.0     ┆ 100.0     ┆ 100.0     ┆ 100.0     ┆ … ┆ 56.198347 ┆ 19.213974 ┆ 3.0837    ┆ 0.192678 │\n",
       "│ 71.226415 ┆ 25.0      ┆ 22.727273 ┆ 26.896552 ┆ … ┆ 41.552511 ┆ 49.282297 ┆ 48.823529 ┆ 68.07228 │\n",
       "│           ┆           ┆           ┆           ┆   ┆           ┆           ┆           ┆ 9        │\n",
       "│ 98.746867 ┆ 98.757764 ┆ 93.430657 ┆ 95.744681 ┆ … ┆ 48.672566 ┆ 31.034483 ┆ 13.656388 ┆ 3.853565 │\n",
       "│ 100.0     ┆ 100.0     ┆ 99.310345 ┆ 97.058824 ┆ … ┆ 52.413793 ┆ 45.02924  ┆ 28.272251 ┆ 4.215116 │\n",
       "└───────────┴───────────┴───────────┴───────────┴───┴───────────┴───────────┴───────────┴──────────┘"
      ]
     },
     "execution_count": 25,
     "metadata": {},
     "output_type": "execute_result"
    }
   ],
   "source": [
    "per_df"
   ]
  },
  {
   "cell_type": "code",
   "execution_count": null,
   "metadata": {},
   "outputs": [],
   "source": []
  }
 ],
 "metadata": {
  "kernelspec": {
   "display_name": "py11",
   "language": "python",
   "name": "python3"
  },
  "language_info": {
   "codemirror_mode": {
    "name": "ipython",
    "version": 3
   },
   "file_extension": ".py",
   "mimetype": "text/x-python",
   "name": "python",
   "nbconvert_exporter": "python",
   "pygments_lexer": "ipython3",
   "version": "3.11.4"
  },
  "orig_nbformat": 4
 },
 "nbformat": 4,
 "nbformat_minor": 2
}
