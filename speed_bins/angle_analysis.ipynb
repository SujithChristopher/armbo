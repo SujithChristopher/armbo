{
 "cells": [
  {
   "cell_type": "code",
   "execution_count": 1,
   "metadata": {},
   "outputs": [],
   "source": [
    "import numpy as np\n",
    "import msgpack as mp\n",
    "import msgpack_numpy as mpn\n",
    "import cv2\n",
    "from cv2 import aruco\n",
    "import matplotlib.pyplot as plt\n",
    "import os\n",
    "import polars as pl\n",
    "import sys\n",
    "\n",
    "sys.path.append(os.path.dirname(os.getcwd()))\n",
    "\n",
    "from datetime import datetime\n",
    "from support.pd_support import *\n",
    "from support.ar_calculations import *\n",
    "\n",
    "import toml\n",
    "import plotly.io as pio\n",
    "from tqdm import tqdm\n",
    "\n",
    "pio.renderers.default = \"vscode\""
   ]
  },
  {
   "cell_type": "code",
   "execution_count": 2,
   "metadata": {},
   "outputs": [],
   "source": [
    "_pth = toml.load('DATA_PATH.toml')['data_path']['directory']\n",
    "_pth = os.path.dirname(_pth)\n",
    "_parent_folder = \"paper\"\n",
    "_calib_folder_name = \"calibration_00\"\n",
    "\n",
    "_base_pth = os.path.join(_pth,\"recorded_data\",_parent_folder)\n",
    "_folder_name = 'angle_est_0'\n",
    "\n",
    "_webcam_calib_folder = os.path.join(_pth,\"recorded_data\",_parent_folder,_calib_folder_name)\n",
    "_webcam_calib_folder = os.path.join(_webcam_calib_folder)\n",
    "_webcam_calib_pth = os.path.join( _webcam_calib_folder, \"webcam_calibration.msgpack\")\n",
    "\n",
    "with open(_webcam_calib_pth, \"rb\") as f:\n",
    "    webcam_calib = mp.Unpacker(f, object_hook=mpn.decode)\n",
    "    _temp = next(webcam_calib)\n",
    "    _webcam_cam_mat = _temp[0]\n",
    "    _webcam_dist = _temp[1]\n",
    "\n",
    "ar_lframe_pth = os.path.join(_webcam_calib_folder, \"angle_rotmat.msgpack\")\n",
    "with open(ar_lframe_pth, \"rb\") as f:\n",
    "    ar_lframe = mp.Unpacker(f, object_hook=mpn.decode)\n",
    "    _ar_lframe_rot = next(ar_lframe)\n",
    "    _ar_lframe_org = next(ar_lframe)"
   ]
  },
  {
   "cell_type": "markdown",
   "metadata": {},
   "source": [
    "## Mocap data"
   ]
  },
  {
   "cell_type": "code",
   "execution_count": 3,
   "metadata": {},
   "outputs": [],
   "source": [
    "m1 = get_rb_marker_name(1)\n",
    "m2 = get_rb_marker_name(2)\n",
    "m3 = get_rb_marker_name(3)\n",
    "m4 = get_rb_marker_name(4)"
   ]
  },
  {
   "cell_type": "code",
   "execution_count": 4,
   "metadata": {},
   "outputs": [],
   "source": [
    "def estimatePoseSingleMarkers(corners, marker_size, mtx, distortion):\n",
    "\n",
    "    marker_points = np.array([[-marker_size / 2, marker_size / 2, 0],\n",
    "                              [marker_size / 2, marker_size / 2, 0],\n",
    "                              [marker_size / 2, -marker_size / 2, 0],\n",
    "                              [-marker_size / 2, -marker_size / 2, 0]], dtype=np.float32)\n",
    "    trash = []\n",
    "    rvecs = []\n",
    "    tvecs = []\n",
    "    for c in corners:\n",
    "        nada, R, t = cv2.solvePnP(marker_points, c, mtx, distortion, True, flags= cv2.SOLVEPNP_ITERATIVE)\n",
    "        \n",
    "        if not (R is None or t is None):\n",
    "            R = np.array(R).reshape(1, 3).tolist()\n",
    "            t = np.array(t).reshape(1, 3).tolist()\n",
    "        \n",
    "        rvecs.append(R)\n",
    "        tvecs.append(t)\n",
    "    return rvecs, tvecs"
   ]
  },
  {
   "cell_type": "code",
   "execution_count": 5,
   "metadata": {},
   "outputs": [],
   "source": [
    "_teensy_df = pl.read_csv(os.path.join(_base_pth,_folder_name,\"imu01.csv\"))\n",
    "_teensy_df = _teensy_df.with_columns(pl.col(\"mz\\r\").str.replace(\"\\r\",\"\").cast(pl.Float64).alias(\"mz\"))\n",
    "t_time = _teensy_df[\"rust_time\"].to_numpy()\n",
    "t_time = [datetime.fromtimestamp(t) for t in t_time]\n",
    "# t_time = [datetime.strftime(t) for t in t_time]\n",
    "teensy_df = pl.DataFrame({\"time\":t_time,\"sync\":_teensy_df[\"sync\"]})\n",
    "\n",
    "for idx, i in enumerate(teensy_df['sync']):\n",
    "    if i == 1:\n",
    "        break\n",
    "teensy_start_time = teensy_df['time'][idx]\n",
    "\n",
    "# Aruco parameters\n",
    "\n",
    "ARUCO_PARAMETERS = aruco.DetectorParameters()\n",
    "ARUCO_DICT = aruco.getPredefinedDictionary(aruco.DICT_ARUCO_MIP_36H12)\n",
    "detector = aruco.ArucoDetector(ARUCO_DICT, ARUCO_PARAMETERS)\n",
    "markerLength = 0.05\n",
    "markerSeperation = 0.01\n",
    "\n",
    "board = aruco.GridBoard(\n",
    "        size= [1,1],\n",
    "        markerLength=markerLength,\n",
    "        markerSeparation=markerSeperation,\n",
    "        dictionary=ARUCO_DICT)\n",
    "\n",
    "# timestamp\n",
    "ts = []\n",
    "ts_pth = os.path.join(_base_pth, _folder_name, \"webcam_timestamp.msgpack\")\n",
    "ts_file = open(ts_pth, \"rb\")\n",
    "ts_unpacker = mp.Unpacker(ts_file, object_hook=mpn.decode)\n",
    "for ts_data in ts_unpacker:\n",
    "    ts.append(ts_data)"
   ]
  },
  {
   "cell_type": "code",
   "execution_count": 6,
   "metadata": {},
   "outputs": [
    {
     "name": "stderr",
     "output_type": "stream",
     "text": [
      "0it [00:00, ?it/s]"
     ]
    },
    {
     "name": "stderr",
     "output_type": "stream",
     "text": [
      "7313it [00:47, 153.26it/s]\n"
     ]
    }
   ],
   "source": [
    "_video_pth = os.path.join(_base_pth,_folder_name,\"webcam_color.msgpack\")\n",
    "_video_file = open(_video_pth, \"rb\")\n",
    "_video_data = mp.Unpacker(_video_file, object_hook=mpn.decode)\n",
    "\n",
    "default_ids = [12, 88, 89]\n",
    "\n",
    "data = {\"frame_id\":[],\"marker_ids\":[], \"corners\":[], \"tvec\":[], \"rvec\":[]}\n",
    "\n",
    "counter = 0\n",
    "\n",
    "for _frame in tqdm(_video_data):\n",
    "\n",
    "    shape = _frame.shape\n",
    "    gray = cv2.cvtColor(_frame, cv2.COLOR_BGR2GRAY)\n",
    "    corners, ids, rejectedpoints = detector.detectMarkers(_frame)\n",
    "    # refine corners\n",
    "    corners, ids, rejectedpoints,_ = detector.refineDetectedMarkers(image=_frame,board=board ,detectedCorners=corners, detectedIds=ids, rejectedCorners=rejectedpoints, cameraMatrix=_webcam_cam_mat, distCoeffs=_webcam_dist)\n",
    "    rvec, tvec  = estimatePoseSingleMarkers(corners=corners, marker_size=markerLength, mtx=_webcam_cam_mat, distortion=_webcam_dist)\n",
    "\n",
    "    if ids is None:\n",
    "        data[\"frame_id\"].append(counter)\n",
    "        data[\"marker_ids\"].append(None)\n",
    "        data[\"corners\"].append(None)\n",
    "        data[\"tvec\"].append(None)\n",
    "        data[\"rvec\"].append(None)\n",
    "\n",
    "    if ids is not None:\n",
    "        data[\"frame_id\"].append(counter)\n",
    "        data[\"marker_ids\"].append(ids)\n",
    "        data[\"corners\"].append(corners)\n",
    "        data[\"tvec\"].append(tvec)\n",
    "        data[\"rvec\"].append(rvec)\n",
    "\n",
    "    counter+=1\n",
    "_video_file.close()"
   ]
  },
  {
   "cell_type": "code",
   "execution_count": 7,
   "metadata": {},
   "outputs": [],
   "source": [
    "coordinate = {str(default_ids[0]):{\"x\":[], \"y\":[], \"z\":[], \"rx\":[], \"ry\":[], \"rz\":[]},\n",
    "              str(default_ids[1]):{\"x\":[], \"y\":[], \"z\":[], \"rx\":[], \"ry\":[], \"rz\":[]},\n",
    "              str(default_ids[2]):{\"x\":[], \"y\":[], \"z\":[], \"rx\":[], \"ry\":[], \"rz\":[]}}\n",
    "\n",
    "doesnt_exist = []\n",
    "# default_ids = [100, 49, 80]\n",
    "zero_counter = 0\n",
    "for i in range(len(data[\"frame_id\"])):\n",
    "    if data[\"marker_ids\"][i] is not None:\n",
    "        \n",
    "        if default_ids[0] not in data[\"marker_ids\"][i]:\n",
    "            doesnt_exist.append(default_ids[0])\n",
    "        if default_ids[1] not in data[\"marker_ids\"][i]:\n",
    "            doesnt_exist.append(default_ids[1])\n",
    "        if default_ids[2] not in data[\"marker_ids\"][i]:\n",
    "            doesnt_exist.append(default_ids[2])\n",
    "            \n",
    "        _zero_counter = 0            \n",
    "        for j, _m in enumerate(data[\"marker_ids\"][i]):\n",
    "                \n",
    "            if _m in default_ids:\n",
    "                coordinate[str(_m[0])][\"x\"].append(data[\"tvec\"][i][j][0][0])\n",
    "                coordinate[str(_m[0])][\"y\"].append(data[\"tvec\"][i][j][0][1])\n",
    "                coordinate[str(_m[0])][\"z\"].append(data[\"tvec\"][i][j][0][2])\n",
    "                coordinate[str(_m[0])][\"rx\"].append(data[\"rvec\"][i][j][0][0])\n",
    "                coordinate[str(_m[0])][\"ry\"].append(data[\"rvec\"][i][j][0][1])\n",
    "                coordinate[str(_m[0])][\"rz\"].append(data[\"rvec\"][i][j][0][2])\n",
    "\n",
    "                \n",
    "        for k in doesnt_exist:\n",
    "            coordinate[str(k)][\"x\"].append(np.nan)\n",
    "            coordinate[str(k)][\"y\"].append(np.nan)\n",
    "            coordinate[str(k)][\"z\"].append(np.nan)\n",
    "            coordinate[str(k)][\"rx\"].append(np.nan)\n",
    "            coordinate[str(k)][\"ry\"].append(np.nan)\n",
    "            coordinate[str(k)][\"rz\"].append(np.nan)\n",
    "            \n",
    "    else:\n",
    "        for _k in default_ids:\n",
    "            coordinate[str(_k)][\"x\"].append(np.nan)\n",
    "            coordinate[str(_k)][\"y\"].append(np.nan)\n",
    "            coordinate[str(_k)][\"z\"].append(np.nan)\n",
    "            coordinate[str(_k)][\"rx\"].append(np.nan)\n",
    "            coordinate[str(_k)][\"ry\"].append(np.nan)\n",
    "            coordinate[str(_k)][\"rz\"].append(np.nan)\n",
    "            \n",
    "    doesnt_exist.clear()"
   ]
  },
  {
   "cell_type": "markdown",
   "metadata": {},
   "source": [
    "## Getting time sync and trigger"
   ]
  },
  {
   "cell_type": "code",
   "execution_count": 8,
   "metadata": {},
   "outputs": [],
   "source": [
    "ar_df = pl.DataFrame(coordinate['88'])\n",
    "_tts = pl.DataFrame(ts).rename({\"column_0\":\"time\", 'column_1':'_sync'})\n",
    "_sync = _tts['_sync'].to_numpy()\n",
    "for i in range(len(_sync)):\n",
    "    if _sync[i] == 'NA':\n",
    "        _sync[i] = np.nan\n",
    "    else:\n",
    "        _sync[i] = int(_sync[i])\n",
    "\n",
    "_tts.insert_column(1, pl.Series('sync',np.array(_sync, dtype=np.float32)))\n",
    "ar_df.insert_column(0, _tts['time'])\n",
    "ar_df.insert_column(1, _tts['sync'])\n",
    "ar_df = ar_df.with_columns((pl.col('sync')/pl.col('sync')).alias('trigger'))\n",
    "_"
   ]
  },
  {
   "cell_type": "markdown",
   "metadata": {},
   "source": [
    "## Reading mocap"
   ]
  },
  {
   "cell_type": "code",
   "execution_count": 9,
   "metadata": {},
   "outputs": [],
   "source": [
    "_mocap_pth = os.path.join(os.path.dirname(os.path.dirname(_video_pth)),_folder_name.split('_')[0], f\"{_folder_name}.csv\")\n",
    "_mocap_df, st_time = read_rigid_body_csv(_mocap_pth)\n",
    "_mocap_df = add_datetime_col(_mocap_df, st_time, \"seconds\")\n",
    "_mocap_df = pl.from_pandas(_mocap_df)\n",
    "\n",
    "cumulative = _mocap_df[[m1['x'], m1['y'], m1['z']]].to_numpy().T + _mocap_df[[m2['x'], m2['y'], m2['z']]].to_numpy().T + _mocap_df[[m3['x'], m3['y'], m3['z']]].to_numpy().T + _mocap_df[[m4['x'], m4['y'], m4['z']]].to_numpy().T\n",
    "cumulative = cumulative/4\n",
    "\n",
    "_m_df = pl.DataFrame({\"time\":_mocap_df[\"time\"], \"x\":cumulative[0], \"y\":cumulative[1], \"z\":cumulative[2]})"
   ]
  },
  {
   "cell_type": "code",
   "execution_count": 10,
   "metadata": {},
   "outputs": [
    {
     "data": {
      "text/plain": [
       "<matplotlib.collections.PathCollection at 0x22bf24ac910>"
      ]
     },
     "execution_count": 10,
     "metadata": {},
     "output_type": "execute_result"
    },
    {
     "data": {
      "image/png": "[encoded data removed]",
      "text/plain": [
       "<Figure size 640x480 with 1 Axes>"
      ]
     },
     "metadata": {},
     "output_type": "display_data"
    }
   ],
   "source": [
    "plt.scatter(ar_df['trigger']*ar_df['x'], ar_df['trigger']*ar_df['z'])"
   ]
  },
  {
   "cell_type": "code",
   "execution_count": 11,
   "metadata": {},
   "outputs": [],
   "source": [
    "_rvecs = []\n",
    "\n",
    "for i in range(len(ar_df['sync'])):\n",
    "    if ar_df['sync'][i] == 1:\n",
    "        _rvecs.append(ar_df[['rx','ry','rz']][i].to_numpy())\n",
    "        \n",
    "_rvecs = np.array(_rvecs).reshape(-1, 3)"
   ]
  },
  {
   "cell_type": "code",
   "execution_count": 12,
   "metadata": {},
   "outputs": [
    {
     "data": {
      "text/plain": [
       "[<matplotlib.lines.Line2D at 0x22bf2444650>]"
      ]
     },
     "execution_count": 12,
     "metadata": {},
     "output_type": "execute_result"
    },
    {
     "data": {
      "image/png": "[encoded data removed]",
      "text/plain": [
       "<Figure size 640x480 with 1 Axes>"
      ]
     },
     "metadata": {},
     "output_type": "display_data"
    }
   ],
   "source": [
    "plt.plot(np.rad2deg(ar_df['trigger']*ar_df['ry']))"
   ]
  },
  {
   "cell_type": "code",
   "execution_count": 13,
   "metadata": {},
   "outputs": [
    {
     "data": {
      "text/plain": [
       "array([[ 7.30865082e-01,  5.19745723e-04,  6.82521766e-01],\n",
       "       [-5.21225145e-02, -9.97036944e-01,  5.65736265e-02],\n",
       "       [ 6.80528820e-01, -7.69224388e-02, -7.28672398e-01]])"
      ]
     },
     "execution_count": 13,
     "metadata": {},
     "output_type": "execute_result"
    }
   ],
   "source": [
    "cv2.Rodrigues(ar_df[['rx', 'ry', 'rz']][0].to_numpy())[0]"
   ]
  },
  {
   "cell_type": "code",
   "execution_count": null,
   "metadata": {},
   "outputs": [],
   "source": []
  }
 ],
 "metadata": {
  "kernelspec": {
   "display_name": "py11",
   "language": "python",
   "name": "python3"
  },
  "language_info": {
   "codemirror_mode": {
    "name": "ipython",
    "version": 3
   },
   "file_extension": ".py",
   "mimetype": "text/x-python",
   "name": "python",
   "nbconvert_exporter": "python",
   "pygments_lexer": "ipython3",
   "version": "3.11.5"
  }
 },
 "nbformat": 4,
 "nbformat_minor": 2
}
