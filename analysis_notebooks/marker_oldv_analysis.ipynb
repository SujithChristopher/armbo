{
 "cells": [
  {
   "cell_type": "code",
   "execution_count": 2,
   "metadata": {},
   "outputs": [],
   "source": [
    "from cv2 import aruco\n",
    "import cv2\n",
    "import numpy as np\n",
    "import matplotlib.pyplot as plt\n",
    "import msgpack as mp\n",
    "import msgpack_numpy as mpn\n",
    "import os\n",
    "\n",
    "from tqdm import tqdm\n",
    "import csv\n",
    "import pandas as pd\n",
    "import polars as pl"
   ]
  },
  {
   "cell_type": "code",
   "execution_count": 3,
   "metadata": {},
   "outputs": [],
   "source": [
    "_pth = os.getcwd()\n",
    "_pth = os.path.dirname(_pth)\n",
    "_parent_folder = \"validation\"\n",
    "_calib_folder_name = \"calibration_00\"\n",
    "\n",
    "_folder_name = \"ar_30_5_random_00\"\n",
    "# _folder_name = \"board\"\n",
    "\n",
    "_base_pth = os.path.join(_pth,\"recorded_data\",_parent_folder)\n",
    "\n",
    "_webcam_calib_folder = os.path.join(_pth,\"recorded_data\",_parent_folder,_calib_folder_name)\n",
    "_webcam_calib_pth = os.path.join( _webcam_calib_folder, \"webcam_calibration.msgpack\")\n",
    "\n",
    "_webcam_8_point_pth = os.path.join(_webcam_calib_folder, \"8p_dist_calib.msgpack\")\n",
    "\n",
    "\n",
    "with open(_webcam_calib_pth, \"rb\") as f:\n",
    "    webcam_calib = mp.Unpacker(f, object_hook=mpn.decode)\n",
    "    _temp = next(webcam_calib)\n",
    "    _webcam_cam_mat = _temp[0]\n",
    "    _webcam_dist = _temp[1]\n",
    "    \n",
    "with open(_webcam_8_point_pth, \"rb\") as f:\n",
    "    webcam_8_point = mp.Unpacker(f, object_hook=mpn.decode)\n",
    "    _temp = next(webcam_8_point)\n",
    "    _webcam_8_point_mat = _temp[0]\n",
    "    _webcam_8_point_dist = _temp[1]\n",
    "\n",
    "ar_lframe_pth = os.path.join(_webcam_calib_folder, \"webcam_rotmat_0.msgpack\")\n",
    "with open(ar_lframe_pth, \"rb\") as f:\n",
    "    ar_lframe = mp.Unpacker(f, object_hook=mpn.decode)\n",
    "    _ar_lframe_rot = next(ar_lframe)\n",
    "    _ar_lframe_org = next(ar_lframe)"
   ]
  },
  {
   "cell_type": "code",
   "execution_count": null,
   "metadata": {},
   "outputs": [],
   "source": []
  }
 ],
 "metadata": {
  "kernelspec": {
   "display_name": "py8",
   "language": "python",
   "name": "python3"
  },
  "language_info": {
   "codemirror_mode": {
    "name": "ipython",
    "version": 3
   },
   "file_extension": ".py",
   "mimetype": "text/x-python",
   "name": "python",
   "nbconvert_exporter": "python",
   "pygments_lexer": "ipython3",
   "version": "3.8.17"
  },
  "orig_nbformat": 4
 },
 "nbformat": 4,
 "nbformat_minor": 2
}
