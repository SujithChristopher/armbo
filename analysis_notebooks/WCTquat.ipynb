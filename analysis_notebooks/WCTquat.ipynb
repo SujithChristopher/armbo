{
 "cells": [
  {
   "cell_type": "code",
   "execution_count": 8,
   "metadata": {},
   "outputs": [],
   "source": [
    "import pandas as pd\n",
    "import numpy as np\n",
    "import matplotlib.pyplot as plt\n",
    "from scipy.signal import savgol_filter,medfilt\n",
    "from scipy import interpolate\n",
    "from datetime import datetime, date, time, timedelta\n",
    "from numpy import diff\n",
    "import math\n",
    "import quaternion\n",
    "import polars as pl\n",
    "from tqdm import tqdm"
   ]
  },
  {
   "cell_type": "code",
   "execution_count": 5,
   "metadata": {},
   "outputs": [],
   "source": [
    "_pth = r'D:\\CMC\\DeepVision\\recorded_data\\validation\\skimu3_30_4_random_1m_0\\imu01.csv'"
   ]
  },
  {
   "cell_type": "code",
   "execution_count": 9,
   "metadata": {},
   "outputs": [],
   "source": [
    "timeoffset = 0.0\n",
    "_imu_df = pl.read_csv(_pth)\n",
    "\n",
    "dt = _imu_df[\"mils\"].diff().mean()/1000\n",
    "dt = 0.011\n",
    "filter_size = 101\n",
    "filter_order = 9\n",
    "_mean_gx = _imu_df[\"gx\"][:filter_size ].mean()\n",
    "_mean_gy = _imu_df[\"gy\"][:filter_size ].mean()\n",
    "_mean_gz = _imu_df[\"gz\"][:filter_size ].mean()\n",
    "_mean_ax = _imu_df[\"ax\"][:filter_size ].mean()\n",
    "_mean_ay = _imu_df[\"ay\"][:filter_size ].mean()\n",
    "_mean_az = _imu_df[\"az\"][:filter_size ].mean()\n",
    "\n",
    "# subtracting mean from gyro\n",
    "_imu_df = _imu_df.with_columns([\n",
    "    (pl.col(\"gx\") - _mean_gx).alias(\"gx\"),\n",
    "    (pl.col(\"gy\") - _mean_gy).alias(\"gy\"),\n",
    "    (pl.col(\"gz\") - _mean_gz).alias(\"gz\"),\n",
    "])\n",
    "\n",
    "# subtracting mean from accel\n",
    "_imu_df = _imu_df.with_columns([\n",
    "    (pl.col(\"ax\") - _mean_ax).alias(\"ax\"),\n",
    "    (pl.col(\"ay\") - _mean_ay).alias(\"ay\"),\n",
    "    (pl.col(\"az\") - _mean_az).alias(\"az\"),\n",
    "])\n",
    "\n",
    "# apply savgol filter\n",
    "_imu_df = _imu_df.with_columns([\n",
    "                        pl.col(\"ax\").map(lambda x: savgol_filter(x.to_numpy(), filter_size, filter_order)).explode(),\n",
    "                        pl.col(\"ay\").map(lambda x: savgol_filter(x.to_numpy(), filter_size, filter_order)).explode(),\n",
    "                        pl.col(\"az\").map(lambda x: savgol_filter(x.to_numpy(), filter_size, filter_order)).explode()\n",
    "                    ])\n",
    "\n",
    "_imu_df = _imu_df.with_columns([\n",
    "                (pl.col(\"gx\").cumsum()*dt * 9.81).alias(\"ang_x\"),\n",
    "                (pl.col(\"gy\").cumsum()*dt * 9.81).alias(\"ang_y\"),\n",
    "                (pl.col(\"gz\").cumsum()*dt * 9.81).alias(\"ang_z\"),\n",
    "            ])\n",
    "\n",
    "_imu_df = _imu_df.with_columns(pl.col(\"sys_time\").str.to_datetime().alias(\"time\"))\n",
    "_imu_df = _imu_df.with_columns(pl.col(\"time\").map(lambda x: x + timedelta(seconds=timeoffset)).alias(\"time\"))\n",
    "\n",
    "#change string to float\n",
    "_imu_df = _imu_df.with_columns(pl.col(\"mz\\r\").str.replace(\"\\r\",\"\").cast(pl.Float64).alias(\"mz\"))"
   ]
  },
  {
   "cell_type": "code",
   "execution_count": 10,
   "metadata": {},
   "outputs": [],
   "source": [
    "pl_df = _imu_df"
   ]
  },
  {
   "cell_type": "code",
   "execution_count": 11,
   "metadata": {},
   "outputs": [
    {
     "name": "stderr",
     "output_type": "stream",
     "text": [
      "  0%|          | 0/9357 [00:00<?, ?it/s]"
     ]
    },
    {
     "name": "stderr",
     "output_type": "stream",
     "text": [
      "100%|██████████| 9357/9357 [00:00<00:00, 53034.56it/s]\n"
     ]
    }
   ],
   "source": [
    "omegaXprime = []\n",
    "omegaYprime = []\n",
    "omegaZprime = []\n",
    "Gamma = 0.174\n",
    "for idx in tqdm(range(len(pl_df))): \n",
    "    row1_sensor = [1, 0, 0]\n",
    "    row2_sensor = [0, np.cos(Gamma), np.sin(Gamma)]\n",
    "    row3_sensor = [0, -np.sin(Gamma), np.cos(Gamma)]\n",
    "    _SC = np.array([row1_sensor, row2_sensor, row3_sensor]).reshape(3,3)\n",
    "    # _Ws = [df[\"CorrectGyroX\"].loc[idx], df[\"CorrectGyroY\"].loc[idx], df[\"CorrectGyroz\"].loc[idx]]\n",
    "    _Ws = np.array([pl_df['ang_x'][idx], pl_df['ang_y'][idx], pl_df['ang_z'][idx]]).reshape(1,3)\n",
    "    Ws = np.reshape(_Ws,(3,1))\n",
    "    _omegaChassis = np.dot(_SC, Ws)\n",
    "    omegaXprime = np.append( omegaXprime,_omegaChassis[0][0])\n",
    "    omegaYprime = np.append( omegaYprime,_omegaChassis[1][0])\n",
    "    omegaZprime = np.append( omegaZprime,_omegaChassis[2][0])\n"
   ]
  },
  {
   "cell_type": "code",
   "execution_count": 12,
   "metadata": {},
   "outputs": [],
   "source": [
    "# series0 = pl.Series('Zeroes',np.zeros(len(pl_df)))\n",
    "\n",
    "acc_data = pl_df[['ax', 'ay', 'az']].to_numpy()\n",
    "# gyro_data = pl_df[['CorrectGyroX', 'CorrectGyroY', 'CorrectGyroz']].to_numpy()\n",
    "# gyro_data = np.hstack((omegaXprime.reshape((len(pl_df),1)),omegaYprime.reshape((len(pl_df),1)),omegaZprime.reshape((len(pl_df),1))))\n",
    "gyro_data = pl_df[['ang_x', 'ang_y', 'ang_z']].to_numpy()\n",
    "norm_gyro = np.linalg.norm(gyro_data, axis= 1)\n",
    "Zeroes = np.zeros(len(pl_df)).reshape(len(pl_df),1)\n",
    "q_acc = np.hstack((Zeroes, acc_data))\n",
    "q_ref = [0, 1, 0, 0]\n",
    "x = np.array([1 ,0 ,0]).reshape(3,1)\n"
   ]
  },
  {
   "cell_type": "code",
   "execution_count": 14,
   "metadata": {},
   "outputs": [],
   "source": [
    "del_t = 0.011"
   ]
  },
  {
   "cell_type": "code",
   "execution_count": 15,
   "metadata": {},
   "outputs": [
    {
     "name": "stderr",
     "output_type": "stream",
     "text": [
      "100%|██████████| 9357/9357 [00:00<00:00, 52679.76it/s]\n"
     ]
    }
   ],
   "source": [
    "axis_gyro = []\n",
    "del_theta = []\n",
    "q_del_gyro = []\n",
    "for idx in tqdm(range(len(pl_df))):\n",
    "    if np.linalg.norm(gyro_data) == 0:\n",
    "        _axis_gyro = np.array([0.0, 0.0, 0.0, 0.0]).reshape(1,4)\n",
    "    else:    \n",
    "        _axis_gyro = np.array([gyro_data[idx][0]/norm_gyro[idx],gyro_data[idx][1]/norm_gyro[idx],gyro_data[idx][2]/norm_gyro[idx]]).reshape(1,3)\n",
    "    _del_theta = del_t*norm_gyro[idx]\n",
    "    axis_gyro = np.append(axis_gyro, _axis_gyro)\n",
    "    q_del0 = np.cos(_del_theta/2)\n",
    "    q_del1 = axis_gyro[0]*np.sin(_del_theta/2)\n",
    "    q_del2 = axis_gyro[1]*np.sin(_del_theta/2)\n",
    "    q_del3 = axis_gyro[2]*np.sin(_del_theta/2)\n",
    "    _q_del = [q_del0,q_del1,q_del2,q_del3]\n",
    "    q_del_gyro = np.append(q_del_gyro, _q_del)\n",
    "\n",
    "axis_gyro = axis_gyro.reshape(len(pl_df),3)\n",
    "q_del_gyro = q_del_gyro.reshape(len(pl_df),4)"
   ]
  },
  {
   "cell_type": "code",
   "execution_count": 16,
   "metadata": {},
   "outputs": [],
   "source": [
    "q_acc = quaternion.as_quat_array(q_acc)\n",
    "q_del_gyro = quaternion.as_quat_array(q_del_gyro)"
   ]
  },
  {
   "cell_type": "code",
   "execution_count": 26,
   "metadata": {},
   "outputs": [
    {
     "name": "stderr",
     "output_type": "stream",
     "text": [
      "C:\\Users\\Pintu\\AppData\\Local\\Temp\\ipykernel_10380\\1142361350.py:21: DeprecationWarning: Conversion of an array with ndim > 0 to a scalar is deprecated, and will error in future. Ensure you extract a single element from your array before performing this operation. (Deprecated NumPy 1.25.)\n",
      "  theta_c =  2*math.atan2(norm_v_tilt,s)\n",
      "C:\\Users\\Pintu\\AppData\\Local\\Temp\\ipykernel_10380\\1142361350.py:22: RuntimeWarning: invalid value encountered in arccos\n",
      "  theta_c =  np.arccos(s)\n",
      "C:\\Users\\Pintu\\AppData\\Local\\Temp\\ipykernel_10380\\1142361350.py:30: DeprecationWarning: Conversion of an array with ndim > 0 to a scalar is deprecated, and will error in future. Ensure you extract a single element from your array before performing this operation. (Deprecated NumPy 1.25.)\n",
      "  q_t = np.quaternion(q_t0,q_t1,q_t2,q_t3)\n"
     ]
    }
   ],
   "source": [
    "orient = []\n",
    "tilt_quat = []\n",
    "sint = []\n",
    "S = []\n",
    "T = []\n",
    "alpha = 0.9\n",
    "q_gyro_i = q_del_gyro[0]\n",
    "for idx in range(len(pl_df)):\n",
    "    # gyro_t_norm_sq = q_gyro_i.w*q_gyro_i.w + q_gyro_i.x*q_gyro_i.x + q_gyro_i.y*q_gyro_i.y + q_gyro_i.z*q_gyro_i.z\n",
    "    q_gyro_i_inv = q_gyro_i.conjugate()\n",
    "    q_acc_prime  = q_gyro_i*q_acc[idx]*q_gyro_i_inv\n",
    "    acc_prime = np.array([q_acc_prime.x, q_acc_prime.y, q_acc_prime.z]).reshape(1,3)\n",
    "    acc_init = np.array([q_acc[0].x, q_acc[0].y, q_acc[0].z]).reshape(1,3)\n",
    "    v_tilt = np.cross(acc_prime, acc_init)\n",
    "    norm_v_tilt = np.linalg.norm(v_tilt)\n",
    "    axis_q_t = v_tilt/norm_v_tilt\n",
    "    \n",
    "    s = np.dot(acc_prime, acc_init.reshape(3,1))/(norm_v_tilt*np.linalg.norm(acc_init))\n",
    "     \n",
    "    \n",
    "    theta_c =  2*math.atan2(norm_v_tilt,s)\n",
    "    theta_c =  np.arccos(s)\n",
    "    T = np.append(T, theta_c)\n",
    "    S = np.append(S,s)\n",
    "   \n",
    "    q_t0 = np.cos(alpha*theta_c/2)\n",
    "    q_t1 = axis_q_t[0][0]*np.sin(alpha*theta_c/2)\n",
    "    q_t2 = axis_q_t[0][1]*np.sin(alpha*theta_c/2)\n",
    "    q_t3 = axis_q_t[0][2]*np.sin(alpha*theta_c/2)\n",
    "    q_t = np.quaternion(q_t0,q_t1,q_t2,q_t3)\n",
    "    q_t_inv = q_t.conjugate()\n",
    "    q_gyro_i = q_t*q_gyro_i\n",
    "    tilt_quat = np.append(tilt_quat, q_gyro_i)\n",
    "    # _orient  = 2*np.arccos(q_gyro_i.w)\n",
    "    norm_x = np.linalg.norm(np.array([q_gyro_i.x, q_gyro_i.y, q_gyro_i.z]).reshape(1,3))\n",
    "    _orient = 2*np.arccos(q_gyro_i.w)\n",
    "    orient = np.append(orient, _orient)\n"
   ]
  },
  {
   "cell_type": "code",
   "execution_count": 28,
   "metadata": {},
   "outputs": [
    {
     "name": "stdout",
     "output_type": "stream",
     "text": [
      "nan\n"
     ]
    }
   ],
   "source": [
    "print(axis_q_t[0][2])"
   ]
  },
  {
   "cell_type": "code",
   "execution_count": 29,
   "metadata": {},
   "outputs": [
    {
     "data": {
      "text/plain": [
       "[<matplotlib.lines.Line2D at 0x217f2d36450>]"
      ]
     },
     "execution_count": 29,
     "metadata": {},
     "output_type": "execute_result"
    },
    {
     "data": {
      "image/png": "[encoded data removed]",
      "text/plain": [
       "<Figure size 640x480 with 1 Axes>"
      ]
     },
     "metadata": {},
     "output_type": "display_data"
    }
   ],
   "source": [
    "# plt.plot(S)\n",
    "# plt.ylim(-1,1)\n",
    "plt.plot(np.rad2deg(orient))\n",
    "# plt.plot(np.rad2deg(theta_sensor))\n",
    "# plt.plot(T)"
   ]
  },
  {
   "cell_type": "code",
   "execution_count": 45,
   "metadata": {},
   "outputs": [],
   "source": [
    "x = np.array([q_gyro_i.x, q_gyro_i.y, q_gyro_i.z]).reshape(1,3)"
   ]
  },
  {
   "cell_type": "code",
   "execution_count": null,
   "metadata": {},
   "outputs": [],
   "source": []
  },
  {
   "cell_type": "code",
   "execution_count": null,
   "metadata": {},
   "outputs": [],
   "source": []
  },
  {
   "cell_type": "code",
   "execution_count": null,
   "metadata": {},
   "outputs": [],
   "source": [
    "\n",
    "    "
   ]
  },
  {
   "cell_type": "code",
   "execution_count": null,
   "metadata": {},
   "outputs": [],
   "source": []
  },
  {
   "cell_type": "code",
   "execution_count": null,
   "metadata": {},
   "outputs": [],
   "source": []
  },
  {
   "cell_type": "code",
   "execution_count": null,
   "metadata": {},
   "outputs": [],
   "source": []
  }
 ],
 "metadata": {
  "kernelspec": {
   "display_name": "cmc",
   "language": "python",
   "name": "python3"
  },
  "language_info": {
   "codemirror_mode": {
    "name": "ipython",
    "version": 3
   },
   "file_extension": ".py",
   "mimetype": "text/x-python",
   "name": "python",
   "nbconvert_exporter": "python",
   "pygments_lexer": "ipython3",
   "version": "3.11.4"
  },
  "orig_nbformat": 4
 },
 "nbformat": 4,
 "nbformat_minor": 2
}
