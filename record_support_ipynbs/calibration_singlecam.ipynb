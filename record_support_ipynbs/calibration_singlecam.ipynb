{
 "cells": [
  {
   "cell_type": "code",
   "execution_count": 2,
   "metadata": {},
   "outputs": [],
   "source": [
    "import os\n",
    "import sys\n",
    "\n",
    "sys.path.append(\"..\")\n",
    "from support.camera_calibration import calibrate_camera_from_file"
   ]
  },
  {
   "cell_type": "code",
   "execution_count": 3,
   "metadata": {},
   "outputs": [
    {
     "data": {
      "text/plain": [
       "'c:\\\\Users\\\\CMC\\\\Documents\\\\openposelibs\\\\pose\\\\DeepVision\\\\recorded_data\\\\cam_may_25_5_2023\\\\calibration\\\\webcam_color.msgpack'"
      ]
     },
     "execution_count": 3,
     "metadata": {},
     "output_type": "execute_result"
    }
   ],
   "source": [
    "_pth = os.getcwd()\n",
    "_pth = os.path.dirname(_pth)\n",
    "_parent_folder = \"cam_may_25_5_2023\"\n",
    "_folder_name = \"calibration\"\n",
    "\n",
    "_webcam_pth = os.path.join(\n",
    "    _pth, \"recorded_data\", _parent_folder, _folder_name, \"webcam_color.msgpack\"\n",
    ")\n",
    "_webcam_ts = os.path.join(\n",
    "    _pth, \"recorded_data\", _parent_folder, _folder_name, \"webcam_timestamp.msgpack\"\n",
    ")\n",
    "_webcam_pth"
   ]
  },
  {
   "cell_type": "code",
   "execution_count": 4,
   "metadata": {},
   "outputs": [
    {
     "name": "stderr",
     "output_type": "stream",
     "text": [
      "100%|██████████| 438/438 [00:01<00:00, 283.58it/s]\n"
     ]
    },
    {
     "name": "stdout",
     "output_type": "stream",
     "text": [
      "Found [ 0  1  2  3  4  5  6  7  8  9 10 11] unique markers\n",
      "corners_list:  (1794, 1, 4, 2)\n",
      "Calibrating camera .... Please wait...\n",
      " Camera matrix is \n",
      " [[725.41708469   0.         358.07668838]\n",
      " [  0.         727.69829586 298.8542853 ]\n",
      " [  0.           0.           1.        ]] \n",
      " And is stored in AR_CALIBRATION.msgpack file along with distortion coefficients : \n",
      " [[ 0.06526298  0.12948598 -0.01232697  0.01000274 -1.50904169]]\n"
     ]
    }
   ],
   "source": [
    "calibrate_camera_from_file(\n",
    "    _webcam_pth,\n",
    "    save_to_dir=True,\n",
    "    img_flip=False,\n",
    "    cvt_color=True,\n",
    "    saving_name=\"webcam_calibration\",\n",
    ")"
   ]
  },
  {
   "cell_type": "code",
   "execution_count": null,
   "metadata": {},
   "outputs": [],
   "source": []
  }
 ],
 "metadata": {
  "kernelspec": {
   "display_name": "amd",
   "language": "python",
   "name": "python3"
  },
  "language_info": {
   "codemirror_mode": {
    "name": "ipython",
    "version": 3
   },
   "file_extension": ".py",
   "mimetype": "text/x-python",
   "name": "python",
   "nbconvert_exporter": "python",
   "pygments_lexer": "ipython3",
   "version": "3.7.13"
  },
  "orig_nbformat": 4,
  "vscode": {
   "interpreter": {
    "hash": "f7b5cde20a443c2b17446bd8bc340c41b205a603133068520caed36857fb2eca"
   }
  }
 },
 "nbformat": 4,
 "nbformat_minor": 2
}
