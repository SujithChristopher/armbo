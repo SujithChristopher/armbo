{
 "cells": [
  {
   "cell_type": "code",
   "execution_count": 1,
   "metadata": {},
   "outputs": [],
   "source": [
    "import numpy as np\n",
    "import cv2\n",
    "import os\n",
    "import msgpack as mp\n",
    "import msgpack_numpy as mpn\n",
    "from tqdm import tqdm"
   ]
  },
  {
   "cell_type": "code",
   "execution_count": 14,
   "metadata": {},
   "outputs": [
    {
     "name": "stdout",
     "output_type": "stream",
     "text": [
      "File does not exist, creating list of folders\n",
      "['calibration']\n"
     ]
    }
   ],
   "source": [
    "_parent_folder = \"cam_may_25_5_2023\"\n",
    "_base_pth = os.path.dirname(os.getcwd())\n",
    "_base_pth = os.path.join(_base_pth, \"recorded_data\")\n",
    "\n",
    "_txt_pth = os.path.join(_base_pth, _parent_folder, \"00_analysis\", \"folder_list.txt\")\n",
    "\n",
    "if os.path.exists(_txt_pth):\n",
    "    with open(_txt_pth, \"r\") as f:\n",
    "        _folder_list = f.readlines()\n",
    "        _folder_list = [i.strip() for i in _folder_list]\n",
    "else:\n",
    "    print(\"File does not exist, creating list of folders\")\n",
    "    # Get all folders in the parent folder and save them to a text file\n",
    "    _folder_list = os.listdir(os.path.join(_base_pth, _parent_folder))\n",
    "\n",
    "# _folder_list = _folder_list[1:]\n",
    "_folder_list = [_folder_list[0]]\n",
    "print(_folder_list)"
   ]
  },
  {
   "cell_type": "code",
   "execution_count": 3,
   "metadata": {},
   "outputs": [],
   "source": [
    "def convert_and_save(_video_pth, folder_name):\n",
    "    fps = int(folder_name.split(\"_\")[1])\n",
    "    h, w = 0, 0\n",
    "\n",
    "    with open(_video_pth, \"rb\") as _file:\n",
    "        unpacker = mp.Unpacker(_file, object_hook=mpn.decode)\n",
    "        for i in unpacker:\n",
    "            # this is for black and white image\n",
    "            h, w = i.shape\n",
    "            break\n",
    "    _video_save_pth = os.path.join(_base_pth, _parent_folder, folder_name, \"video.mp4\")\n",
    "    result = cv2.VideoWriter(\n",
    "        _video_save_pth, cv2.VideoWriter_fourcc(*\"mp4v\"), fps, (w, h), 0\n",
    "    )\n",
    "\n",
    "    with open(_video_pth, \"rb\") as _file:\n",
    "        unpacker = mp.Unpacker(_file, object_hook=mpn.decode)\n",
    "        for i in unpacker:\n",
    "            # this is for black and white image\n",
    "            result.write(i)\n",
    "    result.release()"
   ]
  },
  {
   "cell_type": "code",
   "execution_count": 10,
   "metadata": {},
   "outputs": [],
   "source": [
    "def convert_and_save_as_png(_video_pth, folder_name):\n",
    "    # fps = int(folder_name.split(\"_\")[1])\n",
    "    fps = int(30)\n",
    "    h, w = 0, 0\n",
    "\n",
    "    with open(_video_pth, \"rb\") as _file:\n",
    "        unpacker = mp.Unpacker(_file, object_hook=mpn.decode)\n",
    "        for i in unpacker:\n",
    "            # this is for black and white image\n",
    "            h, w, _ = i.shape\n",
    "            break\n",
    "\n",
    "    _img_pth = os.path.join(_video_pth, \"..\", \"images\")\n",
    "\n",
    "    if not os.path.exists(_img_pth):\n",
    "        os.makedirs(_img_pth)\n",
    "\n",
    "    with open(_video_pth, \"rb\") as _file:\n",
    "        unpacker = mp.Unpacker(_file, object_hook=mpn.decode)\n",
    "        for idx, img in enumerate(unpacker):\n",
    "            cv2.imwrite(os.path.join(_img_pth, \"image\" + str(idx) + \".png\"), img)"
   ]
  },
  {
   "cell_type": "code",
   "execution_count": 8,
   "metadata": {},
   "outputs": [
    {
     "name": "stderr",
     "output_type": "stream",
     "text": [
      "  0%|          | 0/4 [00:00<?, ?it/s]\n"
     ]
    },
    {
     "ename": "NameError",
     "evalue": "name 'convert_and_save' is not defined",
     "output_type": "error",
     "traceback": [
      "\u001b[1;31m---------------------------------------------------------------------------\u001b[0m",
      "\u001b[1;31mNameError\u001b[0m                                 Traceback (most recent call last)",
      "Cell \u001b[1;32mIn[8], line 2\u001b[0m\n\u001b[0;32m      1\u001b[0m \u001b[39mfor\u001b[39;00m i \u001b[39min\u001b[39;00m tqdm(_folder_list):\n\u001b[1;32m----> 2\u001b[0m     convert_and_save(os\u001b[39m.\u001b[39mpath\u001b[39m.\u001b[39mjoin(_base_pth, _parent_folder,i, \u001b[39m\"\u001b[39m\u001b[39mwebcam_color.msgpack\u001b[39m\u001b[39m\"\u001b[39m), folder_name\u001b[39m=\u001b[39mi)\n",
      "\u001b[1;31mNameError\u001b[0m: name 'convert_and_save' is not defined"
     ]
    }
   ],
   "source": [
    "for i in tqdm(_folder_list):\n",
    "    convert_and_save(\n",
    "        os.path.join(_base_pth, _parent_folder, i, \"webcam_color.msgpack\"),\n",
    "        folder_name=i,\n",
    "    )"
   ]
  },
  {
   "cell_type": "code",
   "execution_count": 15,
   "metadata": {},
   "outputs": [
    {
     "name": "stderr",
     "output_type": "stream",
     "text": [
      "100%|██████████| 1/1 [00:20<00:00, 20.13s/it]\n"
     ]
    }
   ],
   "source": [
    "for i in tqdm(_folder_list):\n",
    "    convert_and_save_as_png(\n",
    "        os.path.join(_base_pth, _parent_folder, i, \"webcam_color.msgpack\"),\n",
    "        folder_name=i,\n",
    "    )\n",
    "    # break"
   ]
  },
  {
   "cell_type": "code",
   "execution_count": null,
   "metadata": {},
   "outputs": [
    {
     "name": "stderr",
     "output_type": "stream",
     "text": [
      "100%|██████████| 89/89 [00:01<00:00, 82.06it/s] \n"
     ]
    }
   ],
   "source": [
    "def remove_video_files(_video_pth):\n",
    "    os.remove(_video_pth)\n",
    "\n",
    "\n",
    "for i in tqdm(_folder_list):\n",
    "    remove_video_files(os.path.join(_base_pth, _parent_folder, i, i + \".avi\"))"
   ]
  },
  {
   "cell_type": "code",
   "execution_count": null,
   "metadata": {},
   "outputs": [],
   "source": []
  }
 ],
 "metadata": {
  "kernelspec": {
   "display_name": "Python 3.7.13 ('gs')",
   "language": "python",
   "name": "python3"
  },
  "language_info": {
   "codemirror_mode": {
    "name": "ipython",
    "version": 3
   },
   "file_extension": ".py",
   "mimetype": "text/x-python",
   "name": "python",
   "nbconvert_exporter": "python",
   "pygments_lexer": "ipython3",
   "version": "3.10.11"
  },
  "orig_nbformat": 4,
  "vscode": {
   "interpreter": {
    "hash": "4221670f905fea9ae63d68da118e10d2cad93a36a65c3325530da287d71e9aea"
   }
  }
 },
 "nbformat": 4,
 "nbformat_minor": 2
}
