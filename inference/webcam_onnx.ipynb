{
 "cells": [
  {
   "cell_type": "code",
   "execution_count": 2,
   "metadata": {},
   "outputs": [],
   "source": [
    "import onnxruntime\n",
    "import cv2 \n",
    "import numpy as np\n",
    "import onnx\n",
    "import matplotlib.pyplot as plt"
   ]
  },
  {
   "cell_type": "code",
   "execution_count": 3,
   "metadata": {},
   "outputs": [
    {
     "name": "stdout",
     "output_type": "stream",
     "text": [
      "onnx.__version__='1.16.0', opset=21, IR_VERSION=10\n"
     ]
    }
   ],
   "source": [
    "from onnx import __version__, IR_VERSION\n",
    "from onnx.defs import onnx_opset_version\n",
    "print(f\"onnx.__version__={__version__!r}, opset={onnx_opset_version()}, IR_VERSION={IR_VERSION}\")"
   ]
  },
  {
   "cell_type": "code",
   "execution_count": 4,
   "metadata": {},
   "outputs": [],
   "source": [
    "onnx_model_path = r\"D:\\CMC\\pyprojects\\DeepVision\\inference\\model.onnx\"\n",
    "session = onnxruntime.InferenceSession(onnx_model_path)\n",
    "# print(session.get_inputs()[0].shape)"
   ]
  },
  {
   "cell_type": "code",
   "execution_count": 5,
   "metadata": {},
   "outputs": [],
   "source": [
    "\n",
    "vid = cv2.VideoCapture(0) \n",
    "\n",
    "while(True):\n",
    "    ret, frame = vid.read()\n",
    "    resized = cv2.resize(frame, (640,640), interpolation = cv2.INTER_AREA).astype(np.float32) / 255   \n",
    "    resized = resized.reshape((1,3,640,640))\n",
    "    output = session.run(None, {\"images\": resized})\n",
    "    cv2.imshow('frame',frame)\n",
    "    if cv2.waitKey(1) & 0xFF == ord('q'):\n",
    "        break\n",
    "vid.release()\n",
    "cv2.destroyAllWindows()"
   ]
  },
  {
   "cell_type": "code",
   "execution_count": 6,
   "metadata": {},
   "outputs": [
    {
     "data": {
      "text/plain": [
       "(1, 17, 8400)"
      ]
     },
     "execution_count": 6,
     "metadata": {},
     "output_type": "execute_result"
    }
   ],
   "source": [
    "output[0].shape"
   ]
  },
  {
   "cell_type": "code",
   "execution_count": 7,
   "metadata": {},
   "outputs": [
    {
     "data": {
      "text/plain": [
       "array([[[[0.8117647 , 0.8392157 , 0.85882354, ..., 0.99607843,\n",
       "          0.972549  , 0.9882353 ],\n",
       "         [0.99607843, 0.972549  , 0.99215686, ..., 0.99607843,\n",
       "          0.9882353 , 0.99607843],\n",
       "         [0.99607843, 0.9882353 , 0.99607843, ..., 0.9764706 ,\n",
       "          0.99607843, 0.9882353 ],\n",
       "         ...,\n",
       "         [0.34509805, 0.5254902 , 0.3882353 , ..., 0.54901963,\n",
       "          0.5019608 , 0.48235294],\n",
       "         [0.5411765 , 0.5254902 , 0.5058824 , ..., 0.43529412,\n",
       "          0.38431373, 0.56078434],\n",
       "         [0.79607844, 0.83137256, 0.81960785, ..., 0.34509805,\n",
       "          0.5019608 , 0.38431373]],\n",
       "\n",
       "        [[0.34901962, 0.5254902 , 0.3882353 , ..., 0.5647059 ,\n",
       "          0.5254902 , 0.50980395],\n",
       "         [0.5647059 , 0.5294118 , 0.5176471 , ..., 0.42745098,\n",
       "          0.3764706 , 0.54509807],\n",
       "         [0.79607844, 0.83137256, 0.81960785, ..., 0.34117648,\n",
       "          0.49803922, 0.38431373],\n",
       "         ...,\n",
       "         [0.3254902 , 0.29803923, 0.3019608 , ..., 0.3137255 ,\n",
       "          0.27058825, 0.42745098],\n",
       "         [0.7294118 , 0.7490196 , 0.7411765 , ..., 0.27058825,\n",
       "          0.4509804 , 0.26666668],\n",
       "         [0.23921569, 0.39607844, 0.25490198, ..., 0.33333334,\n",
       "          0.30588236, 0.3137255 ]],\n",
       "\n",
       "        [[0.32941177, 0.3019608 , 0.30980393, ..., 0.3137255 ,\n",
       "          0.27450982, 0.43137255],\n",
       "         [0.73333335, 0.7529412 , 0.74509805, ..., 0.28235295,\n",
       "          0.4627451 , 0.2901961 ],\n",
       "         [0.25882354, 0.41568628, 0.25882354, ..., 0.34117648,\n",
       "          0.3137255 , 0.32156864],\n",
       "         ...,\n",
       "         [0.6039216 , 0.63529414, 0.6313726 , ..., 0.21960784,\n",
       "          0.21568628, 0.23529412],\n",
       "         [0.20784314, 0.20784314, 0.22352941, ..., 0.25490198,\n",
       "          0.27450982, 0.28235295],\n",
       "         [0.25882354, 0.2784314 , 0.28627452, ..., 0.30588236,\n",
       "          0.26666668, 0.4117647 ]]]], dtype=float32)"
      ]
     },
     "execution_count": 7,
     "metadata": {},
     "output_type": "execute_result"
    }
   ],
   "source": [
    "resized"
   ]
  },
  {
   "cell_type": "code",
   "execution_count": 11,
   "metadata": {},
   "outputs": [
    {
     "data": {
      "text/plain": [
       "True"
      ]
     },
     "execution_count": 11,
     "metadata": {},
     "output_type": "execute_result"
    }
   ],
   "source": [
    "cv2.imwrite(r\"D:\\CMC\\pyprojects\\DeepVision\\inference\\image.jpg\", frame)"
   ]
  },
  {
   "cell_type": "code",
   "execution_count": 13,
   "metadata": {},
   "outputs": [
    {
     "data": {
      "text/plain": [
       "(480, 640, 3)"
      ]
     },
     "execution_count": 13,
     "metadata": {},
     "output_type": "execute_result"
    }
   ],
   "source": [
    "frame.shape"
   ]
  },
  {
   "cell_type": "code",
   "execution_count": null,
   "metadata": {},
   "outputs": [],
   "source": []
  }
 ],
 "metadata": {
  "kernelspec": {
   "display_name": "gpy",
   "language": "python",
   "name": "python3"
  },
  "language_info": {
   "codemirror_mode": {
    "name": "ipython",
    "version": 3
   },
   "file_extension": ".py",
   "mimetype": "text/x-python",
   "name": "python",
   "nbconvert_exporter": "python",
   "pygments_lexer": "ipython3",
   "version": "3.11.7"
  }
 },
 "nbformat": 4,
 "nbformat_minor": 2
}
