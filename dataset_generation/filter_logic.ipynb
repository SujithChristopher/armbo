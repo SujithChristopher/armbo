{
 "cells": [
  {
   "cell_type": "code",
   "execution_count": 41,
   "metadata": {},
   "outputs": [],
   "source": [
    "import os\n",
    "import sys\n",
    "import polars as pl\n",
    "import matplotlib.pyplot as plt\n",
    "import numpy as np\n",
    "import msgpack as mp\n",
    "import msgpack_numpy as mpn\n",
    "import toml\n",
    "import cv2\n",
    "from cv2 import aruco\n",
    "import pandas as pd"
   ]
  },
  {
   "cell_type": "markdown",
   "metadata": {},
   "source": [
    "Parameters"
   ]
  },
  {
   "cell_type": "code",
   "execution_count": 104,
   "metadata": {},
   "outputs": [],
   "source": [
    "DATASET_FORMAT = 'POSE'"
   ]
  },
  {
   "cell_type": "markdown",
   "metadata": {},
   "source": [
    "### Modify the parameter.toml for different directory\n",
    "Defining folders and files"
   ]
  },
  {
   "cell_type": "code",
   "execution_count": 42,
   "metadata": {},
   "outputs": [
    {
     "name": "stdout",
     "output_type": "stream",
     "text": [
      "00_analysis\n",
      "F:\\\\aruco_recent_recordings\\\\data_for_labelling_aug_1_2023\n",
      "F:\\\\aruco_recent_recordings\\\\data_for_labelling_aug_1_2023\\00_analysis\\folder_names.txt\n"
     ]
    }
   ],
   "source": [
    "data_pth = toml.load(os.path.join(os.path.dirname(os.getcwd()), 'parameters.toml'))['dataset']['pth']\n",
    "process_file = os.listdir(data_pth)[os.listdir(data_pth).index('00_analysis')]\n",
    "analysis_folder = os.path.join(data_pth, process_file)\n",
    "analysis_file = os.path.join(analysis_folder, 'folder_names.txt')\n",
    "\n",
    "print(process_file)\n",
    "print(data_pth)\n",
    "print(analysis_file)\n",
    "\n",
    "with open(analysis_file, \"r\") as f:\n",
    "    video_folders_list = f.readlines()\n",
    "    video_folders_list = [i.strip() for i in video_folders_list]"
   ]
  },
  {
   "cell_type": "markdown",
   "metadata": {},
   "source": [
    "### Calibration files path"
   ]
  },
  {
   "cell_type": "code",
   "execution_count": 43,
   "metadata": {},
   "outputs": [
    {
     "data": {
      "text/plain": [
       "array([[671.25534529,   0.        , 678.00736213],\n",
       "       [  0.        , 692.23316717, 443.37269229],\n",
       "       [  0.        ,   0.        ,   1.        ]])"
      ]
     },
     "execution_count": 43,
     "metadata": {},
     "output_type": "execute_result"
    }
   ],
   "source": [
    "_calib_folder_name = \"calibration_00\"\n",
    "_webcam_calib_pth = os.path.join(data_pth, os.path.dirname(process_file), _calib_folder_name, \"webcam_calibration.msgpack\")\n",
    "\n",
    "with open(_webcam_calib_pth, \"rb\") as f:\n",
    "    webcam_calib = mp.Unpacker(f, object_hook=mpn.decode)\n",
    "    _temp = next(webcam_calib)\n",
    "    _webcam_cam_mat = _temp[0]\n",
    "    _webcam_dist = _temp[1]\n",
    "\n",
    "_webcam_cam_mat"
   ]
  },
  {
   "cell_type": "markdown",
   "metadata": {},
   "source": [
    "### ArUco dictionary and parameters"
   ]
  },
  {
   "cell_type": "code",
   "execution_count": 44,
   "metadata": {},
   "outputs": [],
   "source": [
    "marker_size = 0.05\n",
    "\n",
    "marker_points = np.array([[-marker_size / 2, marker_size / 2, 0],\n",
    "                            [marker_size / 2, marker_size / 2, 0],\n",
    "                            [marker_size / 2, -marker_size / 2, 0],\n",
    "                            [-marker_size / 2, -marker_size / 2, 0]], dtype=np.float32)\n",
    "\n",
    "ARUCO_PARAMETERS = aruco.DetectorParameters()\n",
    "ARUCO_DICT = aruco.getPredefinedDictionary(aruco.DICT_ARUCO_MIP_36H12)\n",
    "detector = aruco.ArucoDetector(ARUCO_DICT, ARUCO_PARAMETERS)\n",
    "markerLength = marker_size\n",
    "markerSeperation = 0.01\n",
    "\n",
    "board = aruco.GridBoard(\n",
    "        size= [1,1],\n",
    "        markerLength=markerLength,\n",
    "        markerSeparation=markerSeperation,\n",
    "        dictionary=ARUCO_DICT)\n",
    "\n",
    "def my_estimatePoseSingleMarkers(corners, marker_points, mtx, distortion):\n",
    "    trash = []\n",
    "    rvecs = []\n",
    "    tvecs = []\n",
    "    for c in corners:\n",
    "        nada, R, t = cv2.solvePnP(marker_points, c, mtx, distortion, False, flags= cv2.SOLVEPNP_ITERATIVE)\n",
    "        R = R.T\n",
    "        t = t.T\n",
    "        rvecs.append(R)\n",
    "        tvecs.append(t)\n",
    "        trash.append(nada)\n",
    "    return rvecs, tvecs, trash"
   ]
  },
  {
   "cell_type": "code",
   "execution_count": 45,
   "metadata": {},
   "outputs": [],
   "source": [
    "_video_path = os.path.join(data_pth, os.path.dirname(process_file), video_folders_list[0], 'webcam_color.msgpack')\n",
    "_video_file = mp.Unpacker(open(_video_path, \"rb\"), object_hook=mpn.decode)\n",
    "\n",
    "\n",
    "default_ids = [12, 88, 89]\n",
    "data = {\"frame_id\":[],\"marker_ids\":[], \"corners\":[], \"tvec\":[], \"rvec\":[]}\n",
    "\n",
    "counter = 0\n",
    "\n",
    "detector = aruco.ArucoDetector(ARUCO_DICT, ARUCO_PARAMETERS)\n",
    "\n",
    "\n",
    "for _frame in _video_file:\n",
    "    shape = _frame.shape\n",
    "    gray = cv2.cvtColor(_frame, cv2.COLOR_BGR2GRAY)\n",
    "    \n",
    "    corners, ids, rejectedImgPoints = detector.detectMarkers(gray)\n",
    "    corners, ids, rejectedImgPoints,_ = detector.refineDetectedMarkers(image=gray,board=board ,detectedCorners=corners, detectedIds=ids, \n",
    "                                                                    rejectedCorners=rejectedImgPoints, cameraMatrix=_webcam_cam_mat, \n",
    "                                                                    distCoeffs=_webcam_dist)\n",
    "\n",
    "    rotation_vectors, translation_vectors, _ = my_estimatePoseSingleMarkers(corners, marker_points, _webcam_cam_mat, _webcam_dist)\n",
    "\n",
    "    if ids is None:\n",
    "        data[\"frame_id\"].append(counter)\n",
    "        data[\"marker_ids\"].append(None)\n",
    "        data[\"corners\"].append(None)\n",
    "        data[\"tvec\"].append(None)\n",
    "        data[\"rvec\"].append(None)\n",
    "\n",
    "    if ids is not None:\n",
    "        data[\"frame_id\"].append(counter)\n",
    "        data[\"marker_ids\"].append(ids)\n",
    "        data[\"corners\"].append(corners)\n",
    "        data[\"tvec\"].append(translation_vectors)\n",
    "        data[\"rvec\"].append(rotation_vectors)\n",
    "\n",
    "    counter+=1\n"
   ]
  },
  {
   "cell_type": "code",
   "execution_count": 46,
   "metadata": {},
   "outputs": [],
   "source": [
    "coordinate = {str(default_ids[0]):{\"x\":[], \"y\":[], \"z\":[], \"rx\":[], \"ry\":[], \"rz\":[]},\n",
    "              str(default_ids[1]):{\"x\":[], \"y\":[], \"z\":[], \"rx\":[], \"ry\":[], \"rz\":[]},\n",
    "              str(default_ids[2]):{\"x\":[], \"y\":[], \"z\":[], \"rx\":[], \"ry\":[], \"rz\":[]}}\n",
    "\n",
    "doesnt_exist = [] # list of ids that doesnt exist in a frame\n",
    "\n",
    "for i in range(len(data[\"frame_id\"])):\n",
    "    if data[\"marker_ids\"][i] is not None:\n",
    "\n",
    "        if default_ids[0] not in data[\"marker_ids\"][i]:\n",
    "            doesnt_exist.append(default_ids[0])\n",
    "        if default_ids[1] not in data[\"marker_ids\"][i]:\n",
    "            doesnt_exist.append(default_ids[1])\n",
    "        if default_ids[2] not in data[\"marker_ids\"][i]:\n",
    "            doesnt_exist.append(default_ids[2])\n",
    "\n",
    "        for j in range(len(data[\"marker_ids\"][i])):\n",
    "            if data[\"marker_ids\"][i][j] in default_ids:\n",
    "                coordinate[str(data[\"marker_ids\"][i][j][0])][\"x\"].append(data[\"tvec\"][i][j][0][0])\n",
    "                coordinate[str(data[\"marker_ids\"][i][j][0])][\"y\"].append(data[\"tvec\"][i][j][0][1])\n",
    "                coordinate[str(data[\"marker_ids\"][i][j][0])][\"z\"].append(data[\"tvec\"][i][j][0][2])\n",
    "                coordinate[str(data[\"marker_ids\"][i][j][0])][\"rx\"].append(data[\"rvec\"][i][j][0][0])\n",
    "                coordinate[str(data[\"marker_ids\"][i][j][0])][\"ry\"].append(data[\"rvec\"][i][j][0][1])\n",
    "                coordinate[str(data[\"marker_ids\"][i][j][0])][\"rz\"].append(data[\"rvec\"][i][j][0][2])\n",
    "        for k in doesnt_exist:\n",
    "            coordinate[str(k)][\"x\"].append(np.nan)\n",
    "            coordinate[str(k)][\"y\"].append(np.nan)\n",
    "            coordinate[str(k)][\"z\"].append(np.nan)\n",
    "            coordinate[str(k)][\"rx\"].append(np.nan)\n",
    "            coordinate[str(k)][\"ry\"].append(np.nan)\n",
    "            coordinate[str(k)][\"rz\"].append(np.nan)\n",
    "        doesnt_exist = []\n",
    "    else:\n",
    "        for k in default_ids:\n",
    "            coordinate[str(k)][\"x\"].append(np.nan)\n",
    "            coordinate[str(k)][\"y\"].append(np.nan)\n",
    "            coordinate[str(k)][\"z\"].append(np.nan)\n",
    "            coordinate[str(k)][\"rx\"].append(np.nan)\n",
    "            coordinate[str(k)][\"ry\"].append(np.nan)\n",
    "            coordinate[str(k)][\"rz\"].append(np.nan)"
   ]
  },
  {
   "cell_type": "code",
   "execution_count": 100,
   "metadata": {},
   "outputs": [],
   "source": [
    "ar_df_12 = pd.DataFrame(coordinate['12'])\n",
    "ar_df_12['sort'] = (ar_df_12['z'].diff()>1)\n",
    "drop_idx_12 = ar_df_12.query('sort == True').index\n",
    "\n",
    "ar_df_88 = pd.DataFrame(coordinate['88'])\n",
    "ar_df_88['sort'] = (ar_df_88['z'].diff()>1)\n",
    "drop_idx_88 = ar_df_88.query('sort == True').index\n",
    "\n",
    "ar_df_89 = pd.DataFrame(coordinate['89'])\n",
    "ar_df_89['sort'] = (ar_df_89['z'].diff()>1)\n",
    "drop_idx_89 = ar_df_89.query('sort == True').index\n",
    "\n",
    "drop_ids = []\n",
    "for i in drop_idx_12:\n",
    "    drop_ids.append(i)\n",
    "for i in drop_idx_88:\n",
    "    drop_ids.append(i)\n",
    "for i in drop_idx_89:\n",
    "    drop_ids.append(i)\n",
    "drop = {'drop':drop_ids}\n",
    "drop_ids = pl.DataFrame(drop)\n",
    "drops = drop_ids['drop'].unique().to_numpy()"
   ]
  },
  {
   "cell_type": "code",
   "execution_count": 107,
   "metadata": {},
   "outputs": [],
   "source": [
    "_video_path = os.path.join(data_pth, os.path.dirname(process_file), video_folders_list[0], 'webcam_color.msgpack')\n",
    "_video_file = mp.Unpacker(open(_video_path, \"rb\"), object_hook=mpn.decode)\n",
    "\n",
    "default_ids = [12, 88, 89]\n",
    "data = {\"frame_id\":[],\"marker_ids\":[], \"corners\":[], \"tvec\":[], \"rvec\":[]}\n",
    "\n",
    "counter = 0\n",
    "\n",
    "detector = aruco.ArucoDetector(ARUCO_DICT, ARUCO_PARAMETERS)\n",
    "second_counter = 0\n",
    "\n",
    "for _frame in _video_file:\n",
    "    \n",
    "    height, width = _frame.shape[:2]\n",
    "    gray = cv2.cvtColor(_frame, cv2.COLOR_BGR2GRAY)\n",
    "    \n",
    "    markerCorners, ids, rejectedImgPoints = detector.detectMarkers(gray)\n",
    "    \n",
    "    markerCorners, ids, rejectedImgPoints,_ = detector.refineDetectedMarkers(image=gray,board=board ,detectedCorners=corners, detectedIds=ids, \n",
    "                                                                rejectedCorners=rejectedImgPoints, cameraMatrix=_webcam_cam_mat, \n",
    "                                                                distCoeffs=_webcam_dist)\n",
    "\n",
    "    counter += 1\n",
    "    \n",
    "    if counter in drops:\n",
    "        continue\n",
    "    \n",
    "    for i in range(len(ids)):\n",
    "        second_counter += 1\n",
    "        _markerCorners = markerCorners[i][0]\n",
    "        bbox_x,bbox_y,bbox_width,bbox_height = cv2.boundingRect(_markerCorners)\n",
    "\n",
    "        bbox_x = bbox_x / width\n",
    "        bbox_y = bbox_y / height\n",
    "\n",
    "        bbox_center_x = bbox_x + bbox_width / (2 * width)\n",
    "        bbox_center_y = bbox_y + bbox_height / (2 * height)\n",
    "\n",
    "        bbox_width = bbox_width / width\n",
    "        bbox_height = bbox_height / height\n",
    "        if ids[i][0] == default_ids[0]:\n",
    "            _class_name = \"0\"\n",
    "        elif ids[i][0] == default_ids[1]:\n",
    "            _class_name = \"1\"\n",
    "        elif ids[i][0] == default_ids[2]:\n",
    "            _class_name = \"2\"\n",
    "        else:\n",
    "            continue\n",
    "    \n",
    "    # if DATASET_FORMAT == \"SEGMENTATION\":\n",
    "    #     label_writer.writerow([_class_name,_markerCorners[0][0]/width, _markerCorners[0][1]/height, _markerCorners[1][0]/width, _markerCorners[1][1]/height, _markerCorners[2][0]/width, _markerCorners[2][1]/height, _markerCorners[3][0]/width, _markerCorners[3][1]/height, _markerCorners[0][0]/width, _markerCorners[0][1]/height])\n",
    "    # elif DATASET_FORMAT == \"POSE\":\n",
    "    #     label_writer.writerow([_class_name, bbox_center_x, bbox_center_y, bbox_width, bbox_height,_markerCorners[0][0]/width, _markerCorners[0][1]/height, _markerCorners[1][0]/width, _markerCorners[1][1]/height, _markerCorners[2][0]/width, _markerCorners[2][1]/height, _markerCorners[3][0]/width, _markerCorners[3][1]/height, _markerCorners[0][0]/width, _markerCorners[0][1]/height])"
   ]
  },
  {
   "cell_type": "code",
   "execution_count": 103,
   "metadata": {},
   "outputs": [
    {
     "data": {
      "text/plain": [
       "(717, 716)"
      ]
     },
     "execution_count": 103,
     "metadata": {},
     "output_type": "execute_result"
    }
   ],
   "source": [
    "counter, second_counter"
   ]
  },
  {
   "cell_type": "code",
   "execution_count": 102,
   "metadata": {},
   "outputs": [
    {
     "data": {
      "text/plain": [
       "array([608], dtype=int64)"
      ]
     },
     "execution_count": 102,
     "metadata": {},
     "output_type": "execute_result"
    }
   ],
   "source": [
    "counter = 608"
   ]
  },
  {
   "cell_type": "code",
   "execution_count": null,
   "metadata": {},
   "outputs": [],
   "source": []
  }
 ],
 "metadata": {
  "kernelspec": {
   "display_name": "py115",
   "language": "python",
   "name": "python3"
  },
  "language_info": {
   "codemirror_mode": {
    "name": "ipython",
    "version": 3
   },
   "file_extension": ".py",
   "mimetype": "text/x-python",
   "name": "python",
   "nbconvert_exporter": "python",
   "pygments_lexer": "ipython3",
   "version": "3.11.5"
  }
 },
 "nbformat": 4,
 "nbformat_minor": 2
}
