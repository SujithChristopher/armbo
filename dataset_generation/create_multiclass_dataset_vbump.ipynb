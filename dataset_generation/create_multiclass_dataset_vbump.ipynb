{
 "cells": [
  {
   "cell_type": "code",
   "execution_count": 2,
   "metadata": {},
   "outputs": [],
   "source": [
    "from cv2 import aruco\n",
    "import cv2\n",
    "import numpy as np\n",
    "import matplotlib.pyplot as plt\n",
    "import msgpack as mp\n",
    "import msgpack_numpy as mpn\n",
    "import os\n",
    "\n",
    "from tqdm import tqdm\n",
    "import csv"
   ]
  },
  {
   "cell_type": "code",
   "execution_count": 3,
   "metadata": {},
   "outputs": [
    {
     "data": {
      "text/plain": [
       "array([[671.25534529,   0.        , 678.00736213],\n",
       "       [  0.        , 692.23316717, 443.37269229],\n",
       "       [  0.        ,   0.        ,   1.        ]])"
      ]
     },
     "execution_count": 3,
     "metadata": {},
     "output_type": "execute_result"
    }
   ],
   "source": [
    "_pth = os.getcwd()\n",
    "_pth = os.path.dirname(_pth)\n",
    "_parent_folder = \"data_for_labelling_aug_1_2023\"\n",
    "_calib_folder_name = \"calibration_00\"\n",
    "\n",
    "_folder_name = \"mip_sk_30_4_0\"\n",
    "# _folder_name = \"board\"\n",
    "\n",
    "_base_pth = os.path.join(_pth,\"recorded_data\",_parent_folder)\n",
    "\n",
    "_webcam_calib_folder = os.path.join(_pth,\"recorded_data\",_parent_folder,_calib_folder_name)\n",
    "_webcam_calib_folder = os.path.join(_webcam_calib_folder)\n",
    "_webcam_calib_pth = os.path.join( _webcam_calib_folder, \"webcam_calibration.msgpack\")\n",
    "\n",
    "with open(_webcam_calib_pth, \"rb\") as f:\n",
    "    webcam_calib = mp.Unpacker(f, object_hook=mpn.decode)\n",
    "    _temp = next(webcam_calib)\n",
    "    _webcam_cam_mat = _temp[0]\n",
    "    _webcam_dist = _temp[1]\n",
    "\n",
    "_webcam_cam_mat"
   ]
  },
  {
   "cell_type": "code",
   "execution_count": null,
   "metadata": {},
   "outputs": [],
   "source": [
    "# Formats: SEGMENTATION, CLASSIFICATION, POSE\n",
    "DATASET_FORMAT = \"SEGMENTATION\""
   ]
  },
  {
   "cell_type": "code",
   "execution_count": 4,
   "metadata": {},
   "outputs": [],
   "source": [
    "ARUCO_PARAMETERS = aruco.DetectorParameters()\n",
    "ARUCO_DICT = aruco.getPredefinedDictionary(aruco.DICT_ARUCO_MIP_36H12)\n",
    "detector = aruco.ArucoDetector(ARUCO_DICT, ARUCO_PARAMETERS)\n",
    "markerLength = int(_folder_name.split(\"_\")[3])/100\n",
    "markerSeperation = 0.01\n",
    "\n",
    "board = aruco.GridBoard(\n",
    "        size= [1,1],\n",
    "        markerLength=markerLength,\n",
    "        markerSeparation=markerSeperation,\n",
    "        dictionary=ARUCO_DICT)"
   ]
  },
  {
   "cell_type": "code",
   "execution_count": 5,
   "metadata": {},
   "outputs": [
    {
     "name": "stderr",
     "output_type": "stream",
     "text": [
      "0it [00:00, ?it/s]"
     ]
    },
    {
     "name": "stderr",
     "output_type": "stream",
     "text": [
      "898it [00:08, 109.58it/s]\n"
     ]
    }
   ],
   "source": [
    "_video_pth = os.path.join(_base_pth,_folder_name,\"webcam_color.msgpack\")\n",
    "_video_file = open(_video_pth, \"rb\")\n",
    "_video_data = mp.Unpacker(_video_file, object_hook=mpn.decode)\n",
    "\n",
    "default_ids = [12, 88, 89]\n",
    "\n",
    "data = {\"frame_id\":[],\"marker_ids\":[], \"corners\":[], \"tvec\":[], \"rvec\":[]}\n",
    "\n",
    "counter = 0\n",
    "\n",
    "for _frame in tqdm(_video_data):\n",
    "\n",
    "    shape = _frame.shape\n",
    "    gray = cv2.cvtColor(_frame, cv2.COLOR_BGR2GRAY)\n",
    "    corners, ids, rejectedImgPoints = aruco.detectMarkers(gray, ARUCO_DICT, parameters=ARUCO_PARAMETERS)\n",
    "\n",
    "    corners, ids, rejectedImgPoints, recoveredIds = aruco.refineDetectedMarkers(\n",
    "        image = gray,\n",
    "        board = board,\n",
    "        detectedCorners = corners,\n",
    "        detectedIds = ids,\n",
    "        rejectedCorners = rejectedImgPoints,\n",
    "        cameraMatrix = _webcam_cam_mat,\n",
    "        distCoeffs = _webcam_dist)\n",
    "\n",
    "    rotation_vectors, translation_vectors, _ = aruco.estimatePoseSingleMarkers(corners, int(_folder_name.split(\"_\")[3])/100, _webcam_cam_mat, _webcam_dist)\n",
    "\n",
    "    if ids is None:\n",
    "        data[\"frame_id\"].append(counter)\n",
    "        data[\"marker_ids\"].append(None)\n",
    "        data[\"corners\"].append(None)\n",
    "        data[\"tvec\"].append(None)\n",
    "        data[\"rvec\"].append(None)\n",
    "\n",
    "    if ids is not None:\n",
    "        data[\"frame_id\"].append(counter)\n",
    "        data[\"marker_ids\"].append(ids)\n",
    "        data[\"corners\"].append(corners)\n",
    "        data[\"tvec\"].append(translation_vectors)\n",
    "        data[\"rvec\"].append(rotation_vectors)\n",
    "\n",
    "    counter+=1\n",
    "\n",
    "\n",
    "_video_file.close()"
   ]
  },
  {
   "cell_type": "code",
   "execution_count": 6,
   "metadata": {},
   "outputs": [],
   "source": [
    "coordinate = {str(default_ids[0]):{\"x\":[], \"y\":[], \"z\":[], \"rx\":[], \"ry\":[], \"rz\":[]},\n",
    "              str(default_ids[1]):{\"x\":[], \"y\":[], \"z\":[], \"rx\":[], \"ry\":[], \"rz\":[]},\n",
    "              str(default_ids[2]):{\"x\":[], \"y\":[], \"z\":[], \"rx\":[], \"ry\":[], \"rz\":[]}}\n",
    "\n",
    "doesnt_exist = [] # list of ids that doesnt exist in a frame\n",
    "\n",
    "zero_counter = 0\n",
    "for i in range(len(data[\"frame_id\"])):\n",
    "    if data[\"marker_ids\"][i] is not None:\n",
    "        \n",
    "        if default_ids[0] not in data[\"marker_ids\"][i]:\n",
    "            doesnt_exist.append(default_ids[0])\n",
    "        if default_ids[1] not in data[\"marker_ids\"][i]:\n",
    "            doesnt_exist.append(default_ids[1])\n",
    "        if default_ids[2] not in data[\"marker_ids\"][i]:\n",
    "            doesnt_exist.append(default_ids[2])\n",
    "            \n",
    "        _zero_counter = 0            \n",
    "        for j, _m in enumerate(data[\"marker_ids\"][i]):\n",
    "                \n",
    "            if _m in default_ids:\n",
    "                coordinate[str(_m[0])][\"x\"].append(data[\"tvec\"][i][j][0][0])\n",
    "                coordinate[str(_m[0])][\"y\"].append(data[\"tvec\"][i][j][0][1])\n",
    "                coordinate[str(_m[0])][\"z\"].append(data[\"tvec\"][i][j][0][2])\n",
    "                coordinate[str(_m[0])][\"rx\"].append(data[\"rvec\"][i][j][0][0])\n",
    "                coordinate[str(_m[0])][\"ry\"].append(data[\"rvec\"][i][j][0][1])\n",
    "                coordinate[str(_m[0])][\"rz\"].append(data[\"rvec\"][i][j][0][2])\n",
    "\n",
    "                \n",
    "        for k in doesnt_exist:\n",
    "            coordinate[str(k)][\"x\"].append(np.nan)\n",
    "            coordinate[str(k)][\"y\"].append(np.nan)\n",
    "            coordinate[str(k)][\"z\"].append(np.nan)\n",
    "            coordinate[str(k)][\"rx\"].append(np.nan)\n",
    "            coordinate[str(k)][\"ry\"].append(np.nan)\n",
    "            coordinate[str(k)][\"rz\"].append(np.nan)\n",
    "            \n",
    "    else:\n",
    "        for _k in default_ids:\n",
    "            coordinate[str(_k)][\"x\"].append(np.nan)\n",
    "            coordinate[str(_k)][\"y\"].append(np.nan)\n",
    "            coordinate[str(_k)][\"z\"].append(np.nan)\n",
    "            coordinate[str(_k)][\"rx\"].append(np.nan)\n",
    "            coordinate[str(_k)][\"ry\"].append(np.nan)\n",
    "            coordinate[str(_k)][\"rz\"].append(np.nan)\n",
    "            \n",
    "    doesnt_exist.clear()"
   ]
  },
  {
   "cell_type": "code",
   "execution_count": 7,
   "metadata": {},
   "outputs": [
    {
     "name": "stdout",
     "output_type": "stream",
     "text": [
      "898 898 898\n"
     ]
    }
   ],
   "source": [
    "print(len(coordinate[\"12\"][\"x\"]), len(coordinate[\"88\"][\"x\"]), len(coordinate[\"89\"][\"x\"]))"
   ]
  },
  {
   "cell_type": "code",
   "execution_count": 8,
   "metadata": {},
   "outputs": [
    {
     "data": {
      "text/plain": [
       "<matplotlib.legend.Legend at 0x12f9877ac90>"
      ]
     },
     "execution_count": 8,
     "metadata": {},
     "output_type": "execute_result"
    },
    {
     "data": {
      "image/png": "[encoded data removed]",
      "text/plain": [
       "<Figure size 640x480 with 1 Axes>"
      ]
     },
     "metadata": {},
     "output_type": "display_data"
    }
   ],
   "source": [
    "plt.plot(coordinate[str(default_ids[0])][\"x\"], label=\"x\")\n",
    "plt.plot(coordinate[str(default_ids[1])][\"x\"], label=\"1x\")\n",
    "plt.plot(coordinate[str(default_ids[2])][\"x\"], label=\"2x\")\n",
    "plt.legend()"
   ]
  },
  {
   "cell_type": "code",
   "execution_count": 27,
   "metadata": {},
   "outputs": [
    {
     "name": "stderr",
     "output_type": "stream",
     "text": [
      "898it [00:38, 23.47it/s]\n"
     ]
    }
   ],
   "source": [
    "raw_data_pth = os.path.abspath(os.path.join(os.getcwd(), os.pardir))\n",
    "raw_data_pth = os.path.join(raw_data_pth, 'dataset',\"multi_class\", \"raw_data\")\n",
    "if not os.path.exists(raw_data_pth):\n",
    "    os.makedirs(os.path.join(raw_data_pth, \"images\"))\n",
    "    os.makedirs(os.path.join(raw_data_pth, \"labels\"))\n",
    "\n",
    "\n",
    "# based on the coordinate, we can create the labels\n",
    "# we will create the labels for each frame\n",
    "\n",
    "_video_pth = os.path.join(_base_pth,_folder_name,\"webcam_color.msgpack\")\n",
    "_video_file = open(_video_pth, \"rb\")\n",
    "_video_data = mp.Unpacker(_video_file, object_hook=mpn.decode)\n",
    "\n",
    "counter = 0\n",
    "\n",
    "doesnt_exist = [] # list of ids that doesnt exist in a frame\n",
    "\n",
    "new_ids = []\n",
    "\n",
    "for _frame in tqdm(_video_data):\n",
    "\n",
    "    shape = _frame.shape\n",
    "    height, width, _ = shape\n",
    "    gray = cv2.cvtColor(_frame, cv2.COLOR_BGR2GRAY)\n",
    "    markerCorners, ids, rejectedImgPoints = aruco.detectMarkers(gray, ARUCO_DICT, parameters=ARUCO_PARAMETERS)\n",
    "    new_ids.append(ids)\n",
    "\n",
    "    markerCorners, ids, rejectedImgPoints, recoveredIds = aruco.refineDetectedMarkers(\n",
    "        image = gray,\n",
    "        board = board,\n",
    "        detectedCorners = markerCorners,\n",
    "        detectedIds = ids,\n",
    "        rejectedCorners = rejectedImgPoints,\n",
    "        cameraMatrix = _webcam_cam_mat,\n",
    "        distCoeffs = _webcam_dist)\n",
    "\n",
    "    if len(markerCorners) == 0:\n",
    "        counter += 1\n",
    "        continue\n",
    "\n",
    "    img_name = f\"image_{counter}.png\"\n",
    "\n",
    "    label_name = img_name.split(\".\")[0]\n",
    "    label_path = os.path.join(raw_data_pth, \"labels\", f\"{label_name}.txt\")\n",
    "    label_file = open(label_path, \"w\", newline='')\n",
    "    label_writer = csv.writer(label_file, delimiter=\" \")\n",
    "\n",
    "    _class_name = \"\"\n",
    "\n",
    "    if default_ids[0] not in ids:\n",
    "        doesnt_exist.append(default_ids[0])\n",
    "    if default_ids[1] not in ids:\n",
    "        doesnt_exist.append(default_ids[1])\n",
    "    if default_ids[2] not in ids:\n",
    "        doesnt_exist.append(default_ids[2])\n",
    "\n",
    "    for _inx, _id in enumerate(ids):\n",
    "        \n",
    "        if _id in default_ids:\n",
    "            if _id[0] == default_ids[0]:\n",
    "                _class_name = \"0\"\n",
    "            elif _id[0] == default_ids[1]:\n",
    "                _class_name = \"1\"\n",
    "            elif _id[0] == default_ids[2]:\n",
    "                _class_name = \"2\"\n",
    "            \n",
    "            _markerCorners = markerCorners[_inx][0]\n",
    "            bbox_x,bbox_y,bbox_width,bbox_height = cv2.boundingRect(_markerCorners)\n",
    "\n",
    "            bbox_x = bbox_x / width\n",
    "            bbox_y = bbox_y / height\n",
    "\n",
    "            bbox_center_x = bbox_x + bbox_width / (2 * width)\n",
    "            bbox_center_y = bbox_y + bbox_height / (2 * height)\n",
    "\n",
    "            bbox_width = bbox_width / width\n",
    "            bbox_height = bbox_height / height\n",
    "            \n",
    "            if DATASET_FORMAT == \"SEGMENTATION\":\n",
    "                label_writer.writerow([_class_name,_markerCorners[0][0]/width, _markerCorners[0][1]/height, _markerCorners[1][0]/width, _markerCorners[1][1]/height, _markerCorners[2][0]/width, _markerCorners[2][1]/height, _markerCorners[3][0]/width, _markerCorners[3][1]/height, _markerCorners[0][0]/width, _markerCorners[0][1]/height])\n",
    "            elif DATASET_FORMAT == \"POSE\":\n",
    "                label_writer.writerow([_class_name, bbox_center_x, bbox_center_y, bbox_width, bbox_height,_markerCorners[0][0]/width, _markerCorners[0][1]/height, _markerCorners[1][0]/width, _markerCorners[1][1]/height, _markerCorners[2][0]/width, _markerCorners[2][1]/height, _markerCorners[3][0]/width, _markerCorners[3][1]/height, _markerCorners[0][0]/width, _markerCorners[0][1]/height])\n",
    "\n",
    "    label_file.close()\n",
    "    doesnt_exist = []\n",
    "    # save image\n",
    "    image_path = os.path.join(raw_data_pth, \"images\", img_name)\n",
    "    cv2.imwrite(image_path, _frame)\n",
    "    counter += 1\n",
    "\n",
    "_video_file.close()"
   ]
  },
  {
   "cell_type": "code",
   "execution_count": 38,
   "metadata": {},
   "outputs": [
    {
     "name": "stderr",
     "output_type": "stream",
     "text": [
      "100%|██████████| 898/898 [00:25<00:00, 34.75it/s]\n"
     ]
    }
   ],
   "source": [
    "# splitting dataset into train and validation and test\n",
    "data_pth = os.path.abspath(os.path.join(os.getcwd(), os.pardir))\n",
    "data_pth = os.path.join(data_pth, 'dataset',\"multi_class\", \"dataset_processed\")\n",
    "\n",
    "images_pth = os.path.join(data_pth, \"images\")\n",
    "labels_pth = os.path.join(data_pth, \"labels\")\n",
    "\n",
    "if not os.path.exists(images_pth):\n",
    "    os.makedirs(os.path.join(images_pth, \"train\"))\n",
    "    os.makedirs(os.path.join(images_pth, \"val\"))\n",
    "    os.makedirs(os.path.join(images_pth, \"test\"))\n",
    "\n",
    "if not os.path.exists(labels_pth):\n",
    "    os.makedirs(os.path.join(labels_pth, \"train\"))\n",
    "    os.makedirs(os.path.join(labels_pth, \"val\"))\n",
    "    os.makedirs(os.path.join(labels_pth, \"test\"))\n",
    "    \n",
    "    \n",
    "image_list = os.listdir(os.path.join(raw_data_pth, \"images\"))\n",
    "\n",
    "# splitting dataset into train and test\n",
    "for img_name in tqdm(image_list):\n",
    "    \n",
    "    _image_path = os.path.join(raw_data_pth, \"images\", img_name)\n",
    "    image = cv2.imread(_image_path)\n",
    "    \n",
    "    label_name = img_name.split(\".\")[0]\n",
    "    label_path = os.path.join(raw_data_pth, \"labels\", f\"{label_name}.txt\")\n",
    "    label_file = open(label_path, \"r\")\n",
    "    label_reader = csv.reader(label_file, delimiter=\" \")\n",
    "    label = list(label_reader)\n",
    "\n",
    "    label_file.close()\n",
    "    \n",
    "    # if int(label[0]) == 0:\n",
    "    if np.random.rand() < 0.7:\n",
    "        # save image\n",
    "        image_path = os.path.join(os.path.join(images_pth, \"train\"), img_name)\n",
    "        cv2.imwrite(image_path, image)\n",
    "        \n",
    "        label_path = os.path.join(os.path.join(labels_pth, \"train\"), f\"{label_name}.txt\")\n",
    "        label_file = open(label_path, \"w\")\n",
    "        label_writer = csv.writer(label_file, delimiter=\" \")\n",
    "        for l in label:\n",
    "            label_writer.writerow(l)\n",
    "        label_file.close()\n",
    "        \n",
    "    elif np.random.rand() < 0.9 and np.random.rand() > 0.7:\n",
    "        # save image\n",
    "        image_path = os.path.join(os.path.join(images_pth, \"val\"), img_name)\n",
    "        cv2.imwrite(image_path, image)\n",
    "        \n",
    "        label_path = os.path.join(os.path.join(labels_pth, \"val\"), f\"{label_name}.txt\")\n",
    "        label_file = open(label_path, \"w\")\n",
    "        label_writer = csv.writer(label_file, delimiter=\" \")\n",
    "        for l in label:\n",
    "            label_writer.writerow(l)\n",
    "        label_file.close()\n",
    "        \n",
    "    else:\n",
    "        # save image\n",
    "        image_path = os.path.join(os.path.join(images_pth, \"test\"), img_name)\n",
    "        cv2.imwrite(image_path, image)\n",
    "        \n",
    "        label_path = os.path.join(os.path.join(labels_pth, \"test\"), f\"{label_name}.txt\")\n",
    "        label_file = open(label_path, \"w\")\n",
    "        label_writer = csv.writer(label_file, delimiter=\" \")\n",
    "        for l in label:\n",
    "            label_writer.writerow(l)\n",
    "        label_file.close() \n"
   ]
  },
  {
   "cell_type": "code",
   "execution_count": null,
   "metadata": {},
   "outputs": [],
   "source": []
  }
 ],
 "metadata": {
  "kernelspec": {
   "display_name": "py310",
   "language": "python",
   "name": "python3"
  },
  "language_info": {
   "codemirror_mode": {
    "name": "ipython",
    "version": 3
   },
   "file_extension": ".py",
   "mimetype": "text/x-python",
   "name": "python",
   "nbconvert_exporter": "python",
   "pygments_lexer": "ipython3",
   "version": "3.11.4"
  },
  "orig_nbformat": 4
 },
 "nbformat": 4,
 "nbformat_minor": 2
}
