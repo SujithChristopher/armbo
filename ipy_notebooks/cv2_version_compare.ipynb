{
 "cells": [
  {
   "cell_type": "code",
   "execution_count": 2,
   "metadata": {},
   "outputs": [],
   "source": [
    "from cv2 import aruco\n",
    "import cv2\n",
    "import numpy as np\n",
    "import matplotlib.pyplot as plt\n",
    "import msgpack as mp\n",
    "import msgpack_numpy as mpn\n",
    "import os\n",
    "\n",
    "from tqdm import tqdm\n",
    "import csv"
   ]
  },
  {
   "cell_type": "code",
   "execution_count": 3,
   "metadata": {},
   "outputs": [
    {
     "data": {
      "text/plain": [
       "array([[671.25534529,   0.        , 678.00736213],\n",
       "       [  0.        , 692.23316717, 443.37269229],\n",
       "       [  0.        ,   0.        ,   1.        ]])"
      ]
     },
     "execution_count": 3,
     "metadata": {},
     "output_type": "execute_result"
    }
   ],
   "source": [
    "_pth = os.getcwd()\n",
    "_pth = os.path.dirname(_pth)\n",
    "_parent_folder = \"cam_june_22_2023\"\n",
    "_calib_folder_name = \"calibration_00\"\n",
    "\n",
    "_folder_name = \"sk40_30_4_rotation_mocap_7\"\n",
    "# _folder_name = \"board\"\n",
    "\n",
    "_base_pth = os.path.join(_pth,\"recorded_data\",_parent_folder)\n",
    "\n",
    "_webcam_calib_folder = os.path.join(_pth,\"recorded_data\",_parent_folder,_calib_folder_name)\n",
    "_webcam_calib_folder = os.path.join(_webcam_calib_folder)\n",
    "_webcam_calib_pth = os.path.join( _webcam_calib_folder, \"webcam_calibration.msgpack\")\n",
    "\n",
    "with open(_webcam_calib_pth, \"rb\") as f:\n",
    "    webcam_calib = mp.Unpacker(f, object_hook=mpn.decode)\n",
    "    _temp = next(webcam_calib)\n",
    "    _webcam_cam_mat = _temp[0]\n",
    "    _webcam_dist = _temp[1]\n",
    "\n",
    "_webcam_cam_mat"
   ]
  },
  {
   "cell_type": "code",
   "execution_count": 4,
   "metadata": {},
   "outputs": [],
   "source": [
    "ARUCO_PARAMETERS = aruco.DetectorParameters()\n",
    "ARUCO_DICT = aruco.getPredefinedDictionary(aruco.DICT_ARUCO_ORIGINAL)\n",
    "\n",
    "detector = aruco.ArucoDetector(ARUCO_DICT, ARUCO_PARAMETERS)\n",
    "\n",
    "markerLength = 0.05\n",
    "markerSeperation = 0.01\n",
    "\n",
    "board = aruco.GridBoard(\n",
    "        size= [1,1],\n",
    "        markerLength=markerLength,\n",
    "        markerSeparation=markerSeperation,\n",
    "        dictionary=ARUCO_DICT)"
   ]
  },
  {
   "cell_type": "code",
   "execution_count": 5,
   "metadata": {},
   "outputs": [],
   "source": [
    "# timestamp\n",
    "ts = []\n",
    "ts_pth = os.path.join(_base_pth, _folder_name, \"webcam_timestamp.msgpack\")\n",
    "ts_file = open(ts_pth, \"rb\")\n",
    "ts_unpacker = mp.Unpacker(ts_file, object_hook=mpn.decode)\n",
    "for ts_data in ts_unpacker:\n",
    "    ts.append(ts_data)"
   ]
  },
  {
   "cell_type": "code",
   "execution_count": 6,
   "metadata": {},
   "outputs": [],
   "source": [
    "objectpoints = np.zeros([4, 1, cv2.CV_32FC3])"
   ]
  },
  {
   "cell_type": "code",
   "execution_count": 11,
   "metadata": {},
   "outputs": [
    {
     "data": {
      "text/plain": [
       "4"
      ]
     },
     "execution_count": 11,
     "metadata": {},
     "output_type": "execute_result"
    }
   ],
   "source": [
    "len(objectpoints)"
   ]
  },
  {
   "cell_type": "code",
   "execution_count": 37,
   "metadata": {},
   "outputs": [],
   "source": [
    "def my_estimatePoseSingleMarkers(corners, marker_size, mtx, distortion):\n",
    "\n",
    "    marker_points = np.array([[-marker_size / 2, marker_size / 2, 0],\n",
    "                              [marker_size / 2, marker_size / 2, 0],\n",
    "                              [marker_size / 2, -marker_size / 2, 0],\n",
    "                              [-marker_size / 2, -marker_size / 2, 0]], dtype=np.float32)\n",
    "    trash = []\n",
    "    rvecs = []\n",
    "    tvecs = []\n",
    "    for c in corners:\n",
    "        nada, R, t = cv2.solvePnP(marker_points, c, mtx, distortion, False, flags= cv2.SOLVEPNP_ITERATIVE)\n",
    "        rvecs.append(R)\n",
    "        tvecs.append(t)\n",
    "        trash.append(nada)\n",
    "    return rvecs, tvecs, trash"
   ]
  },
  {
   "cell_type": "code",
   "execution_count": 38,
   "metadata": {},
   "outputs": [],
   "source": [
    "_video_pth = os.path.join(_base_pth,_folder_name,\"webcam_color.msgpack\")\n",
    "_video_file = open(_video_pth, \"rb\")\n",
    "_video_data = mp.Unpacker(_video_file, object_hook=mpn.decode)\n",
    "\n",
    "\n",
    "\n",
    "for _frame in _video_data:\n",
    "    corners, ids, rejectedpoints = detector.detectMarkers(_frame)\n",
    "    # refine corners\n",
    "    corners, ids, rejectedpoints,_ = detector.refineDetectedMarkers(image=_frame,board=board ,detectedCorners=corners, detectedIds=ids, rejectedCorners=rejectedpoints, cameraMatrix=_webcam_cam_mat, distCoeffs=_webcam_dist)\n",
    "    rvec, tvec, _ = my_estimatePoseSingleMarkers(corners=corners, marker_size=markerLength, mtx=_webcam_cam_mat, distortion=_webcam_dist)\n",
    "    rvec = np.array(rvec[0]).reshape(1, 3)\n",
    "    tvec = np.array(tvec[0]).reshape(1, 3)\n",
    "    # print(rvec)\n",
    "    _frame = cv2.drawFrameAxes(_frame, _webcam_cam_mat, _webcam_dist, rvec, tvec, 0.04)\n",
    "    \n",
    "    cv2.imshow(\"frame\", _frame)\n",
    "    \n",
    "    if cv2.waitKey(1) & 0xFF == ord('q'):\n",
    "        break\n",
    "cv2.destroyAllWindows()"
   ]
  },
  {
   "cell_type": "code",
   "execution_count": null,
   "metadata": {},
   "outputs": [
    {
     "data": {
      "text/plain": [
       "1"
      ]
     },
     "execution_count": 31,
     "metadata": {},
     "output_type": "execute_result"
    }
   ],
   "source": [
    "np.array(corners).shape[0]"
   ]
  },
  {
   "cell_type": "code",
   "execution_count": 10,
   "metadata": {},
   "outputs": [
    {
     "data": {
      "text/plain": [
       "4"
      ]
     },
     "execution_count": 10,
     "metadata": {},
     "output_type": "execute_result"
    }
   ],
   "source": [
    "len(np.array(corners[0][0]))"
   ]
  },
  {
   "cell_type": "code",
   "execution_count": null,
   "metadata": {},
   "outputs": [],
   "source": []
  }
 ],
 "metadata": {
  "kernelspec": {
   "display_name": "py310",
   "language": "python",
   "name": "python3"
  },
  "language_info": {
   "codemirror_mode": {
    "name": "ipython",
    "version": 3
   },
   "file_extension": ".py",
   "mimetype": "text/x-python",
   "name": "python",
   "nbconvert_exporter": "python",
   "pygments_lexer": "ipython3",
   "version": "3.10.12"
  },
  "orig_nbformat": 4
 },
 "nbformat": 4,
 "nbformat_minor": 2
}
