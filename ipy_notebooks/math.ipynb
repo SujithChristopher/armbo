{
 "cells": [
  {
   "cell_type": "code",
   "execution_count": 3,
   "metadata": {},
   "outputs": [],
   "source": [
    "import numpy as np\n",
    "from scipy import stats as st\n",
    "\n",
    "import ray\n",
    "import time"
   ]
  },
  {
   "cell_type": "code",
   "execution_count": 4,
   "metadata": {},
   "outputs": [],
   "source": [
    "val = np.random.normal(0, 1, 1000000)"
   ]
  },
  {
   "cell_type": "code",
   "execution_count": 3,
   "metadata": {},
   "outputs": [
    {
     "data": {
      "text/plain": [
       "0.0"
      ]
     },
     "execution_count": 3,
     "metadata": {},
     "output_type": "execute_result"
    }
   ],
   "source": [
    "st.median_abs_deviation(val)"
   ]
  },
  {
   "cell_type": "code",
   "execution_count": 4,
   "metadata": {},
   "outputs": [
    {
     "name": "stdout",
     "output_type": "stream",
     "text": [
      "{'path': '/content/dataset.yaml', 'train': '/content/dataset_processed/images/train', 'val': '/content/dataset_processed/images/val', 'test': '/content/dataset_processed/images/test', 'kpt_shape': [5, 2], 'names': {0: 'ArUco'}}\n"
     ]
    }
   ],
   "source": [
    "pth = r\"C:\\Users\\CMC\\Documents\\openposelibs\\pose\\DeepVision\\dataset\\dataset.yaml\"\n",
    "\n",
    "import yaml\n",
    "with open(pth, 'r') as stream:\n",
    "    try:\n",
    "        print(yaml.safe_load(stream))\n",
    "    except yaml.YAMLError as exc:\n",
    "        print(exc)"
   ]
  },
  {
   "cell_type": "code",
   "execution_count": 6,
   "metadata": {},
   "outputs": [
    {
     "ename": "NameError",
     "evalue": "name 'ray' is not defined",
     "output_type": "error",
     "traceback": [
      "\u001b[1;31m---------------------------------------------------------------------------\u001b[0m",
      "\u001b[1;31mNameError\u001b[0m                                 Traceback (most recent call last)",
      "Cell \u001b[1;32mIn[6], line 1\u001b[0m\n\u001b[1;32m----> 1\u001b[0m ray\u001b[39m.\u001b[39minit()\n\u001b[0;32m      3\u001b[0m \u001b[39m@ray\u001b[39m\u001b[39m.\u001b[39mremote\n\u001b[0;32m      4\u001b[0m \u001b[39mdef\u001b[39;00m \u001b[39mHeavyComputationThatIsThreadSafe\u001b[39m(element):\n\u001b[0;32m      5\u001b[0m     element \u001b[39m=\u001b[39m element \u001b[39m+\u001b[39m \u001b[39m1\u001b[39m\n",
      "\u001b[1;31mNameError\u001b[0m: name 'ray' is not defined"
     ]
    }
   ],
   "source": [
    "\n",
    "\n",
    "ray.init()\n",
    "\n",
    "@ray.remote\n",
    "def HeavyComputationThatIsThreadSafe(element):\n",
    "    element = element + 1\n",
    "    return element\n",
    "\n",
    "output_ids = []\n",
    "for i in val:\n",
    "    output_ids.append(HeavyComputationThatIsThreadSafe.remote(i))\n",
    "\n",
    "# Get results when ready.\n",
    "output_list = ray.get(output_ids)\n",
    "outputs = np.array(output_list)\n"
   ]
  },
  {
   "cell_type": "code",
   "execution_count": null,
   "metadata": {},
   "outputs": [],
   "source": []
  }
 ],
 "metadata": {
  "kernelspec": {
   "display_name": "py310",
   "language": "python",
   "name": "python3"
  },
  "language_info": {
   "codemirror_mode": {
    "name": "ipython",
    "version": 3
   },
   "file_extension": ".py",
   "mimetype": "text/x-python",
   "name": "python",
   "nbconvert_exporter": "python",
   "pygments_lexer": "ipython3",
   "version": "3.10.12"
  },
  "orig_nbformat": 4
 },
 "nbformat": 4,
 "nbformat_minor": 2
}
