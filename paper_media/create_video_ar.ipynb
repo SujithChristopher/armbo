{
 "cells": [
  {
   "cell_type": "code",
   "execution_count": 29,
   "metadata": {},
   "outputs": [],
   "source": [
    "import numpy as np\n",
    "import msgpack as mp\n",
    "import msgpack_numpy as mpn\n",
    "import cv2\n",
    "from cv2 import aruco\n",
    "import os\n",
    "import sys\n",
    "import toml\n",
    "import tqdm\n",
    "from ultralytics import YOLO"
   ]
  },
  {
   "cell_type": "code",
   "execution_count": 30,
   "metadata": {},
   "outputs": [],
   "source": [
    "_pth = toml.load(\"DATA_PATH.toml\")[\"data_path\"][\"directory\"]\n",
    "_pth = os.path.dirname(_pth)\n",
    "_parent_folder = \"paper\"\n",
    "_calib_folder_name = \"calibration_00\"\n",
    "\n",
    "_base_pth = os.path.join(_pth, \"recorded_data\", _parent_folder)\n",
    "# _folder_list = os.listdir(_base_pth)[10:15] # forward\n",
    "_folder_list = os.listdir(_base_pth)[15:]  # sideways\n",
    "# _folder_list = os.listdir(_base_pth)[25:] # spots\n",
    "_folder_name = _folder_list[0]\n",
    "\n",
    "\n",
    "_webcam_calib_folder = os.path.join(\n",
    "    _pth, \"recorded_data\", _parent_folder, _calib_folder_name\n",
    ")\n",
    "_webcam_calib_folder = os.path.join(_webcam_calib_folder)\n",
    "_webcam_calib_pth = os.path.join(_webcam_calib_folder, \"webcam_calibration.msgpack\")\n",
    "\n",
    "with open(_webcam_calib_pth, \"rb\") as f:\n",
    "    webcam_calib = mp.Unpacker(f, object_hook=mpn.decode)\n",
    "    _temp = next(webcam_calib)\n",
    "    _webcam_cam_mat = _temp[0]\n",
    "    _webcam_dist = _temp[1]\n",
    "\n",
    "ar_lframe_pth = os.path.join(_webcam_calib_folder, \"spots_rotmat.msgpack\")\n",
    "with open(ar_lframe_pth, \"rb\") as f:\n",
    "    ar_lframe = mp.Unpacker(f, object_hook=mpn.decode)\n",
    "    _ar_lframe_rot = next(ar_lframe)\n",
    "    _ar_lframe_org = next(ar_lframe)"
   ]
  },
  {
   "cell_type": "markdown",
   "metadata": {},
   "source": [
    "## Estimate marker pose"
   ]
  },
  {
   "cell_type": "code",
   "execution_count": 31,
   "metadata": {},
   "outputs": [],
   "source": [
    "def estimatePoseSingleMarkers(corners, marker_size, mtx, distortion):\n",
    "    marker_points = np.array(\n",
    "        [\n",
    "            [-marker_size / 2, marker_size / 2, 0],\n",
    "            [marker_size / 2, marker_size / 2, 0],\n",
    "            [marker_size / 2, -marker_size / 2, 0],\n",
    "            [-marker_size / 2, -marker_size / 2, 0],\n",
    "        ],\n",
    "        dtype=np.float32,\n",
    "    )\n",
    "    trash = []\n",
    "    rvecs = []\n",
    "    tvecs = []\n",
    "    for c in corners:\n",
    "        nada, R, t = cv2.solvePnP(\n",
    "            marker_points, c, mtx, distortion, True, flags=cv2.SOLVEPNP_ITERATIVE\n",
    "        )\n",
    "\n",
    "        if not (R is None or t is None):\n",
    "            R = np.array(R).reshape(1, 3).tolist()\n",
    "            t = np.array(t).reshape(1, 3).tolist()\n",
    "\n",
    "        rvecs.append(R)\n",
    "        tvecs.append(t)\n",
    "    return rvecs, tvecs"
   ]
  },
  {
   "cell_type": "code",
   "execution_count": 32,
   "metadata": {},
   "outputs": [],
   "source": [
    "ARUCO_PARAMETERS = aruco.DetectorParameters()\n",
    "ARUCO_DICT = aruco.getPredefinedDictionary(aruco.DICT_ARUCO_MIP_36H12)\n",
    "detector = aruco.ArucoDetector(ARUCO_DICT, ARUCO_PARAMETERS)\n",
    "markerLength = int(_folder_name.split(\"_\")[2]) / 100\n",
    "markerSeperation = 0.01\n",
    "\n",
    "board = aruco.GridBoard(\n",
    "    size=[1, 1],\n",
    "    markerLength=markerLength,\n",
    "    markerSeparation=markerSeperation,\n",
    "    dictionary=ARUCO_DICT,\n",
    ")"
   ]
  },
  {
   "cell_type": "code",
   "execution_count": 33,
   "metadata": {},
   "outputs": [],
   "source": [
    "# Create vectors we'll be using for rotations and translations for postures\n",
    "rotation_vectors, translation_vectors = None, None\n",
    "axis = np.float32(\n",
    "    [\n",
    "        [-0.5, -0.5, 0],\n",
    "        [-0.5, 0.5, 0],\n",
    "        [0.5, 0.5, 0],\n",
    "        [0.5, -0.5, 0],\n",
    "        [-0.5, -0.5, 1],\n",
    "        [-0.5, 0.5, 1],\n",
    "        [0.5, 0.5, 1],\n",
    "        [0.5, -0.5, 1],\n",
    "    ]\n",
    ")"
   ]
  },
  {
   "cell_type": "code",
   "execution_count": 34,
   "metadata": {},
   "outputs": [],
   "source": [
    "_video_pth = os.path.join(_base_pth, _folder_name, \"webcam_color.msgpack\")\n",
    "_video_file = open(_video_pth, \"rb\")\n",
    "_video_data = mp.Unpacker(_video_file, object_hook=mpn.decode)\n",
    "\n",
    "# open video file for writing\n",
    "_video_file_name = _folder_name + \"_ar.mp4\"\n",
    "_video_file_name = os.path.join(_base_pth, _folder_name, _video_file_name)\n",
    "_new_video = cv2.VideoWriter(\n",
    "    _video_file_name, cv2.VideoWriter_fourcc(*\"mp4v\"), 3, (1280, 720)\n",
    ")\n",
    "\n",
    "for _frame in _video_data:\n",
    "    shape = _frame.shape\n",
    "    gray = cv2.cvtColor(_frame, cv2.COLOR_BGR2GRAY)\n",
    "    corners, ids, rejectedpoints = detector.detectMarkers(_frame)\n",
    "    # refine corners\n",
    "    corners, ids, rejectedpoints, _ = detector.refineDetectedMarkers(\n",
    "        image=_frame,\n",
    "        board=board,\n",
    "        detectedCorners=corners,\n",
    "        detectedIds=ids,\n",
    "        rejectedCorners=rejectedpoints,\n",
    "        cameraMatrix=_webcam_cam_mat,\n",
    "        distCoeffs=_webcam_dist,\n",
    "    )\n",
    "    rotation_vectors, translation_vectors = estimatePoseSingleMarkers(\n",
    "        corners=corners,\n",
    "        marker_size=markerLength,\n",
    "        mtx=_webcam_cam_mat,\n",
    "        distortion=_webcam_dist,\n",
    "    )\n",
    "\n",
    "    for rvec, tvec in zip(rotation_vectors, translation_vectors):\n",
    "        rvec = np.array(rvec)\n",
    "        tvec = np.array(tvec)\n",
    "        _frame = aruco.drawDetectedMarkers(_frame, corners=corners, ids=ids)\n",
    "\n",
    "        _frame = cv2.drawFrameAxes(\n",
    "            _frame, _webcam_cam_mat, _webcam_dist, rvec, tvec, 0.05\n",
    "        )\n",
    "\n",
    "    _new_video.write(_frame)\n",
    "\n",
    "    cv2.imshow(\"frame\", _frame)\n",
    "    if cv2.waitKey(1) & 0xFF == ord(\"q\"):\n",
    "        break\n",
    "\n",
    "_new_video.release()\n",
    "_video_file.close()\n",
    "cv2.destroyAllWindows()"
   ]
  },
  {
   "cell_type": "markdown",
   "metadata": {},
   "source": [
    "## YOLO"
   ]
  },
  {
   "cell_type": "code",
   "execution_count": 35,
   "metadata": {},
   "outputs": [],
   "source": [
    "model = YOLO(r\"D:\\CMC\\DeepVision\\models_save\\mip_p2_60e_noise.pt\")"
   ]
  },
  {
   "cell_type": "code",
   "execution_count": 36,
   "metadata": {},
   "outputs": [],
   "source": [
    "_video_pth = os.path.join(_base_pth, _folder_name, \"webcam_color.msgpack\")\n",
    "_video_file = open(_video_pth, \"rb\")\n",
    "_video_data = mp.Unpacker(_video_file, object_hook=mpn.decode)\n",
    "\n",
    "# open video file for writing\n",
    "_video_file_name = _folder_name + \"_yolo.mp4\"\n",
    "_video_file_name = os.path.join(_base_pth, _folder_name, _video_file_name)\n",
    "_new_video = cv2.VideoWriter(\n",
    "    _video_file_name, cv2.VideoWriter_fourcc(*\"mp4v\"), 3, (1280, 720)\n",
    ")\n",
    "\n",
    "for _frame in _video_data:\n",
    "    shape = _frame.shape\n",
    "    yolo_results = model.predict(_frame, verbose=False)[0]\n",
    "    _frame = yolo_results.plot()\n",
    "\n",
    "    _new_video.write(_frame)\n",
    "\n",
    "    cv2.imshow(\"frame\", _frame)\n",
    "    if cv2.waitKey(1) & 0xFF == ord(\"q\"):\n",
    "        break\n",
    "\n",
    "_new_video.release()\n",
    "_video_file.close()\n",
    "cv2.destroyAllWindows()"
   ]
  },
  {
   "cell_type": "code",
   "execution_count": null,
   "metadata": {},
   "outputs": [],
   "source": []
  }
 ],
 "metadata": {
  "kernelspec": {
   "display_name": "py11",
   "language": "python",
   "name": "python3"
  },
  "language_info": {
   "codemirror_mode": {
    "name": "ipython",
    "version": 3
   },
   "file_extension": ".py",
   "mimetype": "text/x-python",
   "name": "python",
   "nbconvert_exporter": "python",
   "pygments_lexer": "ipython3",
   "version": "3.11.4"
  }
 },
 "nbformat": 4,
 "nbformat_minor": 2
}
